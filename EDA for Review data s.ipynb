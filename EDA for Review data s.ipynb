{
 "cells": [
  {
   "cell_type": "code",
   "execution_count": 381,
   "metadata": {},
   "outputs": [],
   "source": [
    "import pandas as pd \n",
    "import numpy as np \n",
    "import re"
   ]
  },
  {
   "cell_type": "code",
   "execution_count": 382,
   "metadata": {},
   "outputs": [],
   "source": [
    "df = pd.read_csv(\"10_Reviews.csv\" , index_col=0)"
   ]
  },
  {
   "cell_type": "code",
   "execution_count": 383,
   "metadata": {},
   "outputs": [
    {
     "name": "stdout",
     "output_type": "stream",
     "text": [
      "<class 'pandas.core.frame.DataFrame'>\n",
      "Index: 62884 entries, 0 to 62883\n",
      "Data columns (total 5 columns):\n",
      " #   Column         Non-Null Count  Dtype \n",
      "---  ------         --------------  ----- \n",
      " 0   BusinessId     62884 non-null  int64 \n",
      " 1   review_id      62884 non-null  int64 \n",
      " 2   rating         62884 non-null  int64 \n",
      " 3   comment        41021 non-null  object\n",
      " 4   creation_date  62884 non-null  object\n",
      "dtypes: int64(3), object(2)\n",
      "memory usage: 2.9+ MB\n"
     ]
    }
   ],
   "source": [
    "df.info()"
   ]
  },
  {
   "cell_type": "code",
   "execution_count": 384,
   "metadata": {},
   "outputs": [
    {
     "data": {
      "text/plain": [
       "BusinessId\n",
       "39976     4596\n",
       "77092     3333\n",
       "48246     1813\n",
       "24519     1553\n",
       "257509    1204\n",
       "216993    1186\n",
       "15908     1167\n",
       "51267      967\n",
       "1045       881\n",
       "2897       808\n",
       "24974      676\n",
       "44461      656\n",
       "258697     623\n",
       "86675      585\n",
       "214933     507\n",
       "17184      493\n",
       "96402      476\n",
       "89771      466\n",
       "7855       444\n",
       "218848     435\n",
       "42825      408\n",
       "64629      393\n",
       "238860     393\n",
       "49372      392\n",
       "669        389\n",
       "212567     388\n",
       "235945     377\n",
       "90277      375\n",
       "235942     375\n",
       "1491       371\n",
       "205        368\n",
       "27327      368\n",
       "176761     345\n",
       "204828     334\n",
       "235951     325\n",
       "287679     312\n",
       "117172     308\n",
       "1428       302\n",
       "3114       299\n",
       "242704     287\n",
       "55142      279\n",
       "54686      275\n",
       "200629     257\n",
       "8889       255\n",
       "39658      249\n",
       "205289     235\n",
       "15853      213\n",
       "4341       211\n",
       "107585     207\n",
       "93932      206\n",
       "Name: count, dtype: int64"
      ]
     },
     "execution_count": 384,
     "metadata": {},
     "output_type": "execute_result"
    }
   ],
   "source": [
    "df['BusinessId'].value_counts().head(50)"
   ]
  },
  {
   "cell_type": "code",
   "execution_count": 385,
   "metadata": {},
   "outputs": [],
   "source": [
    "df['creation_date'] = df['creation_date'].astype('datetime64[ns]')"
   ]
  },
  {
   "cell_type": "code",
   "execution_count": 386,
   "metadata": {},
   "outputs": [
    {
     "name": "stderr",
     "output_type": "stream",
     "text": [
      "C:\\Users\\gharb\\AppData\\Local\\Temp\\ipykernel_12420\\2178317339.py:1: FutureWarning: A value is trying to be set on a copy of a DataFrame or Series through chained assignment using an inplace method.\n",
      "The behavior will change in pandas 3.0. This inplace method will never work because the intermediate object on which we are setting values always behaves as a copy.\n",
      "\n",
      "For example, when doing 'df[col].method(value, inplace=True)', try using 'df.method({col: value}, inplace=True)' or df[col] = df[col].method(value) instead, to perform the operation inplace on the original object.\n",
      "\n",
      "\n",
      "  df['comment'].fillna('لا يوجد' , inplace=True)\n"
     ]
    }
   ],
   "source": [
    "df['comment'].fillna('لا يوجد' , inplace=True)"
   ]
  },
  {
   "cell_type": "code",
   "execution_count": 387,
   "metadata": {},
   "outputs": [],
   "source": [
    "df['comment'][df['comment'] == 'ممتاز '] = df['comment'][df['comment'] == 'ممتاز '].replace('ممتاز ' , 'ممتاز') "
   ]
  },
  {
   "cell_type": "code",
   "execution_count": 388,
   "metadata": {},
   "outputs": [
    {
     "data": {
      "text/plain": [
       "BusinessId       0\n",
       "review_id        0\n",
       "rating           0\n",
       "comment          0\n",
       "creation_date    0\n",
       "dtype: int64"
      ]
     },
     "execution_count": 388,
     "metadata": {},
     "output_type": "execute_result"
    }
   ],
   "source": [
    "df.isnull().sum()"
   ]
  },
  {
   "cell_type": "markdown",
   "metadata": {},
   "source": [
    "### clean data for seg"
   ]
  },
  {
   "cell_type": "code",
   "execution_count": 389,
   "metadata": {},
   "outputs": [],
   "source": [
    "import pyarabic.araby as ar\n",
    "\n",
    "# import Stemmer\n",
    "import functools, operator\n",
    "import logging\n",
    "\n",
    "logging.basicConfig(level=logging.WARNING)\n",
    "logger = logging.getLogger(__name__)"
   ]
  },
  {
   "cell_type": "code",
   "execution_count": 390,
   "metadata": {},
   "outputs": [],
   "source": [
    "arabic_stop_words=[]\n",
    "with open ('Arabic_stop_words.txt',encoding='utf-8') as f :\n",
    "    for i in f.readlines() :\n",
    "        arabic_stop_words.append(i)\n",
    "        arabic_stop_words[-1]=arabic_stop_words[-1][:-1]"
   ]
  },
  {
   "cell_type": "code",
   "execution_count": 391,
   "metadata": {},
   "outputs": [],
   "source": [
    "import numpy as np\n",
    "import pandas as pd\n",
    "import re\n",
    "\n",
    "#============= Read CSV and apply data preperation =============#\n",
    "\n",
    "\n",
    "def data_preprocessing (data_frame):\n",
    "    # clean-up: remove #tags, http links and special symbols\n",
    "    # data_frame['comment']= data_frame['comment'].apply(lambda x: x[2:-2])\n",
    "    data_frame['comment']= data_frame['comment'].apply(lambda x: re.sub(r'http\\S+', '', x))\n",
    "    data_frame['comment'] = data_frame['comment'].apply(lambda x: re.sub(r'[@|#]\\S*', '', x))\n",
    "    data_frame['comment'] = data_frame['comment'].apply(lambda x: re.sub(r'\"+', '', x))\n",
    "\n",
    "    # Remove arabic signs\n",
    "    data_frame['comment'] = data_frame['comment'].apply(lambda x: re.sub(r'([@A-Za-z0-9_ـــــــــــــ]+)|[^\\w\\s]|#|http\\S+', '', x))\n",
    "\n",
    "    # Remove repeated letters like \"الللللللللللللللله\" to \"الله\"\n",
    "    data_frame['comment'] = data_frame['comment'].apply(lambda x: x[0:2] + ''.join([x[i] for i in range(2, len(x)) if x[i]!=x[i-1] or x[i]!=x[i-2]]))\n",
    "\n",
    "    # remove stop words\n",
    "    # data_frame['comment'] = data_frame['comment'].apply(\n",
    "    # lambda x: ' '.join([word for word in x.split() if word not in arabic_stop_words]))\n",
    "    \n",
    "    from nltk.stem.isri import ISRIStemmer\n",
    "    data_frame['comment']=data_frame['comment'].apply(lambda x:ISRIStemmer().stem(x))\n",
    "\n",
    "    return data_frame"
   ]
  },
  {
   "cell_type": "code",
   "execution_count": 392,
   "metadata": {},
   "outputs": [],
   "source": [
    "import re\n",
    "import string\n",
    "import functools\n",
    "import operator\n",
    "import pyarabic.araby as ar\n",
    "import emoji\n",
    "\n",
    "def data_cleaning(text):\n",
    "    # Remove URLs\n",
    "    text = re.sub(r'^https?:\\/\\/.*[\\r\\n]*', '', text, flags=re.MULTILINE)\n",
    "    text = re.sub(r'^http?:\\/\\/.*[\\r\\n]*', '', text, flags=re.MULTILINE)\n",
    "    text = re.sub(r\"http\\S+\", \"\", text)\n",
    "    text = re.sub(r\"https\\S+\", \"\", text)\n",
    "    \n",
    "    # Replace multiple whitespaces with a single space\n",
    "    text = re.sub(r'\\s+', ' ', text)\n",
    "    \n",
    "    # Remove numbers\n",
    "    text = re.sub(r\"\\d+\", \" \", text)\n",
    "    \n",
    "    # Strip tashkeel and tatweel (diacritics and elongation)\n",
    "    text = ar.strip_tashkeel(text)\n",
    "    text = ar.strip_tatweel(text)\n",
    "    \n",
    "    # Replace special characters\n",
    "    text = text.replace(\"#\", \"\")\n",
    "    text = text.replace(\"@\", \"\")\n",
    "    text = text.replace(\"_\", \"\")\n",
    "    \n",
    "    # Remove punctuation\n",
    "    translator = str.maketrans('', '', string.punctuation)\n",
    "    text = text.translate(translator)\n",
    "    \n",
    "    # Remove emojis using emoji.replace_emoji\n",
    "    text = emoji.replace_emoji(text, replace=\"\")  # Replace emojis with an empty string\n",
    "    \n",
    "    # Remove repeated characters\n",
    "    text = re.sub(r'(.)\\1+', r'\\1', text)\n",
    "    \n",
    "    # Normalize Arabic letters\n",
    "    text = text.replace(\"آ\", \"ا\")\n",
    "    text = text.replace(\"إ\", \"ا\")\n",
    "    text = text.replace(\"أ\", \"ا\")\n",
    "    text = text.replace(\"ؤ\", \"و\")\n",
    "    text = text.replace(\"ئ\", \"ي\")\n",
    "    text = text.replace(\"ة\", \"ه\")\n",
    "    \n",
    "    return text\n"
   ]
  },
  {
   "cell_type": "code",
   "execution_count": 393,
   "metadata": {},
   "outputs": [
    {
     "data": {
      "text/html": [
       "<div>\n",
       "<style scoped>\n",
       "    .dataframe tbody tr th:only-of-type {\n",
       "        vertical-align: middle;\n",
       "    }\n",
       "\n",
       "    .dataframe tbody tr th {\n",
       "        vertical-align: top;\n",
       "    }\n",
       "\n",
       "    .dataframe thead th {\n",
       "        text-align: right;\n",
       "    }\n",
       "</style>\n",
       "<table border=\"1\" class=\"dataframe\">\n",
       "  <thead>\n",
       "    <tr style=\"text-align: right;\">\n",
       "      <th></th>\n",
       "      <th>BusinessId</th>\n",
       "      <th>review_id</th>\n",
       "      <th>rating</th>\n",
       "      <th>comment</th>\n",
       "      <th>creation_date</th>\n",
       "    </tr>\n",
       "  </thead>\n",
       "  <tbody>\n",
       "    <tr>\n",
       "      <th>0</th>\n",
       "      <td>60202</td>\n",
       "      <td>364189</td>\n",
       "      <td>1</td>\n",
       "      <td>كنت أتعامل معهم أسعارهم أرخص لكن آخر مرة حصلت ...</td>\n",
       "      <td>2024-05-11 05:56:29.327</td>\n",
       "    </tr>\n",
       "    <tr>\n",
       "      <th>1</th>\n",
       "      <td>60202</td>\n",
       "      <td>356203</td>\n",
       "      <td>1</td>\n",
       "      <td>عدم المصداقية في اسعار المنتجات</td>\n",
       "      <td>2024-03-06 08:08:24.190</td>\n",
       "    </tr>\n",
       "    <tr>\n",
       "      <th>2</th>\n",
       "      <td>60202</td>\n",
       "      <td>317781</td>\n",
       "      <td>1</td>\n",
       "      <td>متجر سئ جدا في مصداقيته في بيانات البضاعة وايض...</td>\n",
       "      <td>2023-02-18 15:41:20.320</td>\n",
       "    </tr>\n",
       "    <tr>\n",
       "      <th>3</th>\n",
       "      <td>60202</td>\n",
       "      <td>312616</td>\n",
       "      <td>1</td>\n",
       "      <td>يوجد</td>\n",
       "      <td>2023-01-18 10:17:30.503</td>\n",
       "    </tr>\n",
       "    <tr>\n",
       "      <th>4</th>\n",
       "      <td>60202</td>\n",
       "      <td>309154</td>\n",
       "      <td>1</td>\n",
       "      <td>يوجد</td>\n",
       "      <td>2023-01-01 03:54:11.487</td>\n",
       "    </tr>\n",
       "    <tr>\n",
       "      <th>...</th>\n",
       "      <td>...</td>\n",
       "      <td>...</td>\n",
       "      <td>...</td>\n",
       "      <td>...</td>\n",
       "      <td>...</td>\n",
       "    </tr>\n",
       "    <tr>\n",
       "      <th>62879</th>\n",
       "      <td>44461</td>\n",
       "      <td>61446</td>\n",
       "      <td>5</td>\n",
       "      <td>اكثر مايميز المتجر سرعة الرد والتوصيل السريع و...</td>\n",
       "      <td>2018-08-28 19:16:42.617</td>\n",
       "    </tr>\n",
       "    <tr>\n",
       "      <th>62880</th>\n",
       "      <td>44461</td>\n",
       "      <td>60746</td>\n",
       "      <td>5</td>\n",
       "      <td>تعامل مع متجر توليب تجربه تستحق اعادتها اكثر م...</td>\n",
       "      <td>2018-07-31 02:51:11.543</td>\n",
       "    </tr>\n",
       "    <tr>\n",
       "      <th>62881</th>\n",
       "      <td>44461</td>\n",
       "      <td>60443</td>\n",
       "      <td>5</td>\n",
       "      <td>تجربتي معها جمييله وانسانه ذوق واخلاق ومتعاونه...</td>\n",
       "      <td>2018-07-22 16:43:45.897</td>\n",
       "    </tr>\n",
       "    <tr>\n",
       "      <th>62882</th>\n",
       "      <td>44461</td>\n",
       "      <td>60180</td>\n",
       "      <td>5</td>\n",
       "      <td>متجر توليب جميل جدا والتعامل اجمل</td>\n",
       "      <td>2018-07-16 08:09:20.407</td>\n",
       "    </tr>\n",
       "    <tr>\n",
       "      <th>62883</th>\n",
       "      <td>44461</td>\n",
       "      <td>60179</td>\n",
       "      <td>5</td>\n",
       "      <td>يوجد</td>\n",
       "      <td>2018-07-16 06:12:50.920</td>\n",
       "    </tr>\n",
       "  </tbody>\n",
       "</table>\n",
       "<p>62884 rows × 5 columns</p>\n",
       "</div>"
      ],
      "text/plain": [
       "       BusinessId  review_id  rating  \\\n",
       "0           60202     364189       1   \n",
       "1           60202     356203       1   \n",
       "2           60202     317781       1   \n",
       "3           60202     312616       1   \n",
       "4           60202     309154       1   \n",
       "...           ...        ...     ...   \n",
       "62879       44461      61446       5   \n",
       "62880       44461      60746       5   \n",
       "62881       44461      60443       5   \n",
       "62882       44461      60180       5   \n",
       "62883       44461      60179       5   \n",
       "\n",
       "                                                 comment  \\\n",
       "0      كنت أتعامل معهم أسعارهم أرخص لكن آخر مرة حصلت ...   \n",
       "1                       عدم المصداقية في اسعار المنتجات    \n",
       "2      متجر سئ جدا في مصداقيته في بيانات البضاعة وايض...   \n",
       "3                                                   يوجد   \n",
       "4                                                   يوجد   \n",
       "...                                                  ...   \n",
       "62879  اكثر مايميز المتجر سرعة الرد والتوصيل السريع و...   \n",
       "62880  تعامل مع متجر توليب تجربه تستحق اعادتها اكثر م...   \n",
       "62881  تجربتي معها جمييله وانسانه ذوق واخلاق ومتعاونه...   \n",
       "62882                 متجر توليب جميل جدا والتعامل اجمل    \n",
       "62883                                               يوجد   \n",
       "\n",
       "                creation_date  \n",
       "0     2024-05-11 05:56:29.327  \n",
       "1     2024-03-06 08:08:24.190  \n",
       "2     2023-02-18 15:41:20.320  \n",
       "3     2023-01-18 10:17:30.503  \n",
       "4     2023-01-01 03:54:11.487  \n",
       "...                       ...  \n",
       "62879 2018-08-28 19:16:42.617  \n",
       "62880 2018-07-31 02:51:11.543  \n",
       "62881 2018-07-22 16:43:45.897  \n",
       "62882 2018-07-16 08:09:20.407  \n",
       "62883 2018-07-16 06:12:50.920  \n",
       "\n",
       "[62884 rows x 5 columns]"
      ]
     },
     "execution_count": 393,
     "metadata": {},
     "output_type": "execute_result"
    }
   ],
   "source": [
    "df['comment'].apply(lambda x: data_cleaning(x))\n",
    "df=data_preprocessing(df)\n",
    "df "
   ]
  },
  {
   "cell_type": "code",
   "execution_count": 394,
   "metadata": {},
   "outputs": [
    {
     "name": "stderr",
     "output_type": "stream",
     "text": [
      "C:\\Users\\gharb\\AppData\\Local\\Temp\\ipykernel_12420\\1146721195.py:1: FutureWarning: ChainedAssignmentError: behaviour will change in pandas 3.0!\n",
      "You are setting values through chained assignment. Currently this works in certain cases, but when using Copy-on-Write (which will become the default behaviour in pandas 3.0) this will never work to update the original DataFrame or Series, because the intermediate object on which we are setting values will behave as a copy.\n",
      "A typical example is when you are setting values in a column of a DataFrame, like:\n",
      "\n",
      "df[\"col\"][row_indexer] = value\n",
      "\n",
      "Use `df.loc[row_indexer, \"col\"] = values` instead, to perform the assignment in a single step and ensure this keeps updating the original `df`.\n",
      "\n",
      "See the caveats in the documentation: https://pandas.pydata.org/pandas-docs/stable/user_guide/indexing.html#returning-a-view-versus-a-copy\n",
      "\n",
      "  df['comment'][df['comment'] == ''] = df['comment'][df['comment'] == ''].replace('' , 'يوجد')\n",
      "C:\\Users\\gharb\\AppData\\Local\\Temp\\ipykernel_12420\\1146721195.py:1: SettingWithCopyWarning: \n",
      "A value is trying to be set on a copy of a slice from a DataFrame\n",
      "\n",
      "See the caveats in the documentation: https://pandas.pydata.org/pandas-docs/stable/user_guide/indexing.html#returning-a-view-versus-a-copy\n",
      "  df['comment'][df['comment'] == ''] = df['comment'][df['comment'] == ''].replace('' , 'يوجد')\n"
     ]
    }
   ],
   "source": [
    "df['comment'][df['comment'] == ''] = df['comment'][df['comment'] == ''].replace('' , 'يوجد') "
   ]
  },
  {
   "cell_type": "code",
   "execution_count": 396,
   "metadata": {},
   "outputs": [],
   "source": [
    "df.to_csv('10_reviews_No_stop.csv')"
   ]
  },
  {
   "cell_type": "code",
   "execution_count": null,
   "metadata": {},
   "outputs": [],
   "source": []
  }
 ],
 "metadata": {
  "kernelspec": {
   "display_name": "Python 3",
   "language": "python",
   "name": "python3"
  },
  "language_info": {
   "codemirror_mode": {
    "name": "ipython",
    "version": 3
   },
   "file_extension": ".py",
   "mimetype": "text/x-python",
   "name": "python",
   "nbconvert_exporter": "python",
   "pygments_lexer": "ipython3",
   "version": "3.11.9"
  }
 },
 "nbformat": 4,
 "nbformat_minor": 2
}
