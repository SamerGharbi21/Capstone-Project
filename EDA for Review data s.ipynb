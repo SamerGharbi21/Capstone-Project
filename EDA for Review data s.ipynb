{
 "cells": [
  {
   "cell_type": "code",
   "execution_count": 491,
   "metadata": {},
   "outputs": [],
   "source": [
    "import pandas as pd \n",
    "import numpy as np \n",
    "import re"
   ]
  },
  {
   "cell_type": "code",
   "execution_count": 492,
   "metadata": {},
   "outputs": [],
   "source": [
    "df = pd.read_csv(\"10_Reviews.csv\" , index_col=0)"
   ]
  },
  {
   "cell_type": "code",
   "execution_count": 493,
   "metadata": {},
   "outputs": [
    {
     "name": "stdout",
     "output_type": "stream",
     "text": [
      "<class 'pandas.core.frame.DataFrame'>\n",
      "Index: 62884 entries, 0 to 62883\n",
      "Data columns (total 5 columns):\n",
      " #   Column         Non-Null Count  Dtype \n",
      "---  ------         --------------  ----- \n",
      " 0   BusinessId     62884 non-null  int64 \n",
      " 1   review_id      62884 non-null  int64 \n",
      " 2   rating         62884 non-null  int64 \n",
      " 3   comment        41021 non-null  object\n",
      " 4   creation_date  62884 non-null  object\n",
      "dtypes: int64(3), object(2)\n",
      "memory usage: 2.9+ MB\n"
     ]
    }
   ],
   "source": [
    "df.info()"
   ]
  },
  {
   "cell_type": "code",
   "execution_count": 494,
   "metadata": {},
   "outputs": [],
   "source": [
    "df['creation_date'] = df['creation_date'].astype('datetime64[ns]')"
   ]
  },
  {
   "cell_type": "code",
   "execution_count": 495,
   "metadata": {},
   "outputs": [
    {
     "name": "stderr",
     "output_type": "stream",
     "text": [
      "C:\\Users\\S7\\AppData\\Local\\Temp\\ipykernel_8252\\2178317339.py:1: FutureWarning: A value is trying to be set on a copy of a DataFrame or Series through chained assignment using an inplace method.\n",
      "The behavior will change in pandas 3.0. This inplace method will never work because the intermediate object on which we are setting values always behaves as a copy.\n",
      "\n",
      "For example, when doing 'df[col].method(value, inplace=True)', try using 'df.method({col: value}, inplace=True)' or df[col] = df[col].method(value) instead, to perform the operation inplace on the original object.\n",
      "\n",
      "\n",
      "  df['comment'].fillna('لا يوجد' , inplace=True)\n"
     ]
    }
   ],
   "source": [
    "df['comment'].fillna('لا يوجد' , inplace=True)"
   ]
  },
  {
   "cell_type": "code",
   "execution_count": 496,
   "metadata": {},
   "outputs": [],
   "source": [
    "df['comment'][df['comment'] == 'ممتاز '] = df['comment'][df['comment'] == 'ممتاز '].replace('ممتاز ' , 'ممتاز') "
   ]
  },
  {
   "cell_type": "code",
   "execution_count": 497,
   "metadata": {},
   "outputs": [
    {
     "data": {
      "text/plain": [
       "BusinessId       0\n",
       "review_id        0\n",
       "rating           0\n",
       "comment          0\n",
       "creation_date    0\n",
       "dtype: int64"
      ]
     },
     "execution_count": 497,
     "metadata": {},
     "output_type": "execute_result"
    }
   ],
   "source": [
    "df.isnull().sum()"
   ]
  },
  {
   "cell_type": "markdown",
   "metadata": {},
   "source": [
    "### clean data for seg"
   ]
  },
  {
   "cell_type": "code",
   "execution_count": 498,
   "metadata": {},
   "outputs": [],
   "source": [
    "import pyarabic.araby as ar\n",
    "\n",
    "# import Stemmer\n",
    "import functools, operator\n",
    "import logging\n",
    "\n",
    "logging.basicConfig(level=logging.WARNING)\n",
    "logger = logging.getLogger(__name__)"
   ]
  },
  {
   "cell_type": "code",
   "execution_count": 499,
   "metadata": {},
   "outputs": [],
   "source": [
    "arabic_stop_words=[]\n",
    "with open ('Stop_Words.txt',encoding='utf-8') as f :\n",
    "    for i in f.readlines() :\n",
    "        arabic_stop_words.append(i)\n",
    "        arabic_stop_words[-1]=arabic_stop_words[-1][:-1]"
   ]
  },
  {
   "cell_type": "code",
   "execution_count": 500,
   "metadata": {},
   "outputs": [],
   "source": [
    "import re\n",
    "import string\n",
    "import emoji\n",
    "from nltk.stem.isri import ISRIStemmer\n",
    "\n",
    "def data_preprocessing(df, arabic_stop_words):\n",
    "  \n",
    "    # Function for general text cleaning\n",
    "    def data_cleaning(text):\n",
    "\n",
    "        # Remove URLs\n",
    "        text = re.sub(r'http\\S+', '', text)\n",
    "        \n",
    "        # Remove usernames and non-Arabic words (alphanumeric words)\n",
    "        text = re.sub(r'\\b[A-Za-z0-9_]+\\b', '', text)  # Remove any non-Arabic alphanumeric words\n",
    "\n",
    "        # Handle Windows line breaks (\\r\\n)\n",
    "        text = text.replace('\\r\\n', ' ')\n",
    "        \n",
    "        # Handle Unix line breaks (\\n)\n",
    "        text = text.replace('\\n', ' ')\n",
    "        \n",
    "        # Handle old Mac line breaks (\\r)\n",
    "        text = text.replace('\\r', ' ')\n",
    "        \n",
    "        # Handle tabs (\\t)\n",
    "        text = text.replace('\\t', ' ')\n",
    "\n",
    "        # Remove numbers\n",
    "        text = re.sub(r\"\\d+\", \"\", text)\n",
    "        \n",
    "        # Remove special characters and punctuation, keeping Arabic letters and spaces\n",
    "        text = re.sub(r'[^\\w\\sء-ي]', '', text)\n",
    "        \n",
    "        # Remove emojis\n",
    "        text = emoji.replace_emoji(text, replace=\"\")\n",
    "        \n",
    "        # Normalize Arabic letters\n",
    "        text = text.replace(\"آ\", \"ا\").replace(\"إ\", \"ا\").replace(\"أ\", \"ا\")\n",
    "        text = text.replace(\"ؤ\", \"و\").replace(\"ئ\", \"ي\").replace(\"ة\", \"ه\")\n",
    "        \n",
    "        return text\n",
    "    \n",
    "    # Function to handle additional cleaning for spaces and punctuation\n",
    "    def clean_text(text):\n",
    "        # Remove all punctuation\n",
    "        translator = str.maketrans('', '', string.punctuation)\n",
    "        text = text.translate(translator)\n",
    "        \n",
    "        # Replace multiple spaces with a single space\n",
    "        text = re.sub(r'\\s+', ' ', text)\n",
    "        \n",
    "        # Remove leading and trailing spaces\n",
    "        text = text.strip()\n",
    "        \n",
    "        return text\n",
    "\n",
    "    # Remove repeated letters (e.g., \"الللللله\" to \"الله\")\n",
    "    def remove_repeated_letters(text):\n",
    "        return text[0:2] + ''.join([text[i] for i in range(2, len(text)) if text[i] != text[i-1] or text[i] != text[i-2]])\n",
    "\n",
    "    # Apply the cleaning functions\n",
    "    df['comment'] = df['comment'].apply(data_cleaning)\n",
    "    df['comment'] = df['comment'].apply(clean_text)\n",
    "    df['comment'] = df['comment'].apply(remove_repeated_letters)\n",
    "    \n",
    "    # Remove stop words\n",
    "    df['comment'] = df['comment'].apply(\n",
    "        lambda x: ' '.join([word for word in x.split() if word not in arabic_stop_words])\n",
    "    )\n",
    "    \n",
    "\n",
    "    return df"
   ]
  },
  {
   "cell_type": "code",
   "execution_count": 501,
   "metadata": {},
   "outputs": [],
   "source": [
    "df = data_preprocessing(df, arabic_stop_words)"
   ]
  },
  {
   "cell_type": "code",
   "execution_count": 502,
   "metadata": {},
   "outputs": [
    {
     "name": "stderr",
     "output_type": "stream",
     "text": [
      "C:\\Users\\S7\\AppData\\Local\\Temp\\ipykernel_8252\\3005646598.py:1: FutureWarning: ChainedAssignmentError: behaviour will change in pandas 3.0!\n",
      "You are setting values through chained assignment. Currently this works in certain cases, but when using Copy-on-Write (which will become the default behaviour in pandas 3.0) this will never work to update the original DataFrame or Series, because the intermediate object on which we are setting values will behave as a copy.\n",
      "A typical example is when you are setting values in a column of a DataFrame, like:\n",
      "\n",
      "df[\"col\"][row_indexer] = value\n",
      "\n",
      "Use `df.loc[row_indexer, \"col\"] = values` instead, to perform the assignment in a single step and ensure this keeps updating the original `df`.\n",
      "\n",
      "See the caveats in the documentation: https://pandas.pydata.org/pandas-docs/stable/user_guide/indexing.html#returning-a-view-versus-a-copy\n",
      "\n",
      "  df['comment'][df['comment'] == ''] = df['comment'][df['comment'] == ''].replace('' , 'لا يوجد')\n",
      "C:\\Users\\S7\\AppData\\Local\\Temp\\ipykernel_8252\\3005646598.py:1: SettingWithCopyWarning: \n",
      "A value is trying to be set on a copy of a slice from a DataFrame\n",
      "\n",
      "See the caveats in the documentation: https://pandas.pydata.org/pandas-docs/stable/user_guide/indexing.html#returning-a-view-versus-a-copy\n",
      "  df['comment'][df['comment'] == ''] = df['comment'][df['comment'] == ''].replace('' , 'لا يوجد')\n",
      "C:\\Users\\S7\\AppData\\Local\\Temp\\ipykernel_8252\\3005646598.py:2: FutureWarning: ChainedAssignmentError: behaviour will change in pandas 3.0!\n",
      "You are setting values through chained assignment. Currently this works in certain cases, but when using Copy-on-Write (which will become the default behaviour in pandas 3.0) this will never work to update the original DataFrame or Series, because the intermediate object on which we are setting values will behave as a copy.\n",
      "A typical example is when you are setting values in a column of a DataFrame, like:\n",
      "\n",
      "df[\"col\"][row_indexer] = value\n",
      "\n",
      "Use `df.loc[row_indexer, \"col\"] = values` instead, to perform the assignment in a single step and ensure this keeps updating the original `df`.\n",
      "\n",
      "See the caveats in the documentation: https://pandas.pydata.org/pandas-docs/stable/user_guide/indexing.html#returning-a-view-versus-a-copy\n",
      "\n",
      "  df['comment'][df['comment'] == 'يوجد'] = df['comment'][df['comment'] == 'يوجد'].replace('يوجد' , 'لا يوجد')\n",
      "C:\\Users\\S7\\AppData\\Local\\Temp\\ipykernel_8252\\3005646598.py:2: SettingWithCopyWarning: \n",
      "A value is trying to be set on a copy of a slice from a DataFrame\n",
      "\n",
      "See the caveats in the documentation: https://pandas.pydata.org/pandas-docs/stable/user_guide/indexing.html#returning-a-view-versus-a-copy\n",
      "  df['comment'][df['comment'] == 'يوجد'] = df['comment'][df['comment'] == 'يوجد'].replace('يوجد' , 'لا يوجد')\n"
     ]
    }
   ],
   "source": [
    "df['comment'][df['comment'] == ''] = df['comment'][df['comment'] == ''].replace('' , 'لا يوجد') \n",
    "df['comment'][df['comment'] == 'يوجد'] = df['comment'][df['comment'] == 'يوجد'].replace('يوجد' , 'لا يوجد') "
   ]
  },
  {
   "cell_type": "code",
   "execution_count": 504,
   "metadata": {},
   "outputs": [],
   "source": [
    "df.to_csv('10_reviews_Stop_Words.csv')"
   ]
  },
  {
   "cell_type": "code",
   "execution_count": 506,
   "metadata": {},
   "outputs": [
    {
     "name": "stdout",
     "output_type": "stream",
     "text": [
      "Empty DataFrame\n",
      "Columns: [comment, cleanliness_issues]\n",
      "Index: []\n"
     ]
    }
   ],
   "source": [
    "# import re\n",
    "# import pandas as pd\n",
    "\n",
    "# # Function to check for cleanliness issues\n",
    "# def check_data_cleanliness(text):\n",
    "#     issues = {}\n",
    "    \n",
    "#     # Check for line breaks, tabs\n",
    "#     if re.search(r'[\\r\\n\\t]', text):\n",
    "#         issues['Line Breaks or Tabs'] = True\n",
    "    \n",
    "#     # Check for special characters (excluding Arabic letters, numbers, and spaces)\n",
    "#     if re.search(r'[^\\w\\sء-ي]', text):\n",
    "#         issues['Special Characters'] = True\n",
    "    \n",
    "#     # Check for any digits (assuming we do not want them)\n",
    "#     if re.search(r'\\d+', text):\n",
    "#         issues['Contains Numbers'] = True\n",
    "    \n",
    "#     # Check for multiple spaces\n",
    "#     if re.search(r'\\s{2,}', text):\n",
    "#         issues['Multiple Spaces'] = True\n",
    "    \n",
    "#     return issues\n",
    "\n",
    "# # Apply the function to the 'comment' column\n",
    "# df['cleanliness_issues'] = df['comment'].apply(check_data_cleanliness)\n",
    "\n",
    "# # Filter out rows with any issues and show the problematic comments\n",
    "# issues_found = df[df['cleanliness_issues'].apply(bool)]\n",
    "\n",
    "# # Display the problematic comments\n",
    "# print(issues_found[['comment', 'cleanliness_issues']])"
   ]
  },
  {
   "cell_type": "code",
   "execution_count": null,
   "metadata": {},
   "outputs": [],
   "source": []
  }
 ],
 "metadata": {
  "kernelspec": {
   "display_name": "Python 3",
   "language": "python",
   "name": "python3"
  },
  "language_info": {
   "codemirror_mode": {
    "name": "ipython",
    "version": 3
   },
   "file_extension": ".py",
   "mimetype": "text/x-python",
   "name": "python",
   "nbconvert_exporter": "python",
   "pygments_lexer": "ipython3",
   "version": "3.12.5"
  }
 },
 "nbformat": 4,
 "nbformat_minor": 2
}
