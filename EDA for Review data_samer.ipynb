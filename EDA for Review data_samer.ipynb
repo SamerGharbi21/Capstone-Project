{
 "cells": [
  {
   "cell_type": "code",
   "execution_count": 138,
   "metadata": {},
   "outputs": [],
   "source": [
    "import pandas as pd \n",
    "import numpy as np "
   ]
  },
  {
   "cell_type": "code",
   "execution_count": 139,
   "metadata": {},
   "outputs": [],
   "source": [
    "df = pd.read_csv(\"reviews.csv\" , index_col=0)"
   ]
  },
  {
   "cell_type": "code",
   "execution_count": 140,
   "metadata": {},
   "outputs": [
    {
     "data": {
      "text/html": [
       "<div>\n",
       "<style scoped>\n",
       "    .dataframe tbody tr th:only-of-type {\n",
       "        vertical-align: middle;\n",
       "    }\n",
       "\n",
       "    .dataframe tbody tr th {\n",
       "        vertical-align: top;\n",
       "    }\n",
       "\n",
       "    .dataframe thead th {\n",
       "        text-align: right;\n",
       "    }\n",
       "</style>\n",
       "<table border=\"1\" class=\"dataframe\">\n",
       "  <thead>\n",
       "    <tr style=\"text-align: right;\">\n",
       "      <th></th>\n",
       "      <th>BusinessId</th>\n",
       "      <th>review_id</th>\n",
       "      <th>rating</th>\n",
       "      <th>comment</th>\n",
       "      <th>creation_date</th>\n",
       "    </tr>\n",
       "  </thead>\n",
       "  <tbody>\n",
       "    <tr>\n",
       "      <th>0</th>\n",
       "      <td>268517</td>\n",
       "      <td>368276</td>\n",
       "      <td>5</td>\n",
       "      <td>تعامل راقي ومتعاونين جدا يعطيكم العافيه والطلب...</td>\n",
       "      <td>2024-09-03T10:46:56.273</td>\n",
       "    </tr>\n",
       "    <tr>\n",
       "      <th>1</th>\n",
       "      <td>268517</td>\n",
       "      <td>366180</td>\n",
       "      <td>5</td>\n",
       "      <td>التعامل يفتح النفس ويسون نفس المطلوب والتوصيل ...</td>\n",
       "      <td>2024-06-10T17:02:09.137</td>\n",
       "    </tr>\n",
       "    <tr>\n",
       "      <th>2</th>\n",
       "      <td>268517</td>\n",
       "      <td>366102</td>\n",
       "      <td>5</td>\n",
       "      <td>اسلوب وذوق ماشاءالله</td>\n",
       "      <td>2024-06-07T19:02:15.573</td>\n",
       "    </tr>\n",
       "    <tr>\n",
       "      <th>3</th>\n",
       "      <td>268517</td>\n",
       "      <td>361135</td>\n",
       "      <td>5</td>\n",
       "      <td>تعامل رائع ان شاء الله مب اخر مره اطلب منها</td>\n",
       "      <td>2024-05-08T15:44:14.163</td>\n",
       "    </tr>\n",
       "    <tr>\n",
       "      <th>4</th>\n",
       "      <td>268517</td>\n",
       "      <td>359092</td>\n",
       "      <td>5</td>\n",
       "      <td>اشكرهم على حسن التعامل والاسلوب والتنسيق الحلو...</td>\n",
       "      <td>2024-04-03T21:42:03.303</td>\n",
       "    </tr>\n",
       "    <tr>\n",
       "      <th>...</th>\n",
       "      <td>...</td>\n",
       "      <td>...</td>\n",
       "      <td>...</td>\n",
       "      <td>...</td>\n",
       "      <td>...</td>\n",
       "    </tr>\n",
       "    <tr>\n",
       "      <th>47172</th>\n",
       "      <td>277496</td>\n",
       "      <td>326234</td>\n",
       "      <td>5</td>\n",
       "      <td>NaN</td>\n",
       "      <td>2023-03-30T20:29:55.22</td>\n",
       "    </tr>\n",
       "    <tr>\n",
       "      <th>47173</th>\n",
       "      <td>277496</td>\n",
       "      <td>326233</td>\n",
       "      <td>5</td>\n",
       "      <td>NaN</td>\n",
       "      <td>2023-03-30T20:29:52.063</td>\n",
       "    </tr>\n",
       "    <tr>\n",
       "      <th>47174</th>\n",
       "      <td>277496</td>\n",
       "      <td>326232</td>\n",
       "      <td>5</td>\n",
       "      <td>NaN</td>\n",
       "      <td>2023-03-30T20:29:49.333</td>\n",
       "    </tr>\n",
       "    <tr>\n",
       "      <th>47175</th>\n",
       "      <td>277496</td>\n",
       "      <td>326231</td>\n",
       "      <td>5</td>\n",
       "      <td>NaN</td>\n",
       "      <td>2023-03-30T20:29:46.557</td>\n",
       "    </tr>\n",
       "    <tr>\n",
       "      <th>47176</th>\n",
       "      <td>277496</td>\n",
       "      <td>320046</td>\n",
       "      <td>3</td>\n",
       "      <td>NaN</td>\n",
       "      <td>2023-03-05T18:30:07.02</td>\n",
       "    </tr>\n",
       "  </tbody>\n",
       "</table>\n",
       "<p>47177 rows × 5 columns</p>\n",
       "</div>"
      ],
      "text/plain": [
       "       BusinessId  review_id  rating  \\\n",
       "0          268517     368276       5   \n",
       "1          268517     366180       5   \n",
       "2          268517     366102       5   \n",
       "3          268517     361135       5   \n",
       "4          268517     359092       5   \n",
       "...           ...        ...     ...   \n",
       "47172      277496     326234       5   \n",
       "47173      277496     326233       5   \n",
       "47174      277496     326232       5   \n",
       "47175      277496     326231       5   \n",
       "47176      277496     320046       3   \n",
       "\n",
       "                                                 comment  \\\n",
       "0      تعامل راقي ومتعاونين جدا يعطيكم العافيه والطلب...   \n",
       "1      التعامل يفتح النفس ويسون نفس المطلوب والتوصيل ...   \n",
       "2                                   اسلوب وذوق ماشاءالله   \n",
       "3            تعامل رائع ان شاء الله مب اخر مره اطلب منها   \n",
       "4      اشكرهم على حسن التعامل والاسلوب والتنسيق الحلو...   \n",
       "...                                                  ...   \n",
       "47172                                                NaN   \n",
       "47173                                                NaN   \n",
       "47174                                                NaN   \n",
       "47175                                                NaN   \n",
       "47176                                                NaN   \n",
       "\n",
       "                 creation_date  \n",
       "0      2024-09-03T10:46:56.273  \n",
       "1      2024-06-10T17:02:09.137  \n",
       "2      2024-06-07T19:02:15.573  \n",
       "3      2024-05-08T15:44:14.163  \n",
       "4      2024-04-03T21:42:03.303  \n",
       "...                        ...  \n",
       "47172   2023-03-30T20:29:55.22  \n",
       "47173  2023-03-30T20:29:52.063  \n",
       "47174  2023-03-30T20:29:49.333  \n",
       "47175  2023-03-30T20:29:46.557  \n",
       "47176   2023-03-05T18:30:07.02  \n",
       "\n",
       "[47177 rows x 5 columns]"
      ]
     },
     "execution_count": 140,
     "metadata": {},
     "output_type": "execute_result"
    }
   ],
   "source": [
    "df"
   ]
  },
  {
   "cell_type": "code",
   "execution_count": 141,
   "metadata": {},
   "outputs": [
    {
     "name": "stdout",
     "output_type": "stream",
     "text": [
      "<class 'pandas.core.frame.DataFrame'>\n",
      "Index: 47177 entries, 0 to 47176\n",
      "Data columns (total 5 columns):\n",
      " #   Column         Non-Null Count  Dtype \n",
      "---  ------         --------------  ----- \n",
      " 0   BusinessId     47177 non-null  int64 \n",
      " 1   review_id      47177 non-null  int64 \n",
      " 2   rating         47177 non-null  int64 \n",
      " 3   comment        29505 non-null  object\n",
      " 4   creation_date  47177 non-null  object\n",
      "dtypes: int64(3), object(2)\n",
      "memory usage: 2.2+ MB\n"
     ]
    }
   ],
   "source": [
    "df.info()"
   ]
  },
  {
   "cell_type": "code",
   "execution_count": 142,
   "metadata": {},
   "outputs": [
    {
     "data": {
      "text/plain": [
       "BusinessId\n",
       "39976     4596\n",
       "77092     3333\n",
       "48246     1813\n",
       "24519     1553\n",
       "257509    1204\n",
       "216993    1186\n",
       "15908     1167\n",
       "51267      967\n",
       "1045       881\n",
       "2897       808\n",
       "24974      676\n",
       "44461      656\n",
       "258697     623\n",
       "86675      585\n",
       "214933     507\n",
       "17184      493\n",
       "96402      476\n",
       "89771      466\n",
       "7855       444\n",
       "218848     435\n",
       "42825      408\n",
       "238860     393\n",
       "64629      393\n",
       "49372      392\n",
       "669        389\n",
       "212567     388\n",
       "235945     377\n",
       "90277      375\n",
       "235942     375\n",
       "1491       371\n",
       "27327      368\n",
       "205        368\n",
       "176761     345\n",
       "204828     334\n",
       "235951     325\n",
       "287679     312\n",
       "117172     308\n",
       "1428       302\n",
       "3114       299\n",
       "242704     287\n",
       "55142      279\n",
       "54686      275\n",
       "200629     257\n",
       "8889       255\n",
       "39658      249\n",
       "205289     235\n",
       "15853      213\n",
       "4341       211\n",
       "107585     207\n",
       "93932      206\n",
       "Name: count, dtype: int64"
      ]
     },
     "execution_count": 142,
     "metadata": {},
     "output_type": "execute_result"
    }
   ],
   "source": [
    "df['BusinessId'].value_counts().head(50)"
   ]
  },
  {
   "cell_type": "code",
   "execution_count": 143,
   "metadata": {},
   "outputs": [],
   "source": [
    "df['creation_date'] = df['creation_date'].astype('datetime64[ns]')"
   ]
  },
  {
   "cell_type": "code",
   "execution_count": 144,
   "metadata": {},
   "outputs": [],
   "source": [
    "df['comment'].fillna('No Comment' , inplace=True)"
   ]
  },
  {
   "cell_type": "code",
   "execution_count": 145,
   "metadata": {},
   "outputs": [
    {
     "data": {
      "text/plain": [
       "BusinessId       0\n",
       "review_id        0\n",
       "rating           0\n",
       "comment          0\n",
       "creation_date    0\n",
       "dtype: int64"
      ]
     },
     "execution_count": 145,
     "metadata": {},
     "output_type": "execute_result"
    }
   ],
   "source": [
    "df.isnull().sum()"
   ]
  },
  {
   "cell_type": "code",
   "execution_count": 148,
   "metadata": {},
   "outputs": [],
   "source": [
    "# AP = process()\n",
    "# AP.main(dataset=df)\n"
   ]
  },
  {
   "cell_type": "code",
   "execution_count": 159,
   "metadata": {},
   "outputs": [],
   "source": [
    "df_clean = pd.read_csv('cleaned_data.csv')"
   ]
  },
  {
   "cell_type": "code",
   "execution_count": 152,
   "metadata": {},
   "outputs": [],
   "source": [
    "df_clean['comment'].fillna('No Comment' , inplace=True)"
   ]
  },
  {
   "cell_type": "code",
   "execution_count": 153,
   "metadata": {},
   "outputs": [
    {
     "data": {
      "text/html": [
       "<div>\n",
       "<style scoped>\n",
       "    .dataframe tbody tr th:only-of-type {\n",
       "        vertical-align: middle;\n",
       "    }\n",
       "\n",
       "    .dataframe tbody tr th {\n",
       "        vertical-align: top;\n",
       "    }\n",
       "\n",
       "    .dataframe thead th {\n",
       "        text-align: right;\n",
       "    }\n",
       "</style>\n",
       "<table border=\"1\" class=\"dataframe\">\n",
       "  <thead>\n",
       "    <tr style=\"text-align: right;\">\n",
       "      <th></th>\n",
       "      <th>BusinessId</th>\n",
       "      <th>review_id</th>\n",
       "      <th>rating</th>\n",
       "      <th>creation_date</th>\n",
       "      <th>comment</th>\n",
       "    </tr>\n",
       "  </thead>\n",
       "  <tbody>\n",
       "    <tr>\n",
       "      <th>0</th>\n",
       "      <td>268517</td>\n",
       "      <td>368276</td>\n",
       "      <td>5</td>\n",
       "      <td>2024-09-03 10:46:56.273</td>\n",
       "      <td>تعامل راقي ومتعاونين جدا يعطيكم العافيه والطلب...</td>\n",
       "    </tr>\n",
       "    <tr>\n",
       "      <th>1</th>\n",
       "      <td>268517</td>\n",
       "      <td>366180</td>\n",
       "      <td>5</td>\n",
       "      <td>2024-06-10 17:02:09.137</td>\n",
       "      <td>التعامل يفتح النفس ويسون نفس المطلوب والتوصيل ...</td>\n",
       "    </tr>\n",
       "    <tr>\n",
       "      <th>2</th>\n",
       "      <td>268517</td>\n",
       "      <td>366102</td>\n",
       "      <td>5</td>\n",
       "      <td>2024-06-07 19:02:15.573</td>\n",
       "      <td>اسلوب وذوق ماشاءالله</td>\n",
       "    </tr>\n",
       "    <tr>\n",
       "      <th>3</th>\n",
       "      <td>268517</td>\n",
       "      <td>361135</td>\n",
       "      <td>5</td>\n",
       "      <td>2024-05-08 15:44:14.163</td>\n",
       "      <td>تعامل رايع ان شاء الله مب اخر مره اطلب منها</td>\n",
       "    </tr>\n",
       "    <tr>\n",
       "      <th>4</th>\n",
       "      <td>268517</td>\n",
       "      <td>359092</td>\n",
       "      <td>5</td>\n",
       "      <td>2024-04-03 21:42:03.303</td>\n",
       "      <td>اشكرهم علي حسن التعامل والاسلوب والتنسيق الحلو...</td>\n",
       "    </tr>\n",
       "    <tr>\n",
       "      <th>...</th>\n",
       "      <td>...</td>\n",
       "      <td>...</td>\n",
       "      <td>...</td>\n",
       "      <td>...</td>\n",
       "      <td>...</td>\n",
       "    </tr>\n",
       "    <tr>\n",
       "      <th>47172</th>\n",
       "      <td>277496</td>\n",
       "      <td>326234</td>\n",
       "      <td>5</td>\n",
       "      <td>2023-03-30 20:29:55.220</td>\n",
       "      <td>No Comment</td>\n",
       "    </tr>\n",
       "    <tr>\n",
       "      <th>47173</th>\n",
       "      <td>277496</td>\n",
       "      <td>326233</td>\n",
       "      <td>5</td>\n",
       "      <td>2023-03-30 20:29:52.063</td>\n",
       "      <td>No Comment</td>\n",
       "    </tr>\n",
       "    <tr>\n",
       "      <th>47174</th>\n",
       "      <td>277496</td>\n",
       "      <td>326232</td>\n",
       "      <td>5</td>\n",
       "      <td>2023-03-30 20:29:49.333</td>\n",
       "      <td>No Comment</td>\n",
       "    </tr>\n",
       "    <tr>\n",
       "      <th>47175</th>\n",
       "      <td>277496</td>\n",
       "      <td>326231</td>\n",
       "      <td>5</td>\n",
       "      <td>2023-03-30 20:29:46.557</td>\n",
       "      <td>No Comment</td>\n",
       "    </tr>\n",
       "    <tr>\n",
       "      <th>47176</th>\n",
       "      <td>277496</td>\n",
       "      <td>320046</td>\n",
       "      <td>3</td>\n",
       "      <td>2023-03-05 18:30:07.020</td>\n",
       "      <td>No Comment</td>\n",
       "    </tr>\n",
       "  </tbody>\n",
       "</table>\n",
       "<p>47177 rows × 5 columns</p>\n",
       "</div>"
      ],
      "text/plain": [
       "       BusinessId  review_id  rating            creation_date  \\\n",
       "0          268517     368276       5  2024-09-03 10:46:56.273   \n",
       "1          268517     366180       5  2024-06-10 17:02:09.137   \n",
       "2          268517     366102       5  2024-06-07 19:02:15.573   \n",
       "3          268517     361135       5  2024-05-08 15:44:14.163   \n",
       "4          268517     359092       5  2024-04-03 21:42:03.303   \n",
       "...           ...        ...     ...                      ...   \n",
       "47172      277496     326234       5  2023-03-30 20:29:55.220   \n",
       "47173      277496     326233       5  2023-03-30 20:29:52.063   \n",
       "47174      277496     326232       5  2023-03-30 20:29:49.333   \n",
       "47175      277496     326231       5  2023-03-30 20:29:46.557   \n",
       "47176      277496     320046       3  2023-03-05 18:30:07.020   \n",
       "\n",
       "                                                 comment  \n",
       "0      تعامل راقي ومتعاونين جدا يعطيكم العافيه والطلب...  \n",
       "1      التعامل يفتح النفس ويسون نفس المطلوب والتوصيل ...  \n",
       "2                                   اسلوب وذوق ماشاءالله  \n",
       "3            تعامل رايع ان شاء الله مب اخر مره اطلب منها  \n",
       "4      اشكرهم علي حسن التعامل والاسلوب والتنسيق الحلو...  \n",
       "...                                                  ...  \n",
       "47172                                         No Comment  \n",
       "47173                                         No Comment  \n",
       "47174                                         No Comment  \n",
       "47175                                         No Comment  \n",
       "47176                                         No Comment  \n",
       "\n",
       "[47177 rows x 5 columns]"
      ]
     },
     "execution_count": 153,
     "metadata": {},
     "output_type": "execute_result"
    }
   ],
   "source": [
    "df_clean"
   ]
  },
  {
   "cell_type": "code",
   "execution_count": 155,
   "metadata": {},
   "outputs": [
    {
     "name": "stdout",
     "output_type": "stream",
     "text": [
      "Total number of emojis in the dataset: 0\n"
     ]
    }
   ],
   "source": [
    "import re\n",
    "\n",
    "# Function to count emojis using regex\n",
    "def count_emojis(text):\n",
    "    emoji_pattern = re.compile(\"[\"\n",
    "                               u\"\\U0001F600-\\U0001F64F\"  # emoticons\n",
    "                               u\"\\U0001F300-\\U0001F5FF\"  # symbols & pictographs\n",
    "                               u\"\\U0001F680-\\U0001F6FF\"  # transport & map symbols\n",
    "                               u\"\\U0001F700-\\U0001F77F\"  # alchemical symbols\n",
    "                               u\"\\U0001F780-\\U0001F7FF\"  # Geometric Shapes Extended\n",
    "                               u\"\\U0001F800-\\U0001F8FF\"  # Supplemental Arrows-C\n",
    "                               u\"\\U0001F900-\\U0001F9FF\"  # Supplemental Symbols and Pictographs\n",
    "                               u\"\\U0001FA00-\\U0001FA6F\"  # Chess Symbols\n",
    "                               u\"\\U0001FA70-\\U0001FAFF\"  # Symbols and Pictographs Extended-A\n",
    "                               u\"\\U00002700-\\U000027BF\"  # Dingbats\n",
    "                               u\"\\U00002600-\\U000026FF\"  # Miscellaneous Symbols\n",
    "                               u\"\\u2B50\"                 # ⭐ star\n",
    "                               u\"\\u2605\"                 # ★ filled star\n",
    "                               u\"\\u23F0\"                 # ⏰ alarm clock\n",
    "                               u\"\\u231A\"                 # ⌚ watch\n",
    "                               u\"\\u2196\"                 # ↖ arrow\n",
    "                               \"]+\", flags=re.UNICODE)\n",
    "    \n",
    "    return len(emoji_pattern.findall(text))\n",
    "\n",
    "# Apply the count_emojis function to the column containing text, for example, 'text_column'\n",
    "df_clean['emoji_count'] = df_clean['comment'].apply(count_emojis)\n",
    "\n",
    "# Sum all emoji counts to get the total number of emojis in the dataset\n",
    "total_emojis = df_clean['emoji_count'].sum()\n",
    "\n",
    "# Display the total number of emojis\n",
    "print(f\"Total number of emojis in the dataset: {total_emojis}\")\n"
   ]
  },
  {
   "cell_type": "code",
   "execution_count": 157,
   "metadata": {},
   "outputs": [
    {
     "data": {
      "text/plain": [
       "BusinessId                int64\n",
       "review_id                 int64\n",
       "rating                    int64\n",
       "comment                  object\n",
       "creation_date    datetime64[ns]\n",
       "emoji_count               int64\n",
       "dtype: object"
      ]
     },
     "execution_count": 157,
     "metadata": {},
     "output_type": "execute_result"
    }
   ],
   "source": [
    "df.dtypes"
   ]
  },
  {
   "cell_type": "code",
   "execution_count": 156,
   "metadata": {},
   "outputs": [
    {
     "data": {
      "text/html": [
       "<div>\n",
       "<style scoped>\n",
       "    .dataframe tbody tr th:only-of-type {\n",
       "        vertical-align: middle;\n",
       "    }\n",
       "\n",
       "    .dataframe tbody tr th {\n",
       "        vertical-align: top;\n",
       "    }\n",
       "\n",
       "    .dataframe thead th {\n",
       "        text-align: right;\n",
       "    }\n",
       "</style>\n",
       "<table border=\"1\" class=\"dataframe\">\n",
       "  <thead>\n",
       "    <tr style=\"text-align: right;\">\n",
       "      <th></th>\n",
       "      <th>BusinessId</th>\n",
       "      <th>review_id</th>\n",
       "      <th>rating</th>\n",
       "      <th>creation_date</th>\n",
       "      <th>comment</th>\n",
       "      <th>emoji_count</th>\n",
       "    </tr>\n",
       "  </thead>\n",
       "  <tbody>\n",
       "  </tbody>\n",
       "</table>\n",
       "</div>"
      ],
      "text/plain": [
       "Empty DataFrame\n",
       "Columns: [BusinessId, review_id, rating, creation_date, comment, emoji_count]\n",
       "Index: []"
      ]
     },
     "execution_count": 156,
     "metadata": {},
     "output_type": "execute_result"
    }
   ],
   "source": [
    "df_clean[df.duplicated()]"
   ]
  },
  {
   "cell_type": "code",
   "execution_count": 158,
   "metadata": {},
   "outputs": [],
   "source": [
    "df_clean.to_csv(\"cleaned_data.csv\")"
   ]
  },
  {
   "cell_type": "code",
   "execution_count": null,
   "metadata": {},
   "outputs": [],
   "source": []
  }
 ],
 "metadata": {
  "kernelspec": {
   "display_name": "Python 3",
   "language": "python",
   "name": "python3"
  },
  "language_info": {
   "codemirror_mode": {
    "name": "ipython",
    "version": 3
   },
   "file_extension": ".py",
   "mimetype": "text/x-python",
   "name": "python",
   "nbconvert_exporter": "python",
   "pygments_lexer": "ipython3",
   "version": "3.12.5"
  }
 },
 "nbformat": 4,
 "nbformat_minor": 2
}
