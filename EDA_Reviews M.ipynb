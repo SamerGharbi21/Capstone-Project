{
 "cells": [
  {
   "cell_type": "code",
   "execution_count": 150,
   "metadata": {},
   "outputs": [],
   "source": [
    "import pandas as pd\n",
    "import seaborn as sns\n",
    "import matplotlib.pyplot as plt\n",
    "import plotly.express as px\n"
   ]
  },
  {
   "cell_type": "code",
   "execution_count": 136,
   "metadata": {},
   "outputs": [],
   "source": [
    "df = pd.read_csv('10_reviews_Stop_Words.csv')\n",
    "df_stores = pd.read_csv('cleaned_data_Allstores_dataset1.csv')\n"
   ]
  },
  {
   "cell_type": "code",
   "execution_count": 137,
   "metadata": {},
   "outputs": [],
   "source": [
    "df = pd.merge(df, df_stores[['Id', 'BusinessType']], left_on='BusinessId', right_on='Id', how='left')\n",
    "\n",
    "# Drop the 'Id' column if you only want to keep 'BusinessId'\n",
    "df.drop('Id', axis=1, inplace=True)\n"
   ]
  },
  {
   "cell_type": "code",
   "execution_count": 138,
   "metadata": {},
   "outputs": [
    {
     "data": {
      "text/html": [
       "<div>\n",
       "<style scoped>\n",
       "    .dataframe tbody tr th:only-of-type {\n",
       "        vertical-align: middle;\n",
       "    }\n",
       "\n",
       "    .dataframe tbody tr th {\n",
       "        vertical-align: top;\n",
       "    }\n",
       "\n",
       "    .dataframe thead th {\n",
       "        text-align: right;\n",
       "    }\n",
       "</style>\n",
       "<table border=\"1\" class=\"dataframe\">\n",
       "  <thead>\n",
       "    <tr style=\"text-align: right;\">\n",
       "      <th></th>\n",
       "      <th>Unnamed: 0</th>\n",
       "      <th>BusinessId</th>\n",
       "      <th>review_id</th>\n",
       "      <th>rating</th>\n",
       "      <th>comment</th>\n",
       "      <th>creation_date</th>\n",
       "      <th>BusinessType</th>\n",
       "    </tr>\n",
       "  </thead>\n",
       "  <tbody>\n",
       "    <tr>\n",
       "      <th>0</th>\n",
       "      <td>0</td>\n",
       "      <td>60202</td>\n",
       "      <td>364189</td>\n",
       "      <td>1</td>\n",
       "      <td>كنت أتعامل معهم أسعارهم أرخص آخر مرة حصلت لي ع...</td>\n",
       "      <td>2024-05-11 05:56:29.327</td>\n",
       "      <td>إلكترونيات</td>\n",
       "    </tr>\n",
       "    <tr>\n",
       "      <th>1</th>\n",
       "      <td>1</td>\n",
       "      <td>60202</td>\n",
       "      <td>356203</td>\n",
       "      <td>1</td>\n",
       "      <td>مصداقية اسعار المنتج</td>\n",
       "      <td>2024-03-06 08:08:24.190</td>\n",
       "      <td>إلكترونيات</td>\n",
       "    </tr>\n",
       "    <tr>\n",
       "      <th>2</th>\n",
       "      <td>2</td>\n",
       "      <td>60202</td>\n",
       "      <td>317781</td>\n",
       "      <td>1</td>\n",
       "      <td>متجر سئ جدا مصداقيته بيانات البضاعة وايضا مواع...</td>\n",
       "      <td>2023-02-18 15:41:20.320</td>\n",
       "      <td>إلكترونيات</td>\n",
       "    </tr>\n",
       "    <tr>\n",
       "      <th>3</th>\n",
       "      <td>3</td>\n",
       "      <td>60202</td>\n",
       "      <td>312616</td>\n",
       "      <td>1</td>\n",
       "      <td>وجد</td>\n",
       "      <td>2023-01-18 10:17:30.503</td>\n",
       "      <td>إلكترونيات</td>\n",
       "    </tr>\n",
       "    <tr>\n",
       "      <th>4</th>\n",
       "      <td>4</td>\n",
       "      <td>60202</td>\n",
       "      <td>309154</td>\n",
       "      <td>1</td>\n",
       "      <td>وجد</td>\n",
       "      <td>2023-01-01 03:54:11.487</td>\n",
       "      <td>إلكترونيات</td>\n",
       "    </tr>\n",
       "    <tr>\n",
       "      <th>...</th>\n",
       "      <td>...</td>\n",
       "      <td>...</td>\n",
       "      <td>...</td>\n",
       "      <td>...</td>\n",
       "      <td>...</td>\n",
       "      <td>...</td>\n",
       "      <td>...</td>\n",
       "    </tr>\n",
       "    <tr>\n",
       "      <th>62879</th>\n",
       "      <td>62879</td>\n",
       "      <td>44461</td>\n",
       "      <td>61446</td>\n",
       "      <td>5</td>\n",
       "      <td>مايميز المتجر سرعة الرد والتوصيل السريع وجودة ...</td>\n",
       "      <td>2018-08-28 19:16:42.617</td>\n",
       "      <td>خدمات الأعمال</td>\n",
       "    </tr>\n",
       "    <tr>\n",
       "      <th>62880</th>\n",
       "      <td>62880</td>\n",
       "      <td>44461</td>\n",
       "      <td>60746</td>\n",
       "      <td>5</td>\n",
       "      <td>تعامل متجر توليب تجربه تستحق اعادتها مره النوا...</td>\n",
       "      <td>2018-07-31 02:51:11.543</td>\n",
       "      <td>خدمات الأعمال</td>\n",
       "    </tr>\n",
       "    <tr>\n",
       "      <th>62881</th>\n",
       "      <td>62881</td>\n",
       "      <td>44461</td>\n",
       "      <td>60443</td>\n",
       "      <td>5</td>\n",
       "      <td>تجربتي معها جمييله وانسانه ذوق واخلاق ومتعاونه...</td>\n",
       "      <td>2018-07-22 16:43:45.897</td>\n",
       "      <td>خدمات الأعمال</td>\n",
       "    </tr>\n",
       "    <tr>\n",
       "      <th>62882</th>\n",
       "      <td>62882</td>\n",
       "      <td>44461</td>\n",
       "      <td>60180</td>\n",
       "      <td>5</td>\n",
       "      <td>متجر توليب جميل جدا والتعامل اجمل</td>\n",
       "      <td>2018-07-16 08:09:20.407</td>\n",
       "      <td>خدمات الأعمال</td>\n",
       "    </tr>\n",
       "    <tr>\n",
       "      <th>62883</th>\n",
       "      <td>62883</td>\n",
       "      <td>44461</td>\n",
       "      <td>60179</td>\n",
       "      <td>5</td>\n",
       "      <td>وجد</td>\n",
       "      <td>2018-07-16 06:12:50.920</td>\n",
       "      <td>خدمات الأعمال</td>\n",
       "    </tr>\n",
       "  </tbody>\n",
       "</table>\n",
       "<p>62884 rows × 7 columns</p>\n",
       "</div>"
      ],
      "text/plain": [
       "       Unnamed: 0  BusinessId  review_id  rating  \\\n",
       "0               0       60202     364189       1   \n",
       "1               1       60202     356203       1   \n",
       "2               2       60202     317781       1   \n",
       "3               3       60202     312616       1   \n",
       "4               4       60202     309154       1   \n",
       "...           ...         ...        ...     ...   \n",
       "62879       62879       44461      61446       5   \n",
       "62880       62880       44461      60746       5   \n",
       "62881       62881       44461      60443       5   \n",
       "62882       62882       44461      60180       5   \n",
       "62883       62883       44461      60179       5   \n",
       "\n",
       "                                                 comment  \\\n",
       "0      كنت أتعامل معهم أسعارهم أرخص آخر مرة حصلت لي ع...   \n",
       "1                                   مصداقية اسعار المنتج   \n",
       "2      متجر سئ جدا مصداقيته بيانات البضاعة وايضا مواع...   \n",
       "3                                                    وجد   \n",
       "4                                                    وجد   \n",
       "...                                                  ...   \n",
       "62879  مايميز المتجر سرعة الرد والتوصيل السريع وجودة ...   \n",
       "62880  تعامل متجر توليب تجربه تستحق اعادتها مره النوا...   \n",
       "62881  تجربتي معها جمييله وانسانه ذوق واخلاق ومتعاونه...   \n",
       "62882                  متجر توليب جميل جدا والتعامل اجمل   \n",
       "62883                                                وجد   \n",
       "\n",
       "                 creation_date   BusinessType  \n",
       "0      2024-05-11 05:56:29.327     إلكترونيات  \n",
       "1      2024-03-06 08:08:24.190     إلكترونيات  \n",
       "2      2023-02-18 15:41:20.320     إلكترونيات  \n",
       "3      2023-01-18 10:17:30.503     إلكترونيات  \n",
       "4      2023-01-01 03:54:11.487     إلكترونيات  \n",
       "...                        ...            ...  \n",
       "62879  2018-08-28 19:16:42.617  خدمات الأعمال  \n",
       "62880  2018-07-31 02:51:11.543  خدمات الأعمال  \n",
       "62881  2018-07-22 16:43:45.897  خدمات الأعمال  \n",
       "62882  2018-07-16 08:09:20.407  خدمات الأعمال  \n",
       "62883  2018-07-16 06:12:50.920  خدمات الأعمال  \n",
       "\n",
       "[62884 rows x 7 columns]"
      ]
     },
     "execution_count": 138,
     "metadata": {},
     "output_type": "execute_result"
    }
   ],
   "source": [
    "df"
   ]
  },
  {
   "cell_type": "code",
   "execution_count": 139,
   "metadata": {},
   "outputs": [],
   "source": [
    "df.drop('Unnamed: 0', axis=1, inplace=True)"
   ]
  },
  {
   "cell_type": "code",
   "execution_count": 140,
   "metadata": {},
   "outputs": [],
   "source": [
    "copy = df.copy()"
   ]
  },
  {
   "cell_type": "code",
   "execution_count": 141,
   "metadata": {},
   "outputs": [],
   "source": [
    "comments = df[~(df['comment'] == 'وجد') ]"
   ]
  },
  {
   "cell_type": "code",
   "execution_count": 142,
   "metadata": {},
   "outputs": [],
   "source": [
    "reviews = df[(df['comment'] == 'وجد')]\n"
   ]
  },
  {
   "cell_type": "code",
   "execution_count": 143,
   "metadata": {},
   "outputs": [
    {
     "data": {
      "text/html": [
       "<div>\n",
       "<style scoped>\n",
       "    .dataframe tbody tr th:only-of-type {\n",
       "        vertical-align: middle;\n",
       "    }\n",
       "\n",
       "    .dataframe tbody tr th {\n",
       "        vertical-align: top;\n",
       "    }\n",
       "\n",
       "    .dataframe thead th {\n",
       "        text-align: right;\n",
       "    }\n",
       "</style>\n",
       "<table border=\"1\" class=\"dataframe\">\n",
       "  <thead>\n",
       "    <tr style=\"text-align: right;\">\n",
       "      <th></th>\n",
       "      <th>BusinessId</th>\n",
       "      <th>review_id</th>\n",
       "      <th>rating</th>\n",
       "      <th>comment</th>\n",
       "      <th>creation_date</th>\n",
       "      <th>BusinessType</th>\n",
       "    </tr>\n",
       "  </thead>\n",
       "  <tbody>\n",
       "    <tr>\n",
       "      <th>3</th>\n",
       "      <td>60202</td>\n",
       "      <td>312616</td>\n",
       "      <td>1</td>\n",
       "      <td>وجد</td>\n",
       "      <td>2023-01-18 10:17:30.503</td>\n",
       "      <td>إلكترونيات</td>\n",
       "    </tr>\n",
       "    <tr>\n",
       "      <th>4</th>\n",
       "      <td>60202</td>\n",
       "      <td>309154</td>\n",
       "      <td>1</td>\n",
       "      <td>وجد</td>\n",
       "      <td>2023-01-01 03:54:11.487</td>\n",
       "      <td>إلكترونيات</td>\n",
       "    </tr>\n",
       "    <tr>\n",
       "      <th>7</th>\n",
       "      <td>60202</td>\n",
       "      <td>246856</td>\n",
       "      <td>1</td>\n",
       "      <td>وجد</td>\n",
       "      <td>2022-01-08 22:46:46.653</td>\n",
       "      <td>إلكترونيات</td>\n",
       "    </tr>\n",
       "    <tr>\n",
       "      <th>8</th>\n",
       "      <td>60202</td>\n",
       "      <td>236524</td>\n",
       "      <td>1</td>\n",
       "      <td>وجد</td>\n",
       "      <td>2021-10-17 15:45:04.810</td>\n",
       "      <td>إلكترونيات</td>\n",
       "    </tr>\n",
       "    <tr>\n",
       "      <th>9</th>\n",
       "      <td>60202</td>\n",
       "      <td>232297</td>\n",
       "      <td>1</td>\n",
       "      <td>وجد</td>\n",
       "      <td>2021-09-14 11:49:32.320</td>\n",
       "      <td>إلكترونيات</td>\n",
       "    </tr>\n",
       "    <tr>\n",
       "      <th>...</th>\n",
       "      <td>...</td>\n",
       "      <td>...</td>\n",
       "      <td>...</td>\n",
       "      <td>...</td>\n",
       "      <td>...</td>\n",
       "      <td>...</td>\n",
       "    </tr>\n",
       "    <tr>\n",
       "      <th>62854</th>\n",
       "      <td>44461</td>\n",
       "      <td>65715</td>\n",
       "      <td>5</td>\n",
       "      <td>وجد</td>\n",
       "      <td>2018-12-05 03:58:01.157</td>\n",
       "      <td>خدمات الأعمال</td>\n",
       "    </tr>\n",
       "    <tr>\n",
       "      <th>62855</th>\n",
       "      <td>44461</td>\n",
       "      <td>65596</td>\n",
       "      <td>5</td>\n",
       "      <td>وجد</td>\n",
       "      <td>2018-12-02 12:54:52.913</td>\n",
       "      <td>خدمات الأعمال</td>\n",
       "    </tr>\n",
       "    <tr>\n",
       "      <th>62856</th>\n",
       "      <td>44461</td>\n",
       "      <td>65548</td>\n",
       "      <td>5</td>\n",
       "      <td>وجد</td>\n",
       "      <td>2018-11-28 11:34:49.263</td>\n",
       "      <td>خدمات الأعمال</td>\n",
       "    </tr>\n",
       "    <tr>\n",
       "      <th>62868</th>\n",
       "      <td>44461</td>\n",
       "      <td>62959</td>\n",
       "      <td>5</td>\n",
       "      <td>وجد</td>\n",
       "      <td>2018-10-10 03:15:09.630</td>\n",
       "      <td>خدمات الأعمال</td>\n",
       "    </tr>\n",
       "    <tr>\n",
       "      <th>62883</th>\n",
       "      <td>44461</td>\n",
       "      <td>60179</td>\n",
       "      <td>5</td>\n",
       "      <td>وجد</td>\n",
       "      <td>2018-07-16 06:12:50.920</td>\n",
       "      <td>خدمات الأعمال</td>\n",
       "    </tr>\n",
       "  </tbody>\n",
       "</table>\n",
       "<p>22365 rows × 6 columns</p>\n",
       "</div>"
      ],
      "text/plain": [
       "       BusinessId  review_id  rating comment            creation_date  \\\n",
       "3           60202     312616       1     وجد  2023-01-18 10:17:30.503   \n",
       "4           60202     309154       1     وجد  2023-01-01 03:54:11.487   \n",
       "7           60202     246856       1     وجد  2022-01-08 22:46:46.653   \n",
       "8           60202     236524       1     وجد  2021-10-17 15:45:04.810   \n",
       "9           60202     232297       1     وجد  2021-09-14 11:49:32.320   \n",
       "...           ...        ...     ...     ...                      ...   \n",
       "62854       44461      65715       5     وجد  2018-12-05 03:58:01.157   \n",
       "62855       44461      65596       5     وجد  2018-12-02 12:54:52.913   \n",
       "62856       44461      65548       5     وجد  2018-11-28 11:34:49.263   \n",
       "62868       44461      62959       5     وجد  2018-10-10 03:15:09.630   \n",
       "62883       44461      60179       5     وجد  2018-07-16 06:12:50.920   \n",
       "\n",
       "        BusinessType  \n",
       "3         إلكترونيات  \n",
       "4         إلكترونيات  \n",
       "7         إلكترونيات  \n",
       "8         إلكترونيات  \n",
       "9         إلكترونيات  \n",
       "...              ...  \n",
       "62854  خدمات الأعمال  \n",
       "62855  خدمات الأعمال  \n",
       "62856  خدمات الأعمال  \n",
       "62868  خدمات الأعمال  \n",
       "62883  خدمات الأعمال  \n",
       "\n",
       "[22365 rows x 6 columns]"
      ]
     },
     "execution_count": 143,
     "metadata": {},
     "output_type": "execute_result"
    }
   ],
   "source": [
    "reviews"
   ]
  },
  {
   "cell_type": "code",
   "execution_count": 144,
   "metadata": {},
   "outputs": [
    {
     "data": {
      "text/html": [
       "<div>\n",
       "<style scoped>\n",
       "    .dataframe tbody tr th:only-of-type {\n",
       "        vertical-align: middle;\n",
       "    }\n",
       "\n",
       "    .dataframe tbody tr th {\n",
       "        vertical-align: top;\n",
       "    }\n",
       "\n",
       "    .dataframe thead th {\n",
       "        text-align: right;\n",
       "    }\n",
       "</style>\n",
       "<table border=\"1\" class=\"dataframe\">\n",
       "  <thead>\n",
       "    <tr style=\"text-align: right;\">\n",
       "      <th></th>\n",
       "      <th>BusinessId</th>\n",
       "      <th>review_id</th>\n",
       "      <th>rating</th>\n",
       "      <th>comment</th>\n",
       "      <th>creation_date</th>\n",
       "      <th>BusinessType</th>\n",
       "    </tr>\n",
       "  </thead>\n",
       "  <tbody>\n",
       "    <tr>\n",
       "      <th>0</th>\n",
       "      <td>60202</td>\n",
       "      <td>364189</td>\n",
       "      <td>1</td>\n",
       "      <td>كنت أتعامل معهم أسعارهم أرخص آخر مرة حصلت لي ع...</td>\n",
       "      <td>2024-05-11 05:56:29.327</td>\n",
       "      <td>إلكترونيات</td>\n",
       "    </tr>\n",
       "    <tr>\n",
       "      <th>1</th>\n",
       "      <td>60202</td>\n",
       "      <td>356203</td>\n",
       "      <td>1</td>\n",
       "      <td>مصداقية اسعار المنتج</td>\n",
       "      <td>2024-03-06 08:08:24.190</td>\n",
       "      <td>إلكترونيات</td>\n",
       "    </tr>\n",
       "    <tr>\n",
       "      <th>2</th>\n",
       "      <td>60202</td>\n",
       "      <td>317781</td>\n",
       "      <td>1</td>\n",
       "      <td>متجر سئ جدا مصداقيته بيانات البضاعة وايضا مواع...</td>\n",
       "      <td>2023-02-18 15:41:20.320</td>\n",
       "      <td>إلكترونيات</td>\n",
       "    </tr>\n",
       "    <tr>\n",
       "      <th>5</th>\n",
       "      <td>60202</td>\n",
       "      <td>285444</td>\n",
       "      <td>5</td>\n",
       "      <td>خدمة التوصيل سيئة للغاية يوجد رد تواصل العميل ...</td>\n",
       "      <td>2022-09-03 14:01:18.933</td>\n",
       "      <td>إلكترونيات</td>\n",
       "    </tr>\n",
       "    <tr>\n",
       "      <th>6</th>\n",
       "      <td>60202</td>\n",
       "      <td>260277</td>\n",
       "      <td>5</td>\n",
       "      <td>تعاملهم ممتاز وسرعة تنفيذ الطلب ممتازة وحتى ال...</td>\n",
       "      <td>2022-05-21 13:07:39.523</td>\n",
       "      <td>إلكترونيات</td>\n",
       "    </tr>\n",
       "    <tr>\n",
       "      <th>...</th>\n",
       "      <td>...</td>\n",
       "      <td>...</td>\n",
       "      <td>...</td>\n",
       "      <td>...</td>\n",
       "      <td>...</td>\n",
       "      <td>...</td>\n",
       "    </tr>\n",
       "    <tr>\n",
       "      <th>62878</th>\n",
       "      <td>44461</td>\n",
       "      <td>61973</td>\n",
       "      <td>5</td>\n",
       "      <td>اتعب وانا اقول تجنن أخلاقها الحلوة وتعاملها ال...</td>\n",
       "      <td>2018-09-16 19:00:09.143</td>\n",
       "      <td>خدمات الأعمال</td>\n",
       "    </tr>\n",
       "    <tr>\n",
       "      <th>62879</th>\n",
       "      <td>44461</td>\n",
       "      <td>61446</td>\n",
       "      <td>5</td>\n",
       "      <td>مايميز المتجر سرعة الرد والتوصيل السريع وجودة ...</td>\n",
       "      <td>2018-08-28 19:16:42.617</td>\n",
       "      <td>خدمات الأعمال</td>\n",
       "    </tr>\n",
       "    <tr>\n",
       "      <th>62880</th>\n",
       "      <td>44461</td>\n",
       "      <td>60746</td>\n",
       "      <td>5</td>\n",
       "      <td>تعامل متجر توليب تجربه تستحق اعادتها مره النوا...</td>\n",
       "      <td>2018-07-31 02:51:11.543</td>\n",
       "      <td>خدمات الأعمال</td>\n",
       "    </tr>\n",
       "    <tr>\n",
       "      <th>62881</th>\n",
       "      <td>44461</td>\n",
       "      <td>60443</td>\n",
       "      <td>5</td>\n",
       "      <td>تجربتي معها جمييله وانسانه ذوق واخلاق ومتعاونه...</td>\n",
       "      <td>2018-07-22 16:43:45.897</td>\n",
       "      <td>خدمات الأعمال</td>\n",
       "    </tr>\n",
       "    <tr>\n",
       "      <th>62882</th>\n",
       "      <td>44461</td>\n",
       "      <td>60180</td>\n",
       "      <td>5</td>\n",
       "      <td>متجر توليب جميل جدا والتعامل اجمل</td>\n",
       "      <td>2018-07-16 08:09:20.407</td>\n",
       "      <td>خدمات الأعمال</td>\n",
       "    </tr>\n",
       "  </tbody>\n",
       "</table>\n",
       "<p>40519 rows × 6 columns</p>\n",
       "</div>"
      ],
      "text/plain": [
       "       BusinessId  review_id  rating  \\\n",
       "0           60202     364189       1   \n",
       "1           60202     356203       1   \n",
       "2           60202     317781       1   \n",
       "5           60202     285444       5   \n",
       "6           60202     260277       5   \n",
       "...           ...        ...     ...   \n",
       "62878       44461      61973       5   \n",
       "62879       44461      61446       5   \n",
       "62880       44461      60746       5   \n",
       "62881       44461      60443       5   \n",
       "62882       44461      60180       5   \n",
       "\n",
       "                                                 comment  \\\n",
       "0      كنت أتعامل معهم أسعارهم أرخص آخر مرة حصلت لي ع...   \n",
       "1                                   مصداقية اسعار المنتج   \n",
       "2      متجر سئ جدا مصداقيته بيانات البضاعة وايضا مواع...   \n",
       "5      خدمة التوصيل سيئة للغاية يوجد رد تواصل العميل ...   \n",
       "6      تعاملهم ممتاز وسرعة تنفيذ الطلب ممتازة وحتى ال...   \n",
       "...                                                  ...   \n",
       "62878  اتعب وانا اقول تجنن أخلاقها الحلوة وتعاملها ال...   \n",
       "62879  مايميز المتجر سرعة الرد والتوصيل السريع وجودة ...   \n",
       "62880  تعامل متجر توليب تجربه تستحق اعادتها مره النوا...   \n",
       "62881  تجربتي معها جمييله وانسانه ذوق واخلاق ومتعاونه...   \n",
       "62882                  متجر توليب جميل جدا والتعامل اجمل   \n",
       "\n",
       "                 creation_date   BusinessType  \n",
       "0      2024-05-11 05:56:29.327     إلكترونيات  \n",
       "1      2024-03-06 08:08:24.190     إلكترونيات  \n",
       "2      2023-02-18 15:41:20.320     إلكترونيات  \n",
       "5      2022-09-03 14:01:18.933     إلكترونيات  \n",
       "6      2022-05-21 13:07:39.523     إلكترونيات  \n",
       "...                        ...            ...  \n",
       "62878  2018-09-16 19:00:09.143  خدمات الأعمال  \n",
       "62879  2018-08-28 19:16:42.617  خدمات الأعمال  \n",
       "62880  2018-07-31 02:51:11.543  خدمات الأعمال  \n",
       "62881  2018-07-22 16:43:45.897  خدمات الأعمال  \n",
       "62882  2018-07-16 08:09:20.407  خدمات الأعمال  \n",
       "\n",
       "[40519 rows x 6 columns]"
      ]
     },
     "execution_count": 144,
     "metadata": {},
     "output_type": "execute_result"
    }
   ],
   "source": [
    "comments"
   ]
  },
  {
   "cell_type": "code",
   "execution_count": 145,
   "metadata": {},
   "outputs": [
    {
     "data": {
      "text/html": [
       "<div>\n",
       "<style scoped>\n",
       "    .dataframe tbody tr th:only-of-type {\n",
       "        vertical-align: middle;\n",
       "    }\n",
       "\n",
       "    .dataframe tbody tr th {\n",
       "        vertical-align: top;\n",
       "    }\n",
       "\n",
       "    .dataframe thead th {\n",
       "        text-align: right;\n",
       "    }\n",
       "</style>\n",
       "<table border=\"1\" class=\"dataframe\">\n",
       "  <thead>\n",
       "    <tr style=\"text-align: right;\">\n",
       "      <th></th>\n",
       "      <th>BusinessId</th>\n",
       "      <th>review_id</th>\n",
       "      <th>rating</th>\n",
       "      <th>comment</th>\n",
       "      <th>creation_date</th>\n",
       "      <th>BusinessType</th>\n",
       "    </tr>\n",
       "  </thead>\n",
       "  <tbody>\n",
       "    <tr>\n",
       "      <th>0</th>\n",
       "      <td>60202</td>\n",
       "      <td>364189</td>\n",
       "      <td>1</td>\n",
       "      <td>كنت أتعامل معهم أسعارهم أرخص آخر مرة حصلت لي ع...</td>\n",
       "      <td>2024-05-11 05:56:29.327</td>\n",
       "      <td>إلكترونيات</td>\n",
       "    </tr>\n",
       "    <tr>\n",
       "      <th>1</th>\n",
       "      <td>60202</td>\n",
       "      <td>356203</td>\n",
       "      <td>1</td>\n",
       "      <td>مصداقية اسعار المنتج</td>\n",
       "      <td>2024-03-06 08:08:24.190</td>\n",
       "      <td>إلكترونيات</td>\n",
       "    </tr>\n",
       "    <tr>\n",
       "      <th>2</th>\n",
       "      <td>60202</td>\n",
       "      <td>317781</td>\n",
       "      <td>1</td>\n",
       "      <td>متجر سئ جدا مصداقيته بيانات البضاعة وايضا مواع...</td>\n",
       "      <td>2023-02-18 15:41:20.320</td>\n",
       "      <td>إلكترونيات</td>\n",
       "    </tr>\n",
       "    <tr>\n",
       "      <th>5</th>\n",
       "      <td>60202</td>\n",
       "      <td>285444</td>\n",
       "      <td>5</td>\n",
       "      <td>خدمة التوصيل سيئة للغاية يوجد رد تواصل العميل ...</td>\n",
       "      <td>2022-09-03 14:01:18.933</td>\n",
       "      <td>إلكترونيات</td>\n",
       "    </tr>\n",
       "    <tr>\n",
       "      <th>6</th>\n",
       "      <td>60202</td>\n",
       "      <td>260277</td>\n",
       "      <td>5</td>\n",
       "      <td>تعاملهم ممتاز وسرعة تنفيذ الطلب ممتازة وحتى ال...</td>\n",
       "      <td>2022-05-21 13:07:39.523</td>\n",
       "      <td>إلكترونيات</td>\n",
       "    </tr>\n",
       "    <tr>\n",
       "      <th>...</th>\n",
       "      <td>...</td>\n",
       "      <td>...</td>\n",
       "      <td>...</td>\n",
       "      <td>...</td>\n",
       "      <td>...</td>\n",
       "      <td>...</td>\n",
       "    </tr>\n",
       "    <tr>\n",
       "      <th>62878</th>\n",
       "      <td>44461</td>\n",
       "      <td>61973</td>\n",
       "      <td>5</td>\n",
       "      <td>اتعب وانا اقول تجنن أخلاقها الحلوة وتعاملها ال...</td>\n",
       "      <td>2018-09-16 19:00:09.143</td>\n",
       "      <td>خدمات الأعمال</td>\n",
       "    </tr>\n",
       "    <tr>\n",
       "      <th>62879</th>\n",
       "      <td>44461</td>\n",
       "      <td>61446</td>\n",
       "      <td>5</td>\n",
       "      <td>مايميز المتجر سرعة الرد والتوصيل السريع وجودة ...</td>\n",
       "      <td>2018-08-28 19:16:42.617</td>\n",
       "      <td>خدمات الأعمال</td>\n",
       "    </tr>\n",
       "    <tr>\n",
       "      <th>62880</th>\n",
       "      <td>44461</td>\n",
       "      <td>60746</td>\n",
       "      <td>5</td>\n",
       "      <td>تعامل متجر توليب تجربه تستحق اعادتها مره النوا...</td>\n",
       "      <td>2018-07-31 02:51:11.543</td>\n",
       "      <td>خدمات الأعمال</td>\n",
       "    </tr>\n",
       "    <tr>\n",
       "      <th>62881</th>\n",
       "      <td>44461</td>\n",
       "      <td>60443</td>\n",
       "      <td>5</td>\n",
       "      <td>تجربتي معها جمييله وانسانه ذوق واخلاق ومتعاونه...</td>\n",
       "      <td>2018-07-22 16:43:45.897</td>\n",
       "      <td>خدمات الأعمال</td>\n",
       "    </tr>\n",
       "    <tr>\n",
       "      <th>62882</th>\n",
       "      <td>44461</td>\n",
       "      <td>60180</td>\n",
       "      <td>5</td>\n",
       "      <td>متجر توليب جميل جدا والتعامل اجمل</td>\n",
       "      <td>2018-07-16 08:09:20.407</td>\n",
       "      <td>خدمات الأعمال</td>\n",
       "    </tr>\n",
       "  </tbody>\n",
       "</table>\n",
       "<p>40519 rows × 6 columns</p>\n",
       "</div>"
      ],
      "text/plain": [
       "       BusinessId  review_id  rating  \\\n",
       "0           60202     364189       1   \n",
       "1           60202     356203       1   \n",
       "2           60202     317781       1   \n",
       "5           60202     285444       5   \n",
       "6           60202     260277       5   \n",
       "...           ...        ...     ...   \n",
       "62878       44461      61973       5   \n",
       "62879       44461      61446       5   \n",
       "62880       44461      60746       5   \n",
       "62881       44461      60443       5   \n",
       "62882       44461      60180       5   \n",
       "\n",
       "                                                 comment  \\\n",
       "0      كنت أتعامل معهم أسعارهم أرخص آخر مرة حصلت لي ع...   \n",
       "1                                   مصداقية اسعار المنتج   \n",
       "2      متجر سئ جدا مصداقيته بيانات البضاعة وايضا مواع...   \n",
       "5      خدمة التوصيل سيئة للغاية يوجد رد تواصل العميل ...   \n",
       "6      تعاملهم ممتاز وسرعة تنفيذ الطلب ممتازة وحتى ال...   \n",
       "...                                                  ...   \n",
       "62878  اتعب وانا اقول تجنن أخلاقها الحلوة وتعاملها ال...   \n",
       "62879  مايميز المتجر سرعة الرد والتوصيل السريع وجودة ...   \n",
       "62880  تعامل متجر توليب تجربه تستحق اعادتها مره النوا...   \n",
       "62881  تجربتي معها جمييله وانسانه ذوق واخلاق ومتعاونه...   \n",
       "62882                  متجر توليب جميل جدا والتعامل اجمل   \n",
       "\n",
       "                 creation_date   BusinessType  \n",
       "0      2024-05-11 05:56:29.327     إلكترونيات  \n",
       "1      2024-03-06 08:08:24.190     إلكترونيات  \n",
       "2      2023-02-18 15:41:20.320     إلكترونيات  \n",
       "5      2022-09-03 14:01:18.933     إلكترونيات  \n",
       "6      2022-05-21 13:07:39.523     إلكترونيات  \n",
       "...                        ...            ...  \n",
       "62878  2018-09-16 19:00:09.143  خدمات الأعمال  \n",
       "62879  2018-08-28 19:16:42.617  خدمات الأعمال  \n",
       "62880  2018-07-31 02:51:11.543  خدمات الأعمال  \n",
       "62881  2018-07-22 16:43:45.897  خدمات الأعمال  \n",
       "62882  2018-07-16 08:09:20.407  خدمات الأعمال  \n",
       "\n",
       "[40519 rows x 6 columns]"
      ]
     },
     "execution_count": 145,
     "metadata": {},
     "output_type": "execute_result"
    }
   ],
   "source": [
    "comments"
   ]
  },
  {
   "cell_type": "markdown",
   "metadata": {},
   "source": [
    "### number of ratings for each type"
   ]
  },
  {
   "cell_type": "code",
   "execution_count": 163,
   "metadata": {},
   "outputs": [
    {
     "data": {
      "application/vnd.plotly.v1+json": {
       "config": {
        "plotlyServerURL": "https://plot.ly"
       },
       "data": [
        {
         "alignmentgroup": "True",
         "hovertemplate": "BusinessType=%{x}<br>Count=%{y}<extra></extra>",
         "legendgroup": "",
         "marker": {
          "color": "#636efa",
          "pattern": {
           "shape": ""
          }
         },
         "name": "",
         "offsetgroup": "",
         "orientation": "v",
         "showlegend": false,
         "textposition": "auto",
         "type": "bar",
         "x": [
          "خدمات الأعمال",
          "إلكترونيات",
          "الجمال والصحة",
          "أطعمة ومشروبات",
          "المنزل",
          "حفلات",
          "هدايا",
          "السيارات",
          "ازياء",
          "التعليم",
          "منتجات رقمية",
          "العقارات",
          "ولاعات"
         ],
         "xaxis": "x",
         "y": [
          31169,
          13347,
          8336,
          3036,
          1705,
          1479,
          1092,
          832,
          776,
          529,
          310,
          218,
          55
         ],
         "yaxis": "y"
        }
       ],
       "layout": {
        "barmode": "relative",
        "legend": {
         "tracegroupgap": 0
        },
        "template": {
         "data": {
          "bar": [
           {
            "error_x": {
             "color": "#2a3f5f"
            },
            "error_y": {
             "color": "#2a3f5f"
            },
            "marker": {
             "line": {
              "color": "#E5ECF6",
              "width": 0.5
             },
             "pattern": {
              "fillmode": "overlay",
              "size": 10,
              "solidity": 0.2
             }
            },
            "type": "bar"
           }
          ],
          "barpolar": [
           {
            "marker": {
             "line": {
              "color": "#E5ECF6",
              "width": 0.5
             },
             "pattern": {
              "fillmode": "overlay",
              "size": 10,
              "solidity": 0.2
             }
            },
            "type": "barpolar"
           }
          ],
          "carpet": [
           {
            "aaxis": {
             "endlinecolor": "#2a3f5f",
             "gridcolor": "white",
             "linecolor": "white",
             "minorgridcolor": "white",
             "startlinecolor": "#2a3f5f"
            },
            "baxis": {
             "endlinecolor": "#2a3f5f",
             "gridcolor": "white",
             "linecolor": "white",
             "minorgridcolor": "white",
             "startlinecolor": "#2a3f5f"
            },
            "type": "carpet"
           }
          ],
          "choropleth": [
           {
            "colorbar": {
             "outlinewidth": 0,
             "ticks": ""
            },
            "type": "choropleth"
           }
          ],
          "contour": [
           {
            "colorbar": {
             "outlinewidth": 0,
             "ticks": ""
            },
            "colorscale": [
             [
              0,
              "#0d0887"
             ],
             [
              0.1111111111111111,
              "#46039f"
             ],
             [
              0.2222222222222222,
              "#7201a8"
             ],
             [
              0.3333333333333333,
              "#9c179e"
             ],
             [
              0.4444444444444444,
              "#bd3786"
             ],
             [
              0.5555555555555556,
              "#d8576b"
             ],
             [
              0.6666666666666666,
              "#ed7953"
             ],
             [
              0.7777777777777778,
              "#fb9f3a"
             ],
             [
              0.8888888888888888,
              "#fdca26"
             ],
             [
              1,
              "#f0f921"
             ]
            ],
            "type": "contour"
           }
          ],
          "contourcarpet": [
           {
            "colorbar": {
             "outlinewidth": 0,
             "ticks": ""
            },
            "type": "contourcarpet"
           }
          ],
          "heatmap": [
           {
            "colorbar": {
             "outlinewidth": 0,
             "ticks": ""
            },
            "colorscale": [
             [
              0,
              "#0d0887"
             ],
             [
              0.1111111111111111,
              "#46039f"
             ],
             [
              0.2222222222222222,
              "#7201a8"
             ],
             [
              0.3333333333333333,
              "#9c179e"
             ],
             [
              0.4444444444444444,
              "#bd3786"
             ],
             [
              0.5555555555555556,
              "#d8576b"
             ],
             [
              0.6666666666666666,
              "#ed7953"
             ],
             [
              0.7777777777777778,
              "#fb9f3a"
             ],
             [
              0.8888888888888888,
              "#fdca26"
             ],
             [
              1,
              "#f0f921"
             ]
            ],
            "type": "heatmap"
           }
          ],
          "heatmapgl": [
           {
            "colorbar": {
             "outlinewidth": 0,
             "ticks": ""
            },
            "colorscale": [
             [
              0,
              "#0d0887"
             ],
             [
              0.1111111111111111,
              "#46039f"
             ],
             [
              0.2222222222222222,
              "#7201a8"
             ],
             [
              0.3333333333333333,
              "#9c179e"
             ],
             [
              0.4444444444444444,
              "#bd3786"
             ],
             [
              0.5555555555555556,
              "#d8576b"
             ],
             [
              0.6666666666666666,
              "#ed7953"
             ],
             [
              0.7777777777777778,
              "#fb9f3a"
             ],
             [
              0.8888888888888888,
              "#fdca26"
             ],
             [
              1,
              "#f0f921"
             ]
            ],
            "type": "heatmapgl"
           }
          ],
          "histogram": [
           {
            "marker": {
             "pattern": {
              "fillmode": "overlay",
              "size": 10,
              "solidity": 0.2
             }
            },
            "type": "histogram"
           }
          ],
          "histogram2d": [
           {
            "colorbar": {
             "outlinewidth": 0,
             "ticks": ""
            },
            "colorscale": [
             [
              0,
              "#0d0887"
             ],
             [
              0.1111111111111111,
              "#46039f"
             ],
             [
              0.2222222222222222,
              "#7201a8"
             ],
             [
              0.3333333333333333,
              "#9c179e"
             ],
             [
              0.4444444444444444,
              "#bd3786"
             ],
             [
              0.5555555555555556,
              "#d8576b"
             ],
             [
              0.6666666666666666,
              "#ed7953"
             ],
             [
              0.7777777777777778,
              "#fb9f3a"
             ],
             [
              0.8888888888888888,
              "#fdca26"
             ],
             [
              1,
              "#f0f921"
             ]
            ],
            "type": "histogram2d"
           }
          ],
          "histogram2dcontour": [
           {
            "colorbar": {
             "outlinewidth": 0,
             "ticks": ""
            },
            "colorscale": [
             [
              0,
              "#0d0887"
             ],
             [
              0.1111111111111111,
              "#46039f"
             ],
             [
              0.2222222222222222,
              "#7201a8"
             ],
             [
              0.3333333333333333,
              "#9c179e"
             ],
             [
              0.4444444444444444,
              "#bd3786"
             ],
             [
              0.5555555555555556,
              "#d8576b"
             ],
             [
              0.6666666666666666,
              "#ed7953"
             ],
             [
              0.7777777777777778,
              "#fb9f3a"
             ],
             [
              0.8888888888888888,
              "#fdca26"
             ],
             [
              1,
              "#f0f921"
             ]
            ],
            "type": "histogram2dcontour"
           }
          ],
          "mesh3d": [
           {
            "colorbar": {
             "outlinewidth": 0,
             "ticks": ""
            },
            "type": "mesh3d"
           }
          ],
          "parcoords": [
           {
            "line": {
             "colorbar": {
              "outlinewidth": 0,
              "ticks": ""
             }
            },
            "type": "parcoords"
           }
          ],
          "pie": [
           {
            "automargin": true,
            "type": "pie"
           }
          ],
          "scatter": [
           {
            "fillpattern": {
             "fillmode": "overlay",
             "size": 10,
             "solidity": 0.2
            },
            "type": "scatter"
           }
          ],
          "scatter3d": [
           {
            "line": {
             "colorbar": {
              "outlinewidth": 0,
              "ticks": ""
             }
            },
            "marker": {
             "colorbar": {
              "outlinewidth": 0,
              "ticks": ""
             }
            },
            "type": "scatter3d"
           }
          ],
          "scattercarpet": [
           {
            "marker": {
             "colorbar": {
              "outlinewidth": 0,
              "ticks": ""
             }
            },
            "type": "scattercarpet"
           }
          ],
          "scattergeo": [
           {
            "marker": {
             "colorbar": {
              "outlinewidth": 0,
              "ticks": ""
             }
            },
            "type": "scattergeo"
           }
          ],
          "scattergl": [
           {
            "marker": {
             "colorbar": {
              "outlinewidth": 0,
              "ticks": ""
             }
            },
            "type": "scattergl"
           }
          ],
          "scattermapbox": [
           {
            "marker": {
             "colorbar": {
              "outlinewidth": 0,
              "ticks": ""
             }
            },
            "type": "scattermapbox"
           }
          ],
          "scatterpolar": [
           {
            "marker": {
             "colorbar": {
              "outlinewidth": 0,
              "ticks": ""
             }
            },
            "type": "scatterpolar"
           }
          ],
          "scatterpolargl": [
           {
            "marker": {
             "colorbar": {
              "outlinewidth": 0,
              "ticks": ""
             }
            },
            "type": "scatterpolargl"
           }
          ],
          "scatterternary": [
           {
            "marker": {
             "colorbar": {
              "outlinewidth": 0,
              "ticks": ""
             }
            },
            "type": "scatterternary"
           }
          ],
          "surface": [
           {
            "colorbar": {
             "outlinewidth": 0,
             "ticks": ""
            },
            "colorscale": [
             [
              0,
              "#0d0887"
             ],
             [
              0.1111111111111111,
              "#46039f"
             ],
             [
              0.2222222222222222,
              "#7201a8"
             ],
             [
              0.3333333333333333,
              "#9c179e"
             ],
             [
              0.4444444444444444,
              "#bd3786"
             ],
             [
              0.5555555555555556,
              "#d8576b"
             ],
             [
              0.6666666666666666,
              "#ed7953"
             ],
             [
              0.7777777777777778,
              "#fb9f3a"
             ],
             [
              0.8888888888888888,
              "#fdca26"
             ],
             [
              1,
              "#f0f921"
             ]
            ],
            "type": "surface"
           }
          ],
          "table": [
           {
            "cells": {
             "fill": {
              "color": "#EBF0F8"
             },
             "line": {
              "color": "white"
             }
            },
            "header": {
             "fill": {
              "color": "#C8D4E3"
             },
             "line": {
              "color": "white"
             }
            },
            "type": "table"
           }
          ]
         },
         "layout": {
          "annotationdefaults": {
           "arrowcolor": "#2a3f5f",
           "arrowhead": 0,
           "arrowwidth": 1
          },
          "autotypenumbers": "strict",
          "coloraxis": {
           "colorbar": {
            "outlinewidth": 0,
            "ticks": ""
           }
          },
          "colorscale": {
           "diverging": [
            [
             0,
             "#8e0152"
            ],
            [
             0.1,
             "#c51b7d"
            ],
            [
             0.2,
             "#de77ae"
            ],
            [
             0.3,
             "#f1b6da"
            ],
            [
             0.4,
             "#fde0ef"
            ],
            [
             0.5,
             "#f7f7f7"
            ],
            [
             0.6,
             "#e6f5d0"
            ],
            [
             0.7,
             "#b8e186"
            ],
            [
             0.8,
             "#7fbc41"
            ],
            [
             0.9,
             "#4d9221"
            ],
            [
             1,
             "#276419"
            ]
           ],
           "sequential": [
            [
             0,
             "#0d0887"
            ],
            [
             0.1111111111111111,
             "#46039f"
            ],
            [
             0.2222222222222222,
             "#7201a8"
            ],
            [
             0.3333333333333333,
             "#9c179e"
            ],
            [
             0.4444444444444444,
             "#bd3786"
            ],
            [
             0.5555555555555556,
             "#d8576b"
            ],
            [
             0.6666666666666666,
             "#ed7953"
            ],
            [
             0.7777777777777778,
             "#fb9f3a"
            ],
            [
             0.8888888888888888,
             "#fdca26"
            ],
            [
             1,
             "#f0f921"
            ]
           ],
           "sequentialminus": [
            [
             0,
             "#0d0887"
            ],
            [
             0.1111111111111111,
             "#46039f"
            ],
            [
             0.2222222222222222,
             "#7201a8"
            ],
            [
             0.3333333333333333,
             "#9c179e"
            ],
            [
             0.4444444444444444,
             "#bd3786"
            ],
            [
             0.5555555555555556,
             "#d8576b"
            ],
            [
             0.6666666666666666,
             "#ed7953"
            ],
            [
             0.7777777777777778,
             "#fb9f3a"
            ],
            [
             0.8888888888888888,
             "#fdca26"
            ],
            [
             1,
             "#f0f921"
            ]
           ]
          },
          "colorway": [
           "#636efa",
           "#EF553B",
           "#00cc96",
           "#ab63fa",
           "#FFA15A",
           "#19d3f3",
           "#FF6692",
           "#B6E880",
           "#FF97FF",
           "#FECB52"
          ],
          "font": {
           "color": "#2a3f5f"
          },
          "geo": {
           "bgcolor": "white",
           "lakecolor": "white",
           "landcolor": "#E5ECF6",
           "showlakes": true,
           "showland": true,
           "subunitcolor": "white"
          },
          "hoverlabel": {
           "align": "left"
          },
          "hovermode": "closest",
          "mapbox": {
           "style": "light"
          },
          "paper_bgcolor": "white",
          "plot_bgcolor": "#E5ECF6",
          "polar": {
           "angularaxis": {
            "gridcolor": "white",
            "linecolor": "white",
            "ticks": ""
           },
           "bgcolor": "#E5ECF6",
           "radialaxis": {
            "gridcolor": "white",
            "linecolor": "white",
            "ticks": ""
           }
          },
          "scene": {
           "xaxis": {
            "backgroundcolor": "#E5ECF6",
            "gridcolor": "white",
            "gridwidth": 2,
            "linecolor": "white",
            "showbackground": true,
            "ticks": "",
            "zerolinecolor": "white"
           },
           "yaxis": {
            "backgroundcolor": "#E5ECF6",
            "gridcolor": "white",
            "gridwidth": 2,
            "linecolor": "white",
            "showbackground": true,
            "ticks": "",
            "zerolinecolor": "white"
           },
           "zaxis": {
            "backgroundcolor": "#E5ECF6",
            "gridcolor": "white",
            "gridwidth": 2,
            "linecolor": "white",
            "showbackground": true,
            "ticks": "",
            "zerolinecolor": "white"
           }
          },
          "shapedefaults": {
           "line": {
            "color": "#2a3f5f"
           }
          },
          "ternary": {
           "aaxis": {
            "gridcolor": "white",
            "linecolor": "white",
            "ticks": ""
           },
           "baxis": {
            "gridcolor": "white",
            "linecolor": "white",
            "ticks": ""
           },
           "bgcolor": "#E5ECF6",
           "caxis": {
            "gridcolor": "white",
            "linecolor": "white",
            "ticks": ""
           }
          },
          "title": {
           "x": 0.05
          },
          "xaxis": {
           "automargin": true,
           "gridcolor": "white",
           "linecolor": "white",
           "ticks": "",
           "title": {
            "standoff": 15
           },
           "zerolinecolor": "white",
           "zerolinewidth": 2
          },
          "yaxis": {
           "automargin": true,
           "gridcolor": "white",
           "linecolor": "white",
           "ticks": "",
           "title": {
            "standoff": 15
           },
           "zerolinecolor": "white",
           "zerolinewidth": 2
          }
         }
        },
        "title": {
         "text": "Distribution of Business Types"
        },
        "xaxis": {
         "anchor": "y",
         "domain": [
          0,
          1
         ],
         "title": {
          "text": "BusinessType"
         }
        },
        "yaxis": {
         "anchor": "x",
         "domain": [
          0,
          1
         ],
         "title": {
          "text": "Count"
         }
        }
       }
      }
     },
     "metadata": {},
     "output_type": "display_data"
    }
   ],
   "source": [
    "business_type_counts = df['BusinessType'].value_counts()\n",
    "\n",
    "# Create a horizontal bar chart using Plotly\n",
    "fig = px.bar(\n",
    "    business_type_counts,\n",
    "    x=business_type_counts.index,\n",
    "    y=business_type_counts.values,\n",
    "    orientation='v',  # Horizontal bar chart\n",
    "    labels={'x': 'Business Type', 'y': 'Count'},\n",
    "    title='Distribution of Business Types'\n",
    ")\n",
    "\n",
    "# Show the plot\n",
    "fig.show()\n"
   ]
  },
  {
   "cell_type": "code",
   "execution_count": 164,
   "metadata": {},
   "outputs": [
    {
     "data": {
      "application/vnd.plotly.v1+json": {
       "config": {
        "plotlyServerURL": "https://plot.ly"
       },
       "data": [
        {
         "alignmentgroup": "True",
         "hovertemplate": "Business Type=%{x}<br>Total Ratings=%{y}<extra></extra>",
         "legendgroup": "",
         "marker": {
          "color": "#636efa",
          "pattern": {
           "shape": ""
          }
         },
         "name": "",
         "offsetgroup": "",
         "orientation": "v",
         "showlegend": false,
         "textposition": "auto",
         "type": "bar",
         "x": [
          "أطعمة ومشروبات",
          "إلكترونيات",
          "ازياء",
          "التعليم",
          "الجمال والصحة",
          "السيارات",
          "العقارات",
          "المنزل",
          "حفلات",
          "خدمات الأعمال",
          "منتجات رقمية",
          "هدايا",
          "ولاعات"
         ],
         "xaxis": "x",
         "y": [
          14521,
          63845,
          3568,
          2598,
          39228,
          4021,
          1063,
          7490,
          7094,
          150006,
          1340,
          5240,
          273
         ],
         "yaxis": "y"
        }
       ],
       "layout": {
        "barmode": "relative",
        "legend": {
         "tracegroupgap": 0
        },
        "template": {
         "data": {
          "bar": [
           {
            "error_x": {
             "color": "#2a3f5f"
            },
            "error_y": {
             "color": "#2a3f5f"
            },
            "marker": {
             "line": {
              "color": "#E5ECF6",
              "width": 0.5
             },
             "pattern": {
              "fillmode": "overlay",
              "size": 10,
              "solidity": 0.2
             }
            },
            "type": "bar"
           }
          ],
          "barpolar": [
           {
            "marker": {
             "line": {
              "color": "#E5ECF6",
              "width": 0.5
             },
             "pattern": {
              "fillmode": "overlay",
              "size": 10,
              "solidity": 0.2
             }
            },
            "type": "barpolar"
           }
          ],
          "carpet": [
           {
            "aaxis": {
             "endlinecolor": "#2a3f5f",
             "gridcolor": "white",
             "linecolor": "white",
             "minorgridcolor": "white",
             "startlinecolor": "#2a3f5f"
            },
            "baxis": {
             "endlinecolor": "#2a3f5f",
             "gridcolor": "white",
             "linecolor": "white",
             "minorgridcolor": "white",
             "startlinecolor": "#2a3f5f"
            },
            "type": "carpet"
           }
          ],
          "choropleth": [
           {
            "colorbar": {
             "outlinewidth": 0,
             "ticks": ""
            },
            "type": "choropleth"
           }
          ],
          "contour": [
           {
            "colorbar": {
             "outlinewidth": 0,
             "ticks": ""
            },
            "colorscale": [
             [
              0,
              "#0d0887"
             ],
             [
              0.1111111111111111,
              "#46039f"
             ],
             [
              0.2222222222222222,
              "#7201a8"
             ],
             [
              0.3333333333333333,
              "#9c179e"
             ],
             [
              0.4444444444444444,
              "#bd3786"
             ],
             [
              0.5555555555555556,
              "#d8576b"
             ],
             [
              0.6666666666666666,
              "#ed7953"
             ],
             [
              0.7777777777777778,
              "#fb9f3a"
             ],
             [
              0.8888888888888888,
              "#fdca26"
             ],
             [
              1,
              "#f0f921"
             ]
            ],
            "type": "contour"
           }
          ],
          "contourcarpet": [
           {
            "colorbar": {
             "outlinewidth": 0,
             "ticks": ""
            },
            "type": "contourcarpet"
           }
          ],
          "heatmap": [
           {
            "colorbar": {
             "outlinewidth": 0,
             "ticks": ""
            },
            "colorscale": [
             [
              0,
              "#0d0887"
             ],
             [
              0.1111111111111111,
              "#46039f"
             ],
             [
              0.2222222222222222,
              "#7201a8"
             ],
             [
              0.3333333333333333,
              "#9c179e"
             ],
             [
              0.4444444444444444,
              "#bd3786"
             ],
             [
              0.5555555555555556,
              "#d8576b"
             ],
             [
              0.6666666666666666,
              "#ed7953"
             ],
             [
              0.7777777777777778,
              "#fb9f3a"
             ],
             [
              0.8888888888888888,
              "#fdca26"
             ],
             [
              1,
              "#f0f921"
             ]
            ],
            "type": "heatmap"
           }
          ],
          "heatmapgl": [
           {
            "colorbar": {
             "outlinewidth": 0,
             "ticks": ""
            },
            "colorscale": [
             [
              0,
              "#0d0887"
             ],
             [
              0.1111111111111111,
              "#46039f"
             ],
             [
              0.2222222222222222,
              "#7201a8"
             ],
             [
              0.3333333333333333,
              "#9c179e"
             ],
             [
              0.4444444444444444,
              "#bd3786"
             ],
             [
              0.5555555555555556,
              "#d8576b"
             ],
             [
              0.6666666666666666,
              "#ed7953"
             ],
             [
              0.7777777777777778,
              "#fb9f3a"
             ],
             [
              0.8888888888888888,
              "#fdca26"
             ],
             [
              1,
              "#f0f921"
             ]
            ],
            "type": "heatmapgl"
           }
          ],
          "histogram": [
           {
            "marker": {
             "pattern": {
              "fillmode": "overlay",
              "size": 10,
              "solidity": 0.2
             }
            },
            "type": "histogram"
           }
          ],
          "histogram2d": [
           {
            "colorbar": {
             "outlinewidth": 0,
             "ticks": ""
            },
            "colorscale": [
             [
              0,
              "#0d0887"
             ],
             [
              0.1111111111111111,
              "#46039f"
             ],
             [
              0.2222222222222222,
              "#7201a8"
             ],
             [
              0.3333333333333333,
              "#9c179e"
             ],
             [
              0.4444444444444444,
              "#bd3786"
             ],
             [
              0.5555555555555556,
              "#d8576b"
             ],
             [
              0.6666666666666666,
              "#ed7953"
             ],
             [
              0.7777777777777778,
              "#fb9f3a"
             ],
             [
              0.8888888888888888,
              "#fdca26"
             ],
             [
              1,
              "#f0f921"
             ]
            ],
            "type": "histogram2d"
           }
          ],
          "histogram2dcontour": [
           {
            "colorbar": {
             "outlinewidth": 0,
             "ticks": ""
            },
            "colorscale": [
             [
              0,
              "#0d0887"
             ],
             [
              0.1111111111111111,
              "#46039f"
             ],
             [
              0.2222222222222222,
              "#7201a8"
             ],
             [
              0.3333333333333333,
              "#9c179e"
             ],
             [
              0.4444444444444444,
              "#bd3786"
             ],
             [
              0.5555555555555556,
              "#d8576b"
             ],
             [
              0.6666666666666666,
              "#ed7953"
             ],
             [
              0.7777777777777778,
              "#fb9f3a"
             ],
             [
              0.8888888888888888,
              "#fdca26"
             ],
             [
              1,
              "#f0f921"
             ]
            ],
            "type": "histogram2dcontour"
           }
          ],
          "mesh3d": [
           {
            "colorbar": {
             "outlinewidth": 0,
             "ticks": ""
            },
            "type": "mesh3d"
           }
          ],
          "parcoords": [
           {
            "line": {
             "colorbar": {
              "outlinewidth": 0,
              "ticks": ""
             }
            },
            "type": "parcoords"
           }
          ],
          "pie": [
           {
            "automargin": true,
            "type": "pie"
           }
          ],
          "scatter": [
           {
            "fillpattern": {
             "fillmode": "overlay",
             "size": 10,
             "solidity": 0.2
            },
            "type": "scatter"
           }
          ],
          "scatter3d": [
           {
            "line": {
             "colorbar": {
              "outlinewidth": 0,
              "ticks": ""
             }
            },
            "marker": {
             "colorbar": {
              "outlinewidth": 0,
              "ticks": ""
             }
            },
            "type": "scatter3d"
           }
          ],
          "scattercarpet": [
           {
            "marker": {
             "colorbar": {
              "outlinewidth": 0,
              "ticks": ""
             }
            },
            "type": "scattercarpet"
           }
          ],
          "scattergeo": [
           {
            "marker": {
             "colorbar": {
              "outlinewidth": 0,
              "ticks": ""
             }
            },
            "type": "scattergeo"
           }
          ],
          "scattergl": [
           {
            "marker": {
             "colorbar": {
              "outlinewidth": 0,
              "ticks": ""
             }
            },
            "type": "scattergl"
           }
          ],
          "scattermapbox": [
           {
            "marker": {
             "colorbar": {
              "outlinewidth": 0,
              "ticks": ""
             }
            },
            "type": "scattermapbox"
           }
          ],
          "scatterpolar": [
           {
            "marker": {
             "colorbar": {
              "outlinewidth": 0,
              "ticks": ""
             }
            },
            "type": "scatterpolar"
           }
          ],
          "scatterpolargl": [
           {
            "marker": {
             "colorbar": {
              "outlinewidth": 0,
              "ticks": ""
             }
            },
            "type": "scatterpolargl"
           }
          ],
          "scatterternary": [
           {
            "marker": {
             "colorbar": {
              "outlinewidth": 0,
              "ticks": ""
             }
            },
            "type": "scatterternary"
           }
          ],
          "surface": [
           {
            "colorbar": {
             "outlinewidth": 0,
             "ticks": ""
            },
            "colorscale": [
             [
              0,
              "#0d0887"
             ],
             [
              0.1111111111111111,
              "#46039f"
             ],
             [
              0.2222222222222222,
              "#7201a8"
             ],
             [
              0.3333333333333333,
              "#9c179e"
             ],
             [
              0.4444444444444444,
              "#bd3786"
             ],
             [
              0.5555555555555556,
              "#d8576b"
             ],
             [
              0.6666666666666666,
              "#ed7953"
             ],
             [
              0.7777777777777778,
              "#fb9f3a"
             ],
             [
              0.8888888888888888,
              "#fdca26"
             ],
             [
              1,
              "#f0f921"
             ]
            ],
            "type": "surface"
           }
          ],
          "table": [
           {
            "cells": {
             "fill": {
              "color": "#EBF0F8"
             },
             "line": {
              "color": "white"
             }
            },
            "header": {
             "fill": {
              "color": "#C8D4E3"
             },
             "line": {
              "color": "white"
             }
            },
            "type": "table"
           }
          ]
         },
         "layout": {
          "annotationdefaults": {
           "arrowcolor": "#2a3f5f",
           "arrowhead": 0,
           "arrowwidth": 1
          },
          "autotypenumbers": "strict",
          "coloraxis": {
           "colorbar": {
            "outlinewidth": 0,
            "ticks": ""
           }
          },
          "colorscale": {
           "diverging": [
            [
             0,
             "#8e0152"
            ],
            [
             0.1,
             "#c51b7d"
            ],
            [
             0.2,
             "#de77ae"
            ],
            [
             0.3,
             "#f1b6da"
            ],
            [
             0.4,
             "#fde0ef"
            ],
            [
             0.5,
             "#f7f7f7"
            ],
            [
             0.6,
             "#e6f5d0"
            ],
            [
             0.7,
             "#b8e186"
            ],
            [
             0.8,
             "#7fbc41"
            ],
            [
             0.9,
             "#4d9221"
            ],
            [
             1,
             "#276419"
            ]
           ],
           "sequential": [
            [
             0,
             "#0d0887"
            ],
            [
             0.1111111111111111,
             "#46039f"
            ],
            [
             0.2222222222222222,
             "#7201a8"
            ],
            [
             0.3333333333333333,
             "#9c179e"
            ],
            [
             0.4444444444444444,
             "#bd3786"
            ],
            [
             0.5555555555555556,
             "#d8576b"
            ],
            [
             0.6666666666666666,
             "#ed7953"
            ],
            [
             0.7777777777777778,
             "#fb9f3a"
            ],
            [
             0.8888888888888888,
             "#fdca26"
            ],
            [
             1,
             "#f0f921"
            ]
           ],
           "sequentialminus": [
            [
             0,
             "#0d0887"
            ],
            [
             0.1111111111111111,
             "#46039f"
            ],
            [
             0.2222222222222222,
             "#7201a8"
            ],
            [
             0.3333333333333333,
             "#9c179e"
            ],
            [
             0.4444444444444444,
             "#bd3786"
            ],
            [
             0.5555555555555556,
             "#d8576b"
            ],
            [
             0.6666666666666666,
             "#ed7953"
            ],
            [
             0.7777777777777778,
             "#fb9f3a"
            ],
            [
             0.8888888888888888,
             "#fdca26"
            ],
            [
             1,
             "#f0f921"
            ]
           ]
          },
          "colorway": [
           "#636efa",
           "#EF553B",
           "#00cc96",
           "#ab63fa",
           "#FFA15A",
           "#19d3f3",
           "#FF6692",
           "#B6E880",
           "#FF97FF",
           "#FECB52"
          ],
          "font": {
           "color": "#2a3f5f"
          },
          "geo": {
           "bgcolor": "white",
           "lakecolor": "white",
           "landcolor": "#E5ECF6",
           "showlakes": true,
           "showland": true,
           "subunitcolor": "white"
          },
          "hoverlabel": {
           "align": "left"
          },
          "hovermode": "closest",
          "mapbox": {
           "style": "light"
          },
          "paper_bgcolor": "white",
          "plot_bgcolor": "#E5ECF6",
          "polar": {
           "angularaxis": {
            "gridcolor": "white",
            "linecolor": "white",
            "ticks": ""
           },
           "bgcolor": "#E5ECF6",
           "radialaxis": {
            "gridcolor": "white",
            "linecolor": "white",
            "ticks": ""
           }
          },
          "scene": {
           "xaxis": {
            "backgroundcolor": "#E5ECF6",
            "gridcolor": "white",
            "gridwidth": 2,
            "linecolor": "white",
            "showbackground": true,
            "ticks": "",
            "zerolinecolor": "white"
           },
           "yaxis": {
            "backgroundcolor": "#E5ECF6",
            "gridcolor": "white",
            "gridwidth": 2,
            "linecolor": "white",
            "showbackground": true,
            "ticks": "",
            "zerolinecolor": "white"
           },
           "zaxis": {
            "backgroundcolor": "#E5ECF6",
            "gridcolor": "white",
            "gridwidth": 2,
            "linecolor": "white",
            "showbackground": true,
            "ticks": "",
            "zerolinecolor": "white"
           }
          },
          "shapedefaults": {
           "line": {
            "color": "#2a3f5f"
           }
          },
          "ternary": {
           "aaxis": {
            "gridcolor": "white",
            "linecolor": "white",
            "ticks": ""
           },
           "baxis": {
            "gridcolor": "white",
            "linecolor": "white",
            "ticks": ""
           },
           "bgcolor": "#E5ECF6",
           "caxis": {
            "gridcolor": "white",
            "linecolor": "white",
            "ticks": ""
           }
          },
          "title": {
           "x": 0.05
          },
          "xaxis": {
           "automargin": true,
           "gridcolor": "white",
           "linecolor": "white",
           "ticks": "",
           "title": {
            "standoff": 15
           },
           "zerolinecolor": "white",
           "zerolinewidth": 2
          },
          "yaxis": {
           "automargin": true,
           "gridcolor": "white",
           "linecolor": "white",
           "ticks": "",
           "title": {
            "standoff": 15
           },
           "zerolinecolor": "white",
           "zerolinewidth": 2
          }
         }
        },
        "title": {
         "text": "Total Ratings by Business Type"
        },
        "xaxis": {
         "anchor": "y",
         "domain": [
          0,
          1
         ],
         "title": {
          "text": "Business Type"
         }
        },
        "yaxis": {
         "anchor": "x",
         "domain": [
          0,
          1
         ],
         "title": {
          "text": "Total Ratings"
         }
        }
       }
      }
     },
     "metadata": {},
     "output_type": "display_data"
    }
   ],
   "source": [
    "import plotly.express as px\n",
    "\n",
    "# Assuming your dataframe df has columns 'BusinessType' and 'rating'\n",
    "# Group by BusinessType and calculate the total ratings for each type\n",
    "total_ratings_per_type = df.groupby('BusinessType')['rating'].sum().reset_index()\n",
    "\n",
    "# Create a vertical bar chart using Plotly\n",
    "fig = px.bar(\n",
    "    total_ratings_per_type,\n",
    "    x='BusinessType',\n",
    "    y='rating',\n",
    "    labels={'BusinessType': 'Business Type', 'rating': 'Total Ratings'},\n",
    "    title='Total Ratings by Business Type'\n",
    ")\n",
    "\n",
    "# Show the plot\n",
    "fig.show()\n"
   ]
  },
  {
   "cell_type": "code",
   "execution_count": null,
   "metadata": {},
   "outputs": [],
   "source": [
    "    "
   ]
  }
 ],
 "metadata": {
  "kernelspec": {
   "display_name": "base",
   "language": "python",
   "name": "python3"
  },
  "language_info": {
   "codemirror_mode": {
    "name": "ipython",
    "version": 3
   },
   "file_extension": ".py",
   "mimetype": "text/x-python",
   "name": "python",
   "nbconvert_exporter": "python",
   "pygments_lexer": "ipython3",
   "version": "3.11.5"
  }
 },
 "nbformat": 4,
 "nbformat_minor": 2
}
