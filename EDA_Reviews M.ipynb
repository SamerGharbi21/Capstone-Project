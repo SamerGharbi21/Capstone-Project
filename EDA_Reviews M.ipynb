{
 "cells": [
  {
   "cell_type": "code",
   "execution_count": 39,
   "metadata": {},
   "outputs": [],
   "source": [
    "import pandas as pd\n",
    "import seaborn as sns\n",
    "import matplotlib.pyplot as plt\n",
    "import plotly.express as px\n"
   ]
  },
  {
   "cell_type": "code",
   "execution_count": 40,
   "metadata": {},
   "outputs": [],
   "source": [
    "df = pd.read_csv('10_reviews_Stop_Words.csv')\n",
    "df_stores = pd.read_csv('cleaned_data_Allstores_dataset1.csv')\n"
   ]
  },
  {
   "cell_type": "code",
   "execution_count": 41,
   "metadata": {},
   "outputs": [
    {
     "data": {
      "text/html": [
       "<div>\n",
       "<style scoped>\n",
       "    .dataframe tbody tr th:only-of-type {\n",
       "        vertical-align: middle;\n",
       "    }\n",
       "\n",
       "    .dataframe tbody tr th {\n",
       "        vertical-align: top;\n",
       "    }\n",
       "\n",
       "    .dataframe thead th {\n",
       "        text-align: right;\n",
       "    }\n",
       "</style>\n",
       "<table border=\"1\" class=\"dataframe\">\n",
       "  <thead>\n",
       "    <tr style=\"text-align: right;\">\n",
       "      <th></th>\n",
       "      <th>Unnamed: 0</th>\n",
       "      <th>Name</th>\n",
       "      <th>NameAr</th>\n",
       "      <th>LocalizedName</th>\n",
       "      <th>BusinessType</th>\n",
       "      <th>OtherTypeName</th>\n",
       "      <th>IsPopularBusiness</th>\n",
       "      <th>TotalReviews</th>\n",
       "      <th>Rating</th>\n",
       "      <th>Id</th>\n",
       "      <th>ActiveStatus</th>\n",
       "      <th>OwnerAllowStatus</th>\n",
       "      <th>CertificationStatus</th>\n",
       "    </tr>\n",
       "  </thead>\n",
       "  <tbody>\n",
       "    <tr>\n",
       "      <th>0</th>\n",
       "      <td>1500</td>\n",
       "      <td>VIGOIR ARABIA</td>\n",
       "      <td>فيجور العربية</td>\n",
       "      <td>فيجور العربية</td>\n",
       "      <td>إلكترونيات</td>\n",
       "      <td>NaN</td>\n",
       "      <td>False</td>\n",
       "      <td>13</td>\n",
       "      <td>1.85</td>\n",
       "      <td>113480</td>\n",
       "      <td>0</td>\n",
       "      <td>1</td>\n",
       "      <td>1</td>\n",
       "    </tr>\n",
       "    <tr>\n",
       "      <th>1</th>\n",
       "      <td>1501</td>\n",
       "      <td>Riashapp</td>\n",
       "      <td>رياش اب</td>\n",
       "      <td>رياش اب</td>\n",
       "      <td>المنزل</td>\n",
       "      <td>NaN</td>\n",
       "      <td>False</td>\n",
       "      <td>12</td>\n",
       "      <td>1.83</td>\n",
       "      <td>79729</td>\n",
       "      <td>0</td>\n",
       "      <td>1</td>\n",
       "      <td>1</td>\n",
       "    </tr>\n",
       "    <tr>\n",
       "      <th>2</th>\n",
       "      <td>1502</td>\n",
       "      <td>Mohammed Jawad BuKhamseen for home appliances</td>\n",
       "      <td>مؤسسة محمد جواد صالح بوخمسين</td>\n",
       "      <td>مؤسسة محمد جواد صالح بوخمسين</td>\n",
       "      <td>إلكترونيات</td>\n",
       "      <td>NaN</td>\n",
       "      <td>False</td>\n",
       "      <td>10</td>\n",
       "      <td>1.80</td>\n",
       "      <td>60202</td>\n",
       "      <td>0</td>\n",
       "      <td>1</td>\n",
       "      <td>1</td>\n",
       "    </tr>\n",
       "    <tr>\n",
       "      <th>3</th>\n",
       "      <td>1515</td>\n",
       "      <td>Key Card</td>\n",
       "      <td>كي كارد</td>\n",
       "      <td>كي كارد</td>\n",
       "      <td>إلكترونيات</td>\n",
       "      <td>منتجات رقمية</td>\n",
       "      <td>False</td>\n",
       "      <td>11</td>\n",
       "      <td>1.73</td>\n",
       "      <td>203165</td>\n",
       "      <td>0</td>\n",
       "      <td>1</td>\n",
       "      <td>1</td>\n",
       "    </tr>\n",
       "    <tr>\n",
       "      <th>4</th>\n",
       "      <td>1516</td>\n",
       "      <td>Danube Online</td>\n",
       "      <td>الدانوب أونلاين</td>\n",
       "      <td>الدانوب أونلاين</td>\n",
       "      <td>خدمات الأعمال</td>\n",
       "      <td>NaN</td>\n",
       "      <td>False</td>\n",
       "      <td>15</td>\n",
       "      <td>1.67</td>\n",
       "      <td>91371</td>\n",
       "      <td>0</td>\n",
       "      <td>1</td>\n",
       "      <td>1</td>\n",
       "    </tr>\n",
       "    <tr>\n",
       "      <th>...</th>\n",
       "      <td>...</td>\n",
       "      <td>...</td>\n",
       "      <td>...</td>\n",
       "      <td>...</td>\n",
       "      <td>...</td>\n",
       "      <td>...</td>\n",
       "      <td>...</td>\n",
       "      <td>...</td>\n",
       "      <td>...</td>\n",
       "      <td>...</td>\n",
       "      <td>...</td>\n",
       "      <td>...</td>\n",
       "      <td>...</td>\n",
       "    </tr>\n",
       "    <tr>\n",
       "      <th>1015</th>\n",
       "      <td>13996</td>\n",
       "      <td>REEDOO</td>\n",
       "      <td>ريدو</td>\n",
       "      <td>ريدو</td>\n",
       "      <td>حفلات</td>\n",
       "      <td>NaN</td>\n",
       "      <td>False</td>\n",
       "      <td>23</td>\n",
       "      <td>4.96</td>\n",
       "      <td>218592</td>\n",
       "      <td>0</td>\n",
       "      <td>1</td>\n",
       "      <td>1</td>\n",
       "    </tr>\n",
       "    <tr>\n",
       "      <th>1016</th>\n",
       "      <td>13997</td>\n",
       "      <td>Mama Muna</td>\n",
       "      <td>ماما منى لتمرية</td>\n",
       "      <td>ماما منى لتمرية</td>\n",
       "      <td>أطعمة ومشروبات</td>\n",
       "      <td>NaN</td>\n",
       "      <td>False</td>\n",
       "      <td>23</td>\n",
       "      <td>4.96</td>\n",
       "      <td>199956</td>\n",
       "      <td>0</td>\n",
       "      <td>1</td>\n",
       "      <td>2</td>\n",
       "    </tr>\n",
       "    <tr>\n",
       "      <th>1017</th>\n",
       "      <td>13998</td>\n",
       "      <td>NaN</td>\n",
       "      <td>مؤسسة ريادة الإبداع للتجارة</td>\n",
       "      <td>مؤسسة ريادة الإبداع للتجارة</td>\n",
       "      <td>المنزل</td>\n",
       "      <td>NaN</td>\n",
       "      <td>False</td>\n",
       "      <td>23</td>\n",
       "      <td>4.96</td>\n",
       "      <td>170709</td>\n",
       "      <td>0</td>\n",
       "      <td>1</td>\n",
       "      <td>1</td>\n",
       "    </tr>\n",
       "    <tr>\n",
       "      <th>1018</th>\n",
       "      <td>13999</td>\n",
       "      <td>L K</td>\n",
       "      <td>لطيفه العنزي ادخال البيانات</td>\n",
       "      <td>لطيفه العنزي ادخال البيانات</td>\n",
       "      <td>خدمات الأعمال</td>\n",
       "      <td>NaN</td>\n",
       "      <td>False</td>\n",
       "      <td>23</td>\n",
       "      <td>4.96</td>\n",
       "      <td>88771</td>\n",
       "      <td>0</td>\n",
       "      <td>1</td>\n",
       "      <td>2</td>\n",
       "    </tr>\n",
       "    <tr>\n",
       "      <th>1019</th>\n",
       "      <td>14000</td>\n",
       "      <td>Tuliip Store</td>\n",
       "      <td>متجر تولييب</td>\n",
       "      <td>متجر تولييب</td>\n",
       "      <td>خدمات الأعمال</td>\n",
       "      <td>NaN</td>\n",
       "      <td>False</td>\n",
       "      <td>656</td>\n",
       "      <td>4.95</td>\n",
       "      <td>44461</td>\n",
       "      <td>0</td>\n",
       "      <td>1</td>\n",
       "      <td>2</td>\n",
       "    </tr>\n",
       "  </tbody>\n",
       "</table>\n",
       "<p>1020 rows × 13 columns</p>\n",
       "</div>"
      ],
      "text/plain": [
       "      Unnamed: 0                                           Name  \\\n",
       "0           1500                                 VIGOIR ARABIA    \n",
       "1           1501                                       Riashapp   \n",
       "2           1502  Mohammed Jawad BuKhamseen for home appliances   \n",
       "3           1515                                       Key Card   \n",
       "4           1516                                  Danube Online   \n",
       "...          ...                                            ...   \n",
       "1015       13996                                         REEDOO   \n",
       "1016       13997                                      Mama Muna   \n",
       "1017       13998                                            NaN   \n",
       "1018       13999                                            L K   \n",
       "1019       14000                                   Tuliip Store   \n",
       "\n",
       "                            NameAr                 LocalizedName  \\\n",
       "0                   فيجور العربية                 فيجور العربية    \n",
       "1                          رياش اب                       رياش اب   \n",
       "2     مؤسسة محمد جواد صالح بوخمسين  مؤسسة محمد جواد صالح بوخمسين   \n",
       "3                          كي كارد                       كي كارد   \n",
       "4                  الدانوب أونلاين               الدانوب أونلاين   \n",
       "...                            ...                           ...   \n",
       "1015                         ريدو                          ريدو    \n",
       "1016               ماما منى لتمرية               ماما منى لتمرية   \n",
       "1017  مؤسسة ريادة الإبداع للتجارة   مؤسسة ريادة الإبداع للتجارة    \n",
       "1018  لطيفه العنزي ادخال البيانات   لطيفه العنزي ادخال البيانات    \n",
       "1019                   متجر تولييب                   متجر تولييب   \n",
       "\n",
       "        BusinessType OtherTypeName  IsPopularBusiness  TotalReviews  Rating  \\\n",
       "0         إلكترونيات           NaN              False            13    1.85   \n",
       "1             المنزل           NaN              False            12    1.83   \n",
       "2         إلكترونيات           NaN              False            10    1.80   \n",
       "3         إلكترونيات  منتجات رقمية              False            11    1.73   \n",
       "4      خدمات الأعمال           NaN              False            15    1.67   \n",
       "...              ...           ...                ...           ...     ...   \n",
       "1015           حفلات           NaN              False            23    4.96   \n",
       "1016  أطعمة ومشروبات           NaN              False            23    4.96   \n",
       "1017          المنزل           NaN              False            23    4.96   \n",
       "1018   خدمات الأعمال           NaN              False            23    4.96   \n",
       "1019   خدمات الأعمال           NaN              False           656    4.95   \n",
       "\n",
       "          Id  ActiveStatus  OwnerAllowStatus  CertificationStatus  \n",
       "0     113480             0                 1                    1  \n",
       "1      79729             0                 1                    1  \n",
       "2      60202             0                 1                    1  \n",
       "3     203165             0                 1                    1  \n",
       "4      91371             0                 1                    1  \n",
       "...      ...           ...               ...                  ...  \n",
       "1015  218592             0                 1                    1  \n",
       "1016  199956             0                 1                    2  \n",
       "1017  170709             0                 1                    1  \n",
       "1018   88771             0                 1                    2  \n",
       "1019   44461             0                 1                    2  \n",
       "\n",
       "[1020 rows x 13 columns]"
      ]
     },
     "execution_count": 41,
     "metadata": {},
     "output_type": "execute_result"
    }
   ],
   "source": [
    "df_stores"
   ]
  },
  {
   "cell_type": "code",
   "execution_count": 42,
   "metadata": {},
   "outputs": [],
   "source": [
    "df = pd.merge(df, df_stores[['Id', 'BusinessType']], left_on='BusinessId', right_on='Id', how='left')\n",
    "\n",
    "# Drop the 'Id' column if you only want to keep 'BusinessId'\n",
    "df.drop('Id', axis=1, inplace=True)\n"
   ]
  },
  {
   "cell_type": "code",
   "execution_count": 43,
   "metadata": {},
   "outputs": [
    {
     "data": {
      "text/html": [
       "<div>\n",
       "<style scoped>\n",
       "    .dataframe tbody tr th:only-of-type {\n",
       "        vertical-align: middle;\n",
       "    }\n",
       "\n",
       "    .dataframe tbody tr th {\n",
       "        vertical-align: top;\n",
       "    }\n",
       "\n",
       "    .dataframe thead th {\n",
       "        text-align: right;\n",
       "    }\n",
       "</style>\n",
       "<table border=\"1\" class=\"dataframe\">\n",
       "  <thead>\n",
       "    <tr style=\"text-align: right;\">\n",
       "      <th></th>\n",
       "      <th>Unnamed: 0</th>\n",
       "      <th>BusinessId</th>\n",
       "      <th>review_id</th>\n",
       "      <th>rating</th>\n",
       "      <th>comment</th>\n",
       "      <th>creation_date</th>\n",
       "      <th>BusinessType</th>\n",
       "    </tr>\n",
       "  </thead>\n",
       "  <tbody>\n",
       "    <tr>\n",
       "      <th>0</th>\n",
       "      <td>0</td>\n",
       "      <td>60202</td>\n",
       "      <td>364189</td>\n",
       "      <td>1</td>\n",
       "      <td>كنت أتعامل معهم أسعارهم أرخص آخر مرة حصلت لي ع...</td>\n",
       "      <td>2024-05-11 05:56:29.327</td>\n",
       "      <td>إلكترونيات</td>\n",
       "    </tr>\n",
       "    <tr>\n",
       "      <th>1</th>\n",
       "      <td>1</td>\n",
       "      <td>60202</td>\n",
       "      <td>356203</td>\n",
       "      <td>1</td>\n",
       "      <td>مصداقية اسعار المنتج</td>\n",
       "      <td>2024-03-06 08:08:24.190</td>\n",
       "      <td>إلكترونيات</td>\n",
       "    </tr>\n",
       "    <tr>\n",
       "      <th>2</th>\n",
       "      <td>2</td>\n",
       "      <td>60202</td>\n",
       "      <td>317781</td>\n",
       "      <td>1</td>\n",
       "      <td>متجر سئ جدا مصداقيته بيانات البضاعة وايضا مواع...</td>\n",
       "      <td>2023-02-18 15:41:20.320</td>\n",
       "      <td>إلكترونيات</td>\n",
       "    </tr>\n",
       "    <tr>\n",
       "      <th>3</th>\n",
       "      <td>3</td>\n",
       "      <td>60202</td>\n",
       "      <td>312616</td>\n",
       "      <td>1</td>\n",
       "      <td>وجد</td>\n",
       "      <td>2023-01-18 10:17:30.503</td>\n",
       "      <td>إلكترونيات</td>\n",
       "    </tr>\n",
       "    <tr>\n",
       "      <th>4</th>\n",
       "      <td>4</td>\n",
       "      <td>60202</td>\n",
       "      <td>309154</td>\n",
       "      <td>1</td>\n",
       "      <td>وجد</td>\n",
       "      <td>2023-01-01 03:54:11.487</td>\n",
       "      <td>إلكترونيات</td>\n",
       "    </tr>\n",
       "    <tr>\n",
       "      <th>...</th>\n",
       "      <td>...</td>\n",
       "      <td>...</td>\n",
       "      <td>...</td>\n",
       "      <td>...</td>\n",
       "      <td>...</td>\n",
       "      <td>...</td>\n",
       "      <td>...</td>\n",
       "    </tr>\n",
       "    <tr>\n",
       "      <th>62879</th>\n",
       "      <td>62879</td>\n",
       "      <td>44461</td>\n",
       "      <td>61446</td>\n",
       "      <td>5</td>\n",
       "      <td>مايميز المتجر سرعة الرد والتوصيل السريع وجودة ...</td>\n",
       "      <td>2018-08-28 19:16:42.617</td>\n",
       "      <td>خدمات الأعمال</td>\n",
       "    </tr>\n",
       "    <tr>\n",
       "      <th>62880</th>\n",
       "      <td>62880</td>\n",
       "      <td>44461</td>\n",
       "      <td>60746</td>\n",
       "      <td>5</td>\n",
       "      <td>تعامل متجر توليب تجربه تستحق اعادتها مره النوا...</td>\n",
       "      <td>2018-07-31 02:51:11.543</td>\n",
       "      <td>خدمات الأعمال</td>\n",
       "    </tr>\n",
       "    <tr>\n",
       "      <th>62881</th>\n",
       "      <td>62881</td>\n",
       "      <td>44461</td>\n",
       "      <td>60443</td>\n",
       "      <td>5</td>\n",
       "      <td>تجربتي معها جمييله وانسانه ذوق واخلاق ومتعاونه...</td>\n",
       "      <td>2018-07-22 16:43:45.897</td>\n",
       "      <td>خدمات الأعمال</td>\n",
       "    </tr>\n",
       "    <tr>\n",
       "      <th>62882</th>\n",
       "      <td>62882</td>\n",
       "      <td>44461</td>\n",
       "      <td>60180</td>\n",
       "      <td>5</td>\n",
       "      <td>متجر توليب جميل جدا والتعامل اجمل</td>\n",
       "      <td>2018-07-16 08:09:20.407</td>\n",
       "      <td>خدمات الأعمال</td>\n",
       "    </tr>\n",
       "    <tr>\n",
       "      <th>62883</th>\n",
       "      <td>62883</td>\n",
       "      <td>44461</td>\n",
       "      <td>60179</td>\n",
       "      <td>5</td>\n",
       "      <td>وجد</td>\n",
       "      <td>2018-07-16 06:12:50.920</td>\n",
       "      <td>خدمات الأعمال</td>\n",
       "    </tr>\n",
       "  </tbody>\n",
       "</table>\n",
       "<p>62884 rows × 7 columns</p>\n",
       "</div>"
      ],
      "text/plain": [
       "       Unnamed: 0  BusinessId  review_id  rating  \\\n",
       "0               0       60202     364189       1   \n",
       "1               1       60202     356203       1   \n",
       "2               2       60202     317781       1   \n",
       "3               3       60202     312616       1   \n",
       "4               4       60202     309154       1   \n",
       "...           ...         ...        ...     ...   \n",
       "62879       62879       44461      61446       5   \n",
       "62880       62880       44461      60746       5   \n",
       "62881       62881       44461      60443       5   \n",
       "62882       62882       44461      60180       5   \n",
       "62883       62883       44461      60179       5   \n",
       "\n",
       "                                                 comment  \\\n",
       "0      كنت أتعامل معهم أسعارهم أرخص آخر مرة حصلت لي ع...   \n",
       "1                                   مصداقية اسعار المنتج   \n",
       "2      متجر سئ جدا مصداقيته بيانات البضاعة وايضا مواع...   \n",
       "3                                                    وجد   \n",
       "4                                                    وجد   \n",
       "...                                                  ...   \n",
       "62879  مايميز المتجر سرعة الرد والتوصيل السريع وجودة ...   \n",
       "62880  تعامل متجر توليب تجربه تستحق اعادتها مره النوا...   \n",
       "62881  تجربتي معها جمييله وانسانه ذوق واخلاق ومتعاونه...   \n",
       "62882                  متجر توليب جميل جدا والتعامل اجمل   \n",
       "62883                                                وجد   \n",
       "\n",
       "                 creation_date   BusinessType  \n",
       "0      2024-05-11 05:56:29.327     إلكترونيات  \n",
       "1      2024-03-06 08:08:24.190     إلكترونيات  \n",
       "2      2023-02-18 15:41:20.320     إلكترونيات  \n",
       "3      2023-01-18 10:17:30.503     إلكترونيات  \n",
       "4      2023-01-01 03:54:11.487     إلكترونيات  \n",
       "...                        ...            ...  \n",
       "62879  2018-08-28 19:16:42.617  خدمات الأعمال  \n",
       "62880  2018-07-31 02:51:11.543  خدمات الأعمال  \n",
       "62881  2018-07-22 16:43:45.897  خدمات الأعمال  \n",
       "62882  2018-07-16 08:09:20.407  خدمات الأعمال  \n",
       "62883  2018-07-16 06:12:50.920  خدمات الأعمال  \n",
       "\n",
       "[62884 rows x 7 columns]"
      ]
     },
     "execution_count": 43,
     "metadata": {},
     "output_type": "execute_result"
    }
   ],
   "source": [
    "df"
   ]
  },
  {
   "cell_type": "code",
   "execution_count": 44,
   "metadata": {},
   "outputs": [],
   "source": [
    "df.drop('Unnamed: 0', axis=1, inplace=True)"
   ]
  },
  {
   "cell_type": "code",
   "execution_count": 45,
   "metadata": {},
   "outputs": [],
   "source": [
    "copy = df.copy()"
   ]
  },
  {
   "cell_type": "code",
   "execution_count": 46,
   "metadata": {},
   "outputs": [],
   "source": [
    "comments = df[~(df['comment'] == 'وجد') ]"
   ]
  },
  {
   "cell_type": "code",
   "execution_count": 47,
   "metadata": {},
   "outputs": [],
   "source": [
    "reviews = df[(df['comment'] == 'وجد')]\n"
   ]
  },
  {
   "cell_type": "code",
   "execution_count": 48,
   "metadata": {},
   "outputs": [
    {
     "data": {
      "text/html": [
       "<div>\n",
       "<style scoped>\n",
       "    .dataframe tbody tr th:only-of-type {\n",
       "        vertical-align: middle;\n",
       "    }\n",
       "\n",
       "    .dataframe tbody tr th {\n",
       "        vertical-align: top;\n",
       "    }\n",
       "\n",
       "    .dataframe thead th {\n",
       "        text-align: right;\n",
       "    }\n",
       "</style>\n",
       "<table border=\"1\" class=\"dataframe\">\n",
       "  <thead>\n",
       "    <tr style=\"text-align: right;\">\n",
       "      <th></th>\n",
       "      <th>BusinessId</th>\n",
       "      <th>review_id</th>\n",
       "      <th>rating</th>\n",
       "      <th>comment</th>\n",
       "      <th>creation_date</th>\n",
       "      <th>BusinessType</th>\n",
       "    </tr>\n",
       "  </thead>\n",
       "  <tbody>\n",
       "    <tr>\n",
       "      <th>3</th>\n",
       "      <td>60202</td>\n",
       "      <td>312616</td>\n",
       "      <td>1</td>\n",
       "      <td>وجد</td>\n",
       "      <td>2023-01-18 10:17:30.503</td>\n",
       "      <td>إلكترونيات</td>\n",
       "    </tr>\n",
       "    <tr>\n",
       "      <th>4</th>\n",
       "      <td>60202</td>\n",
       "      <td>309154</td>\n",
       "      <td>1</td>\n",
       "      <td>وجد</td>\n",
       "      <td>2023-01-01 03:54:11.487</td>\n",
       "      <td>إلكترونيات</td>\n",
       "    </tr>\n",
       "    <tr>\n",
       "      <th>7</th>\n",
       "      <td>60202</td>\n",
       "      <td>246856</td>\n",
       "      <td>1</td>\n",
       "      <td>وجد</td>\n",
       "      <td>2022-01-08 22:46:46.653</td>\n",
       "      <td>إلكترونيات</td>\n",
       "    </tr>\n",
       "    <tr>\n",
       "      <th>8</th>\n",
       "      <td>60202</td>\n",
       "      <td>236524</td>\n",
       "      <td>1</td>\n",
       "      <td>وجد</td>\n",
       "      <td>2021-10-17 15:45:04.810</td>\n",
       "      <td>إلكترونيات</td>\n",
       "    </tr>\n",
       "    <tr>\n",
       "      <th>9</th>\n",
       "      <td>60202</td>\n",
       "      <td>232297</td>\n",
       "      <td>1</td>\n",
       "      <td>وجد</td>\n",
       "      <td>2021-09-14 11:49:32.320</td>\n",
       "      <td>إلكترونيات</td>\n",
       "    </tr>\n",
       "    <tr>\n",
       "      <th>...</th>\n",
       "      <td>...</td>\n",
       "      <td>...</td>\n",
       "      <td>...</td>\n",
       "      <td>...</td>\n",
       "      <td>...</td>\n",
       "      <td>...</td>\n",
       "    </tr>\n",
       "    <tr>\n",
       "      <th>62854</th>\n",
       "      <td>44461</td>\n",
       "      <td>65715</td>\n",
       "      <td>5</td>\n",
       "      <td>وجد</td>\n",
       "      <td>2018-12-05 03:58:01.157</td>\n",
       "      <td>خدمات الأعمال</td>\n",
       "    </tr>\n",
       "    <tr>\n",
       "      <th>62855</th>\n",
       "      <td>44461</td>\n",
       "      <td>65596</td>\n",
       "      <td>5</td>\n",
       "      <td>وجد</td>\n",
       "      <td>2018-12-02 12:54:52.913</td>\n",
       "      <td>خدمات الأعمال</td>\n",
       "    </tr>\n",
       "    <tr>\n",
       "      <th>62856</th>\n",
       "      <td>44461</td>\n",
       "      <td>65548</td>\n",
       "      <td>5</td>\n",
       "      <td>وجد</td>\n",
       "      <td>2018-11-28 11:34:49.263</td>\n",
       "      <td>خدمات الأعمال</td>\n",
       "    </tr>\n",
       "    <tr>\n",
       "      <th>62868</th>\n",
       "      <td>44461</td>\n",
       "      <td>62959</td>\n",
       "      <td>5</td>\n",
       "      <td>وجد</td>\n",
       "      <td>2018-10-10 03:15:09.630</td>\n",
       "      <td>خدمات الأعمال</td>\n",
       "    </tr>\n",
       "    <tr>\n",
       "      <th>62883</th>\n",
       "      <td>44461</td>\n",
       "      <td>60179</td>\n",
       "      <td>5</td>\n",
       "      <td>وجد</td>\n",
       "      <td>2018-07-16 06:12:50.920</td>\n",
       "      <td>خدمات الأعمال</td>\n",
       "    </tr>\n",
       "  </tbody>\n",
       "</table>\n",
       "<p>22365 rows × 6 columns</p>\n",
       "</div>"
      ],
      "text/plain": [
       "       BusinessId  review_id  rating comment            creation_date  \\\n",
       "3           60202     312616       1     وجد  2023-01-18 10:17:30.503   \n",
       "4           60202     309154       1     وجد  2023-01-01 03:54:11.487   \n",
       "7           60202     246856       1     وجد  2022-01-08 22:46:46.653   \n",
       "8           60202     236524       1     وجد  2021-10-17 15:45:04.810   \n",
       "9           60202     232297       1     وجد  2021-09-14 11:49:32.320   \n",
       "...           ...        ...     ...     ...                      ...   \n",
       "62854       44461      65715       5     وجد  2018-12-05 03:58:01.157   \n",
       "62855       44461      65596       5     وجد  2018-12-02 12:54:52.913   \n",
       "62856       44461      65548       5     وجد  2018-11-28 11:34:49.263   \n",
       "62868       44461      62959       5     وجد  2018-10-10 03:15:09.630   \n",
       "62883       44461      60179       5     وجد  2018-07-16 06:12:50.920   \n",
       "\n",
       "        BusinessType  \n",
       "3         إلكترونيات  \n",
       "4         إلكترونيات  \n",
       "7         إلكترونيات  \n",
       "8         إلكترونيات  \n",
       "9         إلكترونيات  \n",
       "...              ...  \n",
       "62854  خدمات الأعمال  \n",
       "62855  خدمات الأعمال  \n",
       "62856  خدمات الأعمال  \n",
       "62868  خدمات الأعمال  \n",
       "62883  خدمات الأعمال  \n",
       "\n",
       "[22365 rows x 6 columns]"
      ]
     },
     "execution_count": 48,
     "metadata": {},
     "output_type": "execute_result"
    }
   ],
   "source": [
    "reviews"
   ]
  },
  {
   "cell_type": "code",
   "execution_count": 49,
   "metadata": {},
   "outputs": [
    {
     "data": {
      "text/html": [
       "<div>\n",
       "<style scoped>\n",
       "    .dataframe tbody tr th:only-of-type {\n",
       "        vertical-align: middle;\n",
       "    }\n",
       "\n",
       "    .dataframe tbody tr th {\n",
       "        vertical-align: top;\n",
       "    }\n",
       "\n",
       "    .dataframe thead th {\n",
       "        text-align: right;\n",
       "    }\n",
       "</style>\n",
       "<table border=\"1\" class=\"dataframe\">\n",
       "  <thead>\n",
       "    <tr style=\"text-align: right;\">\n",
       "      <th></th>\n",
       "      <th>BusinessId</th>\n",
       "      <th>review_id</th>\n",
       "      <th>rating</th>\n",
       "      <th>comment</th>\n",
       "      <th>creation_date</th>\n",
       "      <th>BusinessType</th>\n",
       "    </tr>\n",
       "  </thead>\n",
       "  <tbody>\n",
       "    <tr>\n",
       "      <th>0</th>\n",
       "      <td>60202</td>\n",
       "      <td>364189</td>\n",
       "      <td>1</td>\n",
       "      <td>كنت أتعامل معهم أسعارهم أرخص آخر مرة حصلت لي ع...</td>\n",
       "      <td>2024-05-11 05:56:29.327</td>\n",
       "      <td>إلكترونيات</td>\n",
       "    </tr>\n",
       "    <tr>\n",
       "      <th>1</th>\n",
       "      <td>60202</td>\n",
       "      <td>356203</td>\n",
       "      <td>1</td>\n",
       "      <td>مصداقية اسعار المنتج</td>\n",
       "      <td>2024-03-06 08:08:24.190</td>\n",
       "      <td>إلكترونيات</td>\n",
       "    </tr>\n",
       "    <tr>\n",
       "      <th>2</th>\n",
       "      <td>60202</td>\n",
       "      <td>317781</td>\n",
       "      <td>1</td>\n",
       "      <td>متجر سئ جدا مصداقيته بيانات البضاعة وايضا مواع...</td>\n",
       "      <td>2023-02-18 15:41:20.320</td>\n",
       "      <td>إلكترونيات</td>\n",
       "    </tr>\n",
       "    <tr>\n",
       "      <th>5</th>\n",
       "      <td>60202</td>\n",
       "      <td>285444</td>\n",
       "      <td>5</td>\n",
       "      <td>خدمة التوصيل سيئة للغاية يوجد رد تواصل العميل ...</td>\n",
       "      <td>2022-09-03 14:01:18.933</td>\n",
       "      <td>إلكترونيات</td>\n",
       "    </tr>\n",
       "    <tr>\n",
       "      <th>6</th>\n",
       "      <td>60202</td>\n",
       "      <td>260277</td>\n",
       "      <td>5</td>\n",
       "      <td>تعاملهم ممتاز وسرعة تنفيذ الطلب ممتازة وحتى ال...</td>\n",
       "      <td>2022-05-21 13:07:39.523</td>\n",
       "      <td>إلكترونيات</td>\n",
       "    </tr>\n",
       "    <tr>\n",
       "      <th>...</th>\n",
       "      <td>...</td>\n",
       "      <td>...</td>\n",
       "      <td>...</td>\n",
       "      <td>...</td>\n",
       "      <td>...</td>\n",
       "      <td>...</td>\n",
       "    </tr>\n",
       "    <tr>\n",
       "      <th>62878</th>\n",
       "      <td>44461</td>\n",
       "      <td>61973</td>\n",
       "      <td>5</td>\n",
       "      <td>اتعب وانا اقول تجنن أخلاقها الحلوة وتعاملها ال...</td>\n",
       "      <td>2018-09-16 19:00:09.143</td>\n",
       "      <td>خدمات الأعمال</td>\n",
       "    </tr>\n",
       "    <tr>\n",
       "      <th>62879</th>\n",
       "      <td>44461</td>\n",
       "      <td>61446</td>\n",
       "      <td>5</td>\n",
       "      <td>مايميز المتجر سرعة الرد والتوصيل السريع وجودة ...</td>\n",
       "      <td>2018-08-28 19:16:42.617</td>\n",
       "      <td>خدمات الأعمال</td>\n",
       "    </tr>\n",
       "    <tr>\n",
       "      <th>62880</th>\n",
       "      <td>44461</td>\n",
       "      <td>60746</td>\n",
       "      <td>5</td>\n",
       "      <td>تعامل متجر توليب تجربه تستحق اعادتها مره النوا...</td>\n",
       "      <td>2018-07-31 02:51:11.543</td>\n",
       "      <td>خدمات الأعمال</td>\n",
       "    </tr>\n",
       "    <tr>\n",
       "      <th>62881</th>\n",
       "      <td>44461</td>\n",
       "      <td>60443</td>\n",
       "      <td>5</td>\n",
       "      <td>تجربتي معها جمييله وانسانه ذوق واخلاق ومتعاونه...</td>\n",
       "      <td>2018-07-22 16:43:45.897</td>\n",
       "      <td>خدمات الأعمال</td>\n",
       "    </tr>\n",
       "    <tr>\n",
       "      <th>62882</th>\n",
       "      <td>44461</td>\n",
       "      <td>60180</td>\n",
       "      <td>5</td>\n",
       "      <td>متجر توليب جميل جدا والتعامل اجمل</td>\n",
       "      <td>2018-07-16 08:09:20.407</td>\n",
       "      <td>خدمات الأعمال</td>\n",
       "    </tr>\n",
       "  </tbody>\n",
       "</table>\n",
       "<p>40519 rows × 6 columns</p>\n",
       "</div>"
      ],
      "text/plain": [
       "       BusinessId  review_id  rating  \\\n",
       "0           60202     364189       1   \n",
       "1           60202     356203       1   \n",
       "2           60202     317781       1   \n",
       "5           60202     285444       5   \n",
       "6           60202     260277       5   \n",
       "...           ...        ...     ...   \n",
       "62878       44461      61973       5   \n",
       "62879       44461      61446       5   \n",
       "62880       44461      60746       5   \n",
       "62881       44461      60443       5   \n",
       "62882       44461      60180       5   \n",
       "\n",
       "                                                 comment  \\\n",
       "0      كنت أتعامل معهم أسعارهم أرخص آخر مرة حصلت لي ع...   \n",
       "1                                   مصداقية اسعار المنتج   \n",
       "2      متجر سئ جدا مصداقيته بيانات البضاعة وايضا مواع...   \n",
       "5      خدمة التوصيل سيئة للغاية يوجد رد تواصل العميل ...   \n",
       "6      تعاملهم ممتاز وسرعة تنفيذ الطلب ممتازة وحتى ال...   \n",
       "...                                                  ...   \n",
       "62878  اتعب وانا اقول تجنن أخلاقها الحلوة وتعاملها ال...   \n",
       "62879  مايميز المتجر سرعة الرد والتوصيل السريع وجودة ...   \n",
       "62880  تعامل متجر توليب تجربه تستحق اعادتها مره النوا...   \n",
       "62881  تجربتي معها جمييله وانسانه ذوق واخلاق ومتعاونه...   \n",
       "62882                  متجر توليب جميل جدا والتعامل اجمل   \n",
       "\n",
       "                 creation_date   BusinessType  \n",
       "0      2024-05-11 05:56:29.327     إلكترونيات  \n",
       "1      2024-03-06 08:08:24.190     إلكترونيات  \n",
       "2      2023-02-18 15:41:20.320     إلكترونيات  \n",
       "5      2022-09-03 14:01:18.933     إلكترونيات  \n",
       "6      2022-05-21 13:07:39.523     إلكترونيات  \n",
       "...                        ...            ...  \n",
       "62878  2018-09-16 19:00:09.143  خدمات الأعمال  \n",
       "62879  2018-08-28 19:16:42.617  خدمات الأعمال  \n",
       "62880  2018-07-31 02:51:11.543  خدمات الأعمال  \n",
       "62881  2018-07-22 16:43:45.897  خدمات الأعمال  \n",
       "62882  2018-07-16 08:09:20.407  خدمات الأعمال  \n",
       "\n",
       "[40519 rows x 6 columns]"
      ]
     },
     "execution_count": 49,
     "metadata": {},
     "output_type": "execute_result"
    }
   ],
   "source": [
    "comments"
   ]
  },
  {
   "cell_type": "code",
   "execution_count": 50,
   "metadata": {},
   "outputs": [
    {
     "data": {
      "text/html": [
       "<div>\n",
       "<style scoped>\n",
       "    .dataframe tbody tr th:only-of-type {\n",
       "        vertical-align: middle;\n",
       "    }\n",
       "\n",
       "    .dataframe tbody tr th {\n",
       "        vertical-align: top;\n",
       "    }\n",
       "\n",
       "    .dataframe thead th {\n",
       "        text-align: right;\n",
       "    }\n",
       "</style>\n",
       "<table border=\"1\" class=\"dataframe\">\n",
       "  <thead>\n",
       "    <tr style=\"text-align: right;\">\n",
       "      <th></th>\n",
       "      <th>BusinessId</th>\n",
       "      <th>review_id</th>\n",
       "      <th>rating</th>\n",
       "      <th>comment</th>\n",
       "      <th>creation_date</th>\n",
       "      <th>BusinessType</th>\n",
       "    </tr>\n",
       "  </thead>\n",
       "  <tbody>\n",
       "    <tr>\n",
       "      <th>0</th>\n",
       "      <td>60202</td>\n",
       "      <td>364189</td>\n",
       "      <td>1</td>\n",
       "      <td>كنت أتعامل معهم أسعارهم أرخص آخر مرة حصلت لي ع...</td>\n",
       "      <td>2024-05-11 05:56:29.327</td>\n",
       "      <td>إلكترونيات</td>\n",
       "    </tr>\n",
       "    <tr>\n",
       "      <th>1</th>\n",
       "      <td>60202</td>\n",
       "      <td>356203</td>\n",
       "      <td>1</td>\n",
       "      <td>مصداقية اسعار المنتج</td>\n",
       "      <td>2024-03-06 08:08:24.190</td>\n",
       "      <td>إلكترونيات</td>\n",
       "    </tr>\n",
       "    <tr>\n",
       "      <th>2</th>\n",
       "      <td>60202</td>\n",
       "      <td>317781</td>\n",
       "      <td>1</td>\n",
       "      <td>متجر سئ جدا مصداقيته بيانات البضاعة وايضا مواع...</td>\n",
       "      <td>2023-02-18 15:41:20.320</td>\n",
       "      <td>إلكترونيات</td>\n",
       "    </tr>\n",
       "    <tr>\n",
       "      <th>5</th>\n",
       "      <td>60202</td>\n",
       "      <td>285444</td>\n",
       "      <td>5</td>\n",
       "      <td>خدمة التوصيل سيئة للغاية يوجد رد تواصل العميل ...</td>\n",
       "      <td>2022-09-03 14:01:18.933</td>\n",
       "      <td>إلكترونيات</td>\n",
       "    </tr>\n",
       "    <tr>\n",
       "      <th>6</th>\n",
       "      <td>60202</td>\n",
       "      <td>260277</td>\n",
       "      <td>5</td>\n",
       "      <td>تعاملهم ممتاز وسرعة تنفيذ الطلب ممتازة وحتى ال...</td>\n",
       "      <td>2022-05-21 13:07:39.523</td>\n",
       "      <td>إلكترونيات</td>\n",
       "    </tr>\n",
       "    <tr>\n",
       "      <th>...</th>\n",
       "      <td>...</td>\n",
       "      <td>...</td>\n",
       "      <td>...</td>\n",
       "      <td>...</td>\n",
       "      <td>...</td>\n",
       "      <td>...</td>\n",
       "    </tr>\n",
       "    <tr>\n",
       "      <th>62878</th>\n",
       "      <td>44461</td>\n",
       "      <td>61973</td>\n",
       "      <td>5</td>\n",
       "      <td>اتعب وانا اقول تجنن أخلاقها الحلوة وتعاملها ال...</td>\n",
       "      <td>2018-09-16 19:00:09.143</td>\n",
       "      <td>خدمات الأعمال</td>\n",
       "    </tr>\n",
       "    <tr>\n",
       "      <th>62879</th>\n",
       "      <td>44461</td>\n",
       "      <td>61446</td>\n",
       "      <td>5</td>\n",
       "      <td>مايميز المتجر سرعة الرد والتوصيل السريع وجودة ...</td>\n",
       "      <td>2018-08-28 19:16:42.617</td>\n",
       "      <td>خدمات الأعمال</td>\n",
       "    </tr>\n",
       "    <tr>\n",
       "      <th>62880</th>\n",
       "      <td>44461</td>\n",
       "      <td>60746</td>\n",
       "      <td>5</td>\n",
       "      <td>تعامل متجر توليب تجربه تستحق اعادتها مره النوا...</td>\n",
       "      <td>2018-07-31 02:51:11.543</td>\n",
       "      <td>خدمات الأعمال</td>\n",
       "    </tr>\n",
       "    <tr>\n",
       "      <th>62881</th>\n",
       "      <td>44461</td>\n",
       "      <td>60443</td>\n",
       "      <td>5</td>\n",
       "      <td>تجربتي معها جمييله وانسانه ذوق واخلاق ومتعاونه...</td>\n",
       "      <td>2018-07-22 16:43:45.897</td>\n",
       "      <td>خدمات الأعمال</td>\n",
       "    </tr>\n",
       "    <tr>\n",
       "      <th>62882</th>\n",
       "      <td>44461</td>\n",
       "      <td>60180</td>\n",
       "      <td>5</td>\n",
       "      <td>متجر توليب جميل جدا والتعامل اجمل</td>\n",
       "      <td>2018-07-16 08:09:20.407</td>\n",
       "      <td>خدمات الأعمال</td>\n",
       "    </tr>\n",
       "  </tbody>\n",
       "</table>\n",
       "<p>40519 rows × 6 columns</p>\n",
       "</div>"
      ],
      "text/plain": [
       "       BusinessId  review_id  rating  \\\n",
       "0           60202     364189       1   \n",
       "1           60202     356203       1   \n",
       "2           60202     317781       1   \n",
       "5           60202     285444       5   \n",
       "6           60202     260277       5   \n",
       "...           ...        ...     ...   \n",
       "62878       44461      61973       5   \n",
       "62879       44461      61446       5   \n",
       "62880       44461      60746       5   \n",
       "62881       44461      60443       5   \n",
       "62882       44461      60180       5   \n",
       "\n",
       "                                                 comment  \\\n",
       "0      كنت أتعامل معهم أسعارهم أرخص آخر مرة حصلت لي ع...   \n",
       "1                                   مصداقية اسعار المنتج   \n",
       "2      متجر سئ جدا مصداقيته بيانات البضاعة وايضا مواع...   \n",
       "5      خدمة التوصيل سيئة للغاية يوجد رد تواصل العميل ...   \n",
       "6      تعاملهم ممتاز وسرعة تنفيذ الطلب ممتازة وحتى ال...   \n",
       "...                                                  ...   \n",
       "62878  اتعب وانا اقول تجنن أخلاقها الحلوة وتعاملها ال...   \n",
       "62879  مايميز المتجر سرعة الرد والتوصيل السريع وجودة ...   \n",
       "62880  تعامل متجر توليب تجربه تستحق اعادتها مره النوا...   \n",
       "62881  تجربتي معها جمييله وانسانه ذوق واخلاق ومتعاونه...   \n",
       "62882                  متجر توليب جميل جدا والتعامل اجمل   \n",
       "\n",
       "                 creation_date   BusinessType  \n",
       "0      2024-05-11 05:56:29.327     إلكترونيات  \n",
       "1      2024-03-06 08:08:24.190     إلكترونيات  \n",
       "2      2023-02-18 15:41:20.320     إلكترونيات  \n",
       "5      2022-09-03 14:01:18.933     إلكترونيات  \n",
       "6      2022-05-21 13:07:39.523     إلكترونيات  \n",
       "...                        ...            ...  \n",
       "62878  2018-09-16 19:00:09.143  خدمات الأعمال  \n",
       "62879  2018-08-28 19:16:42.617  خدمات الأعمال  \n",
       "62880  2018-07-31 02:51:11.543  خدمات الأعمال  \n",
       "62881  2018-07-22 16:43:45.897  خدمات الأعمال  \n",
       "62882  2018-07-16 08:09:20.407  خدمات الأعمال  \n",
       "\n",
       "[40519 rows x 6 columns]"
      ]
     },
     "execution_count": 50,
     "metadata": {},
     "output_type": "execute_result"
    }
   ],
   "source": [
    "comments"
   ]
  },
  {
   "cell_type": "markdown",
   "metadata": {},
   "source": [
    "### number of ratings for each type"
   ]
  },
  {
   "cell_type": "code",
   "execution_count": 51,
   "metadata": {},
   "outputs": [
    {
     "data": {
      "application/vnd.plotly.v1+json": {
       "config": {
        "plotlyServerURL": "https://plot.ly"
       },
       "data": [
        {
         "alignmentgroup": "True",
         "hovertemplate": "BusinessType=%{x}<br>Count=%{y}<extra></extra>",
         "legendgroup": "",
         "marker": {
          "color": "#636efa",
          "pattern": {
           "shape": ""
          }
         },
         "name": "",
         "offsetgroup": "",
         "orientation": "v",
         "showlegend": false,
         "textposition": "auto",
         "type": "bar",
         "x": [
          "خدمات الأعمال",
          "إلكترونيات",
          "الجمال والصحة",
          "أطعمة ومشروبات",
          "المنزل",
          "حفلات",
          "هدايا",
          "السيارات",
          "ازياء",
          "التعليم",
          "منتجات رقمية",
          "العقارات",
          "ولاعات"
         ],
         "xaxis": "x",
         "y": [
          31169,
          13347,
          8336,
          3036,
          1705,
          1479,
          1092,
          832,
          776,
          529,
          310,
          218,
          55
         ],
         "yaxis": "y"
        }
       ],
       "layout": {
        "barmode": "relative",
        "legend": {
         "tracegroupgap": 0
        },
        "template": {
         "data": {
          "bar": [
           {
            "error_x": {
             "color": "#2a3f5f"
            },
            "error_y": {
             "color": "#2a3f5f"
            },
            "marker": {
             "line": {
              "color": "#E5ECF6",
              "width": 0.5
             },
             "pattern": {
              "fillmode": "overlay",
              "size": 10,
              "solidity": 0.2
             }
            },
            "type": "bar"
           }
          ],
          "barpolar": [
           {
            "marker": {
             "line": {
              "color": "#E5ECF6",
              "width": 0.5
             },
             "pattern": {
              "fillmode": "overlay",
              "size": 10,
              "solidity": 0.2
             }
            },
            "type": "barpolar"
           }
          ],
          "carpet": [
           {
            "aaxis": {
             "endlinecolor": "#2a3f5f",
             "gridcolor": "white",
             "linecolor": "white",
             "minorgridcolor": "white",
             "startlinecolor": "#2a3f5f"
            },
            "baxis": {
             "endlinecolor": "#2a3f5f",
             "gridcolor": "white",
             "linecolor": "white",
             "minorgridcolor": "white",
             "startlinecolor": "#2a3f5f"
            },
            "type": "carpet"
           }
          ],
          "choropleth": [
           {
            "colorbar": {
             "outlinewidth": 0,
             "ticks": ""
            },
            "type": "choropleth"
           }
          ],
          "contour": [
           {
            "colorbar": {
             "outlinewidth": 0,
             "ticks": ""
            },
            "colorscale": [
             [
              0,
              "#0d0887"
             ],
             [
              0.1111111111111111,
              "#46039f"
             ],
             [
              0.2222222222222222,
              "#7201a8"
             ],
             [
              0.3333333333333333,
              "#9c179e"
             ],
             [
              0.4444444444444444,
              "#bd3786"
             ],
             [
              0.5555555555555556,
              "#d8576b"
             ],
             [
              0.6666666666666666,
              "#ed7953"
             ],
             [
              0.7777777777777778,
              "#fb9f3a"
             ],
             [
              0.8888888888888888,
              "#fdca26"
             ],
             [
              1,
              "#f0f921"
             ]
            ],
            "type": "contour"
           }
          ],
          "contourcarpet": [
           {
            "colorbar": {
             "outlinewidth": 0,
             "ticks": ""
            },
            "type": "contourcarpet"
           }
          ],
          "heatmap": [
           {
            "colorbar": {
             "outlinewidth": 0,
             "ticks": ""
            },
            "colorscale": [
             [
              0,
              "#0d0887"
             ],
             [
              0.1111111111111111,
              "#46039f"
             ],
             [
              0.2222222222222222,
              "#7201a8"
             ],
             [
              0.3333333333333333,
              "#9c179e"
             ],
             [
              0.4444444444444444,
              "#bd3786"
             ],
             [
              0.5555555555555556,
              "#d8576b"
             ],
             [
              0.6666666666666666,
              "#ed7953"
             ],
             [
              0.7777777777777778,
              "#fb9f3a"
             ],
             [
              0.8888888888888888,
              "#fdca26"
             ],
             [
              1,
              "#f0f921"
             ]
            ],
            "type": "heatmap"
           }
          ],
          "heatmapgl": [
           {
            "colorbar": {
             "outlinewidth": 0,
             "ticks": ""
            },
            "colorscale": [
             [
              0,
              "#0d0887"
             ],
             [
              0.1111111111111111,
              "#46039f"
             ],
             [
              0.2222222222222222,
              "#7201a8"
             ],
             [
              0.3333333333333333,
              "#9c179e"
             ],
             [
              0.4444444444444444,
              "#bd3786"
             ],
             [
              0.5555555555555556,
              "#d8576b"
             ],
             [
              0.6666666666666666,
              "#ed7953"
             ],
             [
              0.7777777777777778,
              "#fb9f3a"
             ],
             [
              0.8888888888888888,
              "#fdca26"
             ],
             [
              1,
              "#f0f921"
             ]
            ],
            "type": "heatmapgl"
           }
          ],
          "histogram": [
           {
            "marker": {
             "pattern": {
              "fillmode": "overlay",
              "size": 10,
              "solidity": 0.2
             }
            },
            "type": "histogram"
           }
          ],
          "histogram2d": [
           {
            "colorbar": {
             "outlinewidth": 0,
             "ticks": ""
            },
            "colorscale": [
             [
              0,
              "#0d0887"
             ],
             [
              0.1111111111111111,
              "#46039f"
             ],
             [
              0.2222222222222222,
              "#7201a8"
             ],
             [
              0.3333333333333333,
              "#9c179e"
             ],
             [
              0.4444444444444444,
              "#bd3786"
             ],
             [
              0.5555555555555556,
              "#d8576b"
             ],
             [
              0.6666666666666666,
              "#ed7953"
             ],
             [
              0.7777777777777778,
              "#fb9f3a"
             ],
             [
              0.8888888888888888,
              "#fdca26"
             ],
             [
              1,
              "#f0f921"
             ]
            ],
            "type": "histogram2d"
           }
          ],
          "histogram2dcontour": [
           {
            "colorbar": {
             "outlinewidth": 0,
             "ticks": ""
            },
            "colorscale": [
             [
              0,
              "#0d0887"
             ],
             [
              0.1111111111111111,
              "#46039f"
             ],
             [
              0.2222222222222222,
              "#7201a8"
             ],
             [
              0.3333333333333333,
              "#9c179e"
             ],
             [
              0.4444444444444444,
              "#bd3786"
             ],
             [
              0.5555555555555556,
              "#d8576b"
             ],
             [
              0.6666666666666666,
              "#ed7953"
             ],
             [
              0.7777777777777778,
              "#fb9f3a"
             ],
             [
              0.8888888888888888,
              "#fdca26"
             ],
             [
              1,
              "#f0f921"
             ]
            ],
            "type": "histogram2dcontour"
           }
          ],
          "mesh3d": [
           {
            "colorbar": {
             "outlinewidth": 0,
             "ticks": ""
            },
            "type": "mesh3d"
           }
          ],
          "parcoords": [
           {
            "line": {
             "colorbar": {
              "outlinewidth": 0,
              "ticks": ""
             }
            },
            "type": "parcoords"
           }
          ],
          "pie": [
           {
            "automargin": true,
            "type": "pie"
           }
          ],
          "scatter": [
           {
            "fillpattern": {
             "fillmode": "overlay",
             "size": 10,
             "solidity": 0.2
            },
            "type": "scatter"
           }
          ],
          "scatter3d": [
           {
            "line": {
             "colorbar": {
              "outlinewidth": 0,
              "ticks": ""
             }
            },
            "marker": {
             "colorbar": {
              "outlinewidth": 0,
              "ticks": ""
             }
            },
            "type": "scatter3d"
           }
          ],
          "scattercarpet": [
           {
            "marker": {
             "colorbar": {
              "outlinewidth": 0,
              "ticks": ""
             }
            },
            "type": "scattercarpet"
           }
          ],
          "scattergeo": [
           {
            "marker": {
             "colorbar": {
              "outlinewidth": 0,
              "ticks": ""
             }
            },
            "type": "scattergeo"
           }
          ],
          "scattergl": [
           {
            "marker": {
             "colorbar": {
              "outlinewidth": 0,
              "ticks": ""
             }
            },
            "type": "scattergl"
           }
          ],
          "scattermapbox": [
           {
            "marker": {
             "colorbar": {
              "outlinewidth": 0,
              "ticks": ""
             }
            },
            "type": "scattermapbox"
           }
          ],
          "scatterpolar": [
           {
            "marker": {
             "colorbar": {
              "outlinewidth": 0,
              "ticks": ""
             }
            },
            "type": "scatterpolar"
           }
          ],
          "scatterpolargl": [
           {
            "marker": {
             "colorbar": {
              "outlinewidth": 0,
              "ticks": ""
             }
            },
            "type": "scatterpolargl"
           }
          ],
          "scatterternary": [
           {
            "marker": {
             "colorbar": {
              "outlinewidth": 0,
              "ticks": ""
             }
            },
            "type": "scatterternary"
           }
          ],
          "surface": [
           {
            "colorbar": {
             "outlinewidth": 0,
             "ticks": ""
            },
            "colorscale": [
             [
              0,
              "#0d0887"
             ],
             [
              0.1111111111111111,
              "#46039f"
             ],
             [
              0.2222222222222222,
              "#7201a8"
             ],
             [
              0.3333333333333333,
              "#9c179e"
             ],
             [
              0.4444444444444444,
              "#bd3786"
             ],
             [
              0.5555555555555556,
              "#d8576b"
             ],
             [
              0.6666666666666666,
              "#ed7953"
             ],
             [
              0.7777777777777778,
              "#fb9f3a"
             ],
             [
              0.8888888888888888,
              "#fdca26"
             ],
             [
              1,
              "#f0f921"
             ]
            ],
            "type": "surface"
           }
          ],
          "table": [
           {
            "cells": {
             "fill": {
              "color": "#EBF0F8"
             },
             "line": {
              "color": "white"
             }
            },
            "header": {
             "fill": {
              "color": "#C8D4E3"
             },
             "line": {
              "color": "white"
             }
            },
            "type": "table"
           }
          ]
         },
         "layout": {
          "annotationdefaults": {
           "arrowcolor": "#2a3f5f",
           "arrowhead": 0,
           "arrowwidth": 1
          },
          "autotypenumbers": "strict",
          "coloraxis": {
           "colorbar": {
            "outlinewidth": 0,
            "ticks": ""
           }
          },
          "colorscale": {
           "diverging": [
            [
             0,
             "#8e0152"
            ],
            [
             0.1,
             "#c51b7d"
            ],
            [
             0.2,
             "#de77ae"
            ],
            [
             0.3,
             "#f1b6da"
            ],
            [
             0.4,
             "#fde0ef"
            ],
            [
             0.5,
             "#f7f7f7"
            ],
            [
             0.6,
             "#e6f5d0"
            ],
            [
             0.7,
             "#b8e186"
            ],
            [
             0.8,
             "#7fbc41"
            ],
            [
             0.9,
             "#4d9221"
            ],
            [
             1,
             "#276419"
            ]
           ],
           "sequential": [
            [
             0,
             "#0d0887"
            ],
            [
             0.1111111111111111,
             "#46039f"
            ],
            [
             0.2222222222222222,
             "#7201a8"
            ],
            [
             0.3333333333333333,
             "#9c179e"
            ],
            [
             0.4444444444444444,
             "#bd3786"
            ],
            [
             0.5555555555555556,
             "#d8576b"
            ],
            [
             0.6666666666666666,
             "#ed7953"
            ],
            [
             0.7777777777777778,
             "#fb9f3a"
            ],
            [
             0.8888888888888888,
             "#fdca26"
            ],
            [
             1,
             "#f0f921"
            ]
           ],
           "sequentialminus": [
            [
             0,
             "#0d0887"
            ],
            [
             0.1111111111111111,
             "#46039f"
            ],
            [
             0.2222222222222222,
             "#7201a8"
            ],
            [
             0.3333333333333333,
             "#9c179e"
            ],
            [
             0.4444444444444444,
             "#bd3786"
            ],
            [
             0.5555555555555556,
             "#d8576b"
            ],
            [
             0.6666666666666666,
             "#ed7953"
            ],
            [
             0.7777777777777778,
             "#fb9f3a"
            ],
            [
             0.8888888888888888,
             "#fdca26"
            ],
            [
             1,
             "#f0f921"
            ]
           ]
          },
          "colorway": [
           "#636efa",
           "#EF553B",
           "#00cc96",
           "#ab63fa",
           "#FFA15A",
           "#19d3f3",
           "#FF6692",
           "#B6E880",
           "#FF97FF",
           "#FECB52"
          ],
          "font": {
           "color": "#2a3f5f"
          },
          "geo": {
           "bgcolor": "white",
           "lakecolor": "white",
           "landcolor": "#E5ECF6",
           "showlakes": true,
           "showland": true,
           "subunitcolor": "white"
          },
          "hoverlabel": {
           "align": "left"
          },
          "hovermode": "closest",
          "mapbox": {
           "style": "light"
          },
          "paper_bgcolor": "white",
          "plot_bgcolor": "#E5ECF6",
          "polar": {
           "angularaxis": {
            "gridcolor": "white",
            "linecolor": "white",
            "ticks": ""
           },
           "bgcolor": "#E5ECF6",
           "radialaxis": {
            "gridcolor": "white",
            "linecolor": "white",
            "ticks": ""
           }
          },
          "scene": {
           "xaxis": {
            "backgroundcolor": "#E5ECF6",
            "gridcolor": "white",
            "gridwidth": 2,
            "linecolor": "white",
            "showbackground": true,
            "ticks": "",
            "zerolinecolor": "white"
           },
           "yaxis": {
            "backgroundcolor": "#E5ECF6",
            "gridcolor": "white",
            "gridwidth": 2,
            "linecolor": "white",
            "showbackground": true,
            "ticks": "",
            "zerolinecolor": "white"
           },
           "zaxis": {
            "backgroundcolor": "#E5ECF6",
            "gridcolor": "white",
            "gridwidth": 2,
            "linecolor": "white",
            "showbackground": true,
            "ticks": "",
            "zerolinecolor": "white"
           }
          },
          "shapedefaults": {
           "line": {
            "color": "#2a3f5f"
           }
          },
          "ternary": {
           "aaxis": {
            "gridcolor": "white",
            "linecolor": "white",
            "ticks": ""
           },
           "baxis": {
            "gridcolor": "white",
            "linecolor": "white",
            "ticks": ""
           },
           "bgcolor": "#E5ECF6",
           "caxis": {
            "gridcolor": "white",
            "linecolor": "white",
            "ticks": ""
           }
          },
          "title": {
           "x": 0.05
          },
          "xaxis": {
           "automargin": true,
           "gridcolor": "white",
           "linecolor": "white",
           "ticks": "",
           "title": {
            "standoff": 15
           },
           "zerolinecolor": "white",
           "zerolinewidth": 2
          },
          "yaxis": {
           "automargin": true,
           "gridcolor": "white",
           "linecolor": "white",
           "ticks": "",
           "title": {
            "standoff": 15
           },
           "zerolinecolor": "white",
           "zerolinewidth": 2
          }
         }
        },
        "title": {
         "text": "Distribution of Business Types"
        },
        "xaxis": {
         "anchor": "y",
         "domain": [
          0,
          1
         ],
         "title": {
          "text": "BusinessType"
         }
        },
        "yaxis": {
         "anchor": "x",
         "domain": [
          0,
          1
         ],
         "title": {
          "text": "Count"
         }
        }
       }
      }
     },
     "metadata": {},
     "output_type": "display_data"
    }
   ],
   "source": [
    "business_type_counts = df['BusinessType'].value_counts()\n",
    "\n",
    "# Create a horizontal bar chart using Plotly\n",
    "fig = px.bar(\n",
    "    business_type_counts,\n",
    "    x=business_type_counts.index,\n",
    "    y=business_type_counts.values,\n",
    "    orientation='v',  # Horizontal bar chart\n",
    "    labels={'x': 'Business Type', 'y': 'Count'},\n",
    "    title='Distribution of Business Types'\n",
    ")\n",
    "\n",
    "# Show the plot\n",
    "fig.show()\n"
   ]
  },
  {
   "cell_type": "markdown",
   "metadata": {},
   "source": [
    "### Total rating for each type"
   ]
  },
  {
   "cell_type": "code",
   "execution_count": 52,
   "metadata": {},
   "outputs": [
    {
     "data": {
      "application/vnd.plotly.v1+json": {
       "config": {
        "plotlyServerURL": "https://plot.ly"
       },
       "data": [
        {
         "alignmentgroup": "True",
         "hovertemplate": "Business Type=%{x}<br>Total Ratings=%{y}<extra></extra>",
         "legendgroup": "",
         "marker": {
          "color": "#636efa",
          "pattern": {
           "shape": ""
          }
         },
         "name": "",
         "offsetgroup": "",
         "orientation": "v",
         "showlegend": false,
         "textposition": "auto",
         "type": "bar",
         "x": [
          "خدمات الأعمال",
          "إلكترونيات",
          "الجمال والصحة",
          "أطعمة ومشروبات",
          "المنزل",
          "حفلات",
          "هدايا",
          "السيارات",
          "ازياء",
          "التعليم",
          "منتجات رقمية",
          "العقارات",
          "ولاعات"
         ],
         "xaxis": "x",
         "y": [
          150006,
          63845,
          39228,
          14521,
          7490,
          7094,
          5240,
          4021,
          3568,
          2598,
          1340,
          1063,
          273
         ],
         "yaxis": "y"
        }
       ],
       "layout": {
        "barmode": "relative",
        "legend": {
         "tracegroupgap": 0
        },
        "template": {
         "data": {
          "bar": [
           {
            "error_x": {
             "color": "#2a3f5f"
            },
            "error_y": {
             "color": "#2a3f5f"
            },
            "marker": {
             "line": {
              "color": "#E5ECF6",
              "width": 0.5
             },
             "pattern": {
              "fillmode": "overlay",
              "size": 10,
              "solidity": 0.2
             }
            },
            "type": "bar"
           }
          ],
          "barpolar": [
           {
            "marker": {
             "line": {
              "color": "#E5ECF6",
              "width": 0.5
             },
             "pattern": {
              "fillmode": "overlay",
              "size": 10,
              "solidity": 0.2
             }
            },
            "type": "barpolar"
           }
          ],
          "carpet": [
           {
            "aaxis": {
             "endlinecolor": "#2a3f5f",
             "gridcolor": "white",
             "linecolor": "white",
             "minorgridcolor": "white",
             "startlinecolor": "#2a3f5f"
            },
            "baxis": {
             "endlinecolor": "#2a3f5f",
             "gridcolor": "white",
             "linecolor": "white",
             "minorgridcolor": "white",
             "startlinecolor": "#2a3f5f"
            },
            "type": "carpet"
           }
          ],
          "choropleth": [
           {
            "colorbar": {
             "outlinewidth": 0,
             "ticks": ""
            },
            "type": "choropleth"
           }
          ],
          "contour": [
           {
            "colorbar": {
             "outlinewidth": 0,
             "ticks": ""
            },
            "colorscale": [
             [
              0,
              "#0d0887"
             ],
             [
              0.1111111111111111,
              "#46039f"
             ],
             [
              0.2222222222222222,
              "#7201a8"
             ],
             [
              0.3333333333333333,
              "#9c179e"
             ],
             [
              0.4444444444444444,
              "#bd3786"
             ],
             [
              0.5555555555555556,
              "#d8576b"
             ],
             [
              0.6666666666666666,
              "#ed7953"
             ],
             [
              0.7777777777777778,
              "#fb9f3a"
             ],
             [
              0.8888888888888888,
              "#fdca26"
             ],
             [
              1,
              "#f0f921"
             ]
            ],
            "type": "contour"
           }
          ],
          "contourcarpet": [
           {
            "colorbar": {
             "outlinewidth": 0,
             "ticks": ""
            },
            "type": "contourcarpet"
           }
          ],
          "heatmap": [
           {
            "colorbar": {
             "outlinewidth": 0,
             "ticks": ""
            },
            "colorscale": [
             [
              0,
              "#0d0887"
             ],
             [
              0.1111111111111111,
              "#46039f"
             ],
             [
              0.2222222222222222,
              "#7201a8"
             ],
             [
              0.3333333333333333,
              "#9c179e"
             ],
             [
              0.4444444444444444,
              "#bd3786"
             ],
             [
              0.5555555555555556,
              "#d8576b"
             ],
             [
              0.6666666666666666,
              "#ed7953"
             ],
             [
              0.7777777777777778,
              "#fb9f3a"
             ],
             [
              0.8888888888888888,
              "#fdca26"
             ],
             [
              1,
              "#f0f921"
             ]
            ],
            "type": "heatmap"
           }
          ],
          "heatmapgl": [
           {
            "colorbar": {
             "outlinewidth": 0,
             "ticks": ""
            },
            "colorscale": [
             [
              0,
              "#0d0887"
             ],
             [
              0.1111111111111111,
              "#46039f"
             ],
             [
              0.2222222222222222,
              "#7201a8"
             ],
             [
              0.3333333333333333,
              "#9c179e"
             ],
             [
              0.4444444444444444,
              "#bd3786"
             ],
             [
              0.5555555555555556,
              "#d8576b"
             ],
             [
              0.6666666666666666,
              "#ed7953"
             ],
             [
              0.7777777777777778,
              "#fb9f3a"
             ],
             [
              0.8888888888888888,
              "#fdca26"
             ],
             [
              1,
              "#f0f921"
             ]
            ],
            "type": "heatmapgl"
           }
          ],
          "histogram": [
           {
            "marker": {
             "pattern": {
              "fillmode": "overlay",
              "size": 10,
              "solidity": 0.2
             }
            },
            "type": "histogram"
           }
          ],
          "histogram2d": [
           {
            "colorbar": {
             "outlinewidth": 0,
             "ticks": ""
            },
            "colorscale": [
             [
              0,
              "#0d0887"
             ],
             [
              0.1111111111111111,
              "#46039f"
             ],
             [
              0.2222222222222222,
              "#7201a8"
             ],
             [
              0.3333333333333333,
              "#9c179e"
             ],
             [
              0.4444444444444444,
              "#bd3786"
             ],
             [
              0.5555555555555556,
              "#d8576b"
             ],
             [
              0.6666666666666666,
              "#ed7953"
             ],
             [
              0.7777777777777778,
              "#fb9f3a"
             ],
             [
              0.8888888888888888,
              "#fdca26"
             ],
             [
              1,
              "#f0f921"
             ]
            ],
            "type": "histogram2d"
           }
          ],
          "histogram2dcontour": [
           {
            "colorbar": {
             "outlinewidth": 0,
             "ticks": ""
            },
            "colorscale": [
             [
              0,
              "#0d0887"
             ],
             [
              0.1111111111111111,
              "#46039f"
             ],
             [
              0.2222222222222222,
              "#7201a8"
             ],
             [
              0.3333333333333333,
              "#9c179e"
             ],
             [
              0.4444444444444444,
              "#bd3786"
             ],
             [
              0.5555555555555556,
              "#d8576b"
             ],
             [
              0.6666666666666666,
              "#ed7953"
             ],
             [
              0.7777777777777778,
              "#fb9f3a"
             ],
             [
              0.8888888888888888,
              "#fdca26"
             ],
             [
              1,
              "#f0f921"
             ]
            ],
            "type": "histogram2dcontour"
           }
          ],
          "mesh3d": [
           {
            "colorbar": {
             "outlinewidth": 0,
             "ticks": ""
            },
            "type": "mesh3d"
           }
          ],
          "parcoords": [
           {
            "line": {
             "colorbar": {
              "outlinewidth": 0,
              "ticks": ""
             }
            },
            "type": "parcoords"
           }
          ],
          "pie": [
           {
            "automargin": true,
            "type": "pie"
           }
          ],
          "scatter": [
           {
            "fillpattern": {
             "fillmode": "overlay",
             "size": 10,
             "solidity": 0.2
            },
            "type": "scatter"
           }
          ],
          "scatter3d": [
           {
            "line": {
             "colorbar": {
              "outlinewidth": 0,
              "ticks": ""
             }
            },
            "marker": {
             "colorbar": {
              "outlinewidth": 0,
              "ticks": ""
             }
            },
            "type": "scatter3d"
           }
          ],
          "scattercarpet": [
           {
            "marker": {
             "colorbar": {
              "outlinewidth": 0,
              "ticks": ""
             }
            },
            "type": "scattercarpet"
           }
          ],
          "scattergeo": [
           {
            "marker": {
             "colorbar": {
              "outlinewidth": 0,
              "ticks": ""
             }
            },
            "type": "scattergeo"
           }
          ],
          "scattergl": [
           {
            "marker": {
             "colorbar": {
              "outlinewidth": 0,
              "ticks": ""
             }
            },
            "type": "scattergl"
           }
          ],
          "scattermapbox": [
           {
            "marker": {
             "colorbar": {
              "outlinewidth": 0,
              "ticks": ""
             }
            },
            "type": "scattermapbox"
           }
          ],
          "scatterpolar": [
           {
            "marker": {
             "colorbar": {
              "outlinewidth": 0,
              "ticks": ""
             }
            },
            "type": "scatterpolar"
           }
          ],
          "scatterpolargl": [
           {
            "marker": {
             "colorbar": {
              "outlinewidth": 0,
              "ticks": ""
             }
            },
            "type": "scatterpolargl"
           }
          ],
          "scatterternary": [
           {
            "marker": {
             "colorbar": {
              "outlinewidth": 0,
              "ticks": ""
             }
            },
            "type": "scatterternary"
           }
          ],
          "surface": [
           {
            "colorbar": {
             "outlinewidth": 0,
             "ticks": ""
            },
            "colorscale": [
             [
              0,
              "#0d0887"
             ],
             [
              0.1111111111111111,
              "#46039f"
             ],
             [
              0.2222222222222222,
              "#7201a8"
             ],
             [
              0.3333333333333333,
              "#9c179e"
             ],
             [
              0.4444444444444444,
              "#bd3786"
             ],
             [
              0.5555555555555556,
              "#d8576b"
             ],
             [
              0.6666666666666666,
              "#ed7953"
             ],
             [
              0.7777777777777778,
              "#fb9f3a"
             ],
             [
              0.8888888888888888,
              "#fdca26"
             ],
             [
              1,
              "#f0f921"
             ]
            ],
            "type": "surface"
           }
          ],
          "table": [
           {
            "cells": {
             "fill": {
              "color": "#EBF0F8"
             },
             "line": {
              "color": "white"
             }
            },
            "header": {
             "fill": {
              "color": "#C8D4E3"
             },
             "line": {
              "color": "white"
             }
            },
            "type": "table"
           }
          ]
         },
         "layout": {
          "annotationdefaults": {
           "arrowcolor": "#2a3f5f",
           "arrowhead": 0,
           "arrowwidth": 1
          },
          "autotypenumbers": "strict",
          "coloraxis": {
           "colorbar": {
            "outlinewidth": 0,
            "ticks": ""
           }
          },
          "colorscale": {
           "diverging": [
            [
             0,
             "#8e0152"
            ],
            [
             0.1,
             "#c51b7d"
            ],
            [
             0.2,
             "#de77ae"
            ],
            [
             0.3,
             "#f1b6da"
            ],
            [
             0.4,
             "#fde0ef"
            ],
            [
             0.5,
             "#f7f7f7"
            ],
            [
             0.6,
             "#e6f5d0"
            ],
            [
             0.7,
             "#b8e186"
            ],
            [
             0.8,
             "#7fbc41"
            ],
            [
             0.9,
             "#4d9221"
            ],
            [
             1,
             "#276419"
            ]
           ],
           "sequential": [
            [
             0,
             "#0d0887"
            ],
            [
             0.1111111111111111,
             "#46039f"
            ],
            [
             0.2222222222222222,
             "#7201a8"
            ],
            [
             0.3333333333333333,
             "#9c179e"
            ],
            [
             0.4444444444444444,
             "#bd3786"
            ],
            [
             0.5555555555555556,
             "#d8576b"
            ],
            [
             0.6666666666666666,
             "#ed7953"
            ],
            [
             0.7777777777777778,
             "#fb9f3a"
            ],
            [
             0.8888888888888888,
             "#fdca26"
            ],
            [
             1,
             "#f0f921"
            ]
           ],
           "sequentialminus": [
            [
             0,
             "#0d0887"
            ],
            [
             0.1111111111111111,
             "#46039f"
            ],
            [
             0.2222222222222222,
             "#7201a8"
            ],
            [
             0.3333333333333333,
             "#9c179e"
            ],
            [
             0.4444444444444444,
             "#bd3786"
            ],
            [
             0.5555555555555556,
             "#d8576b"
            ],
            [
             0.6666666666666666,
             "#ed7953"
            ],
            [
             0.7777777777777778,
             "#fb9f3a"
            ],
            [
             0.8888888888888888,
             "#fdca26"
            ],
            [
             1,
             "#f0f921"
            ]
           ]
          },
          "colorway": [
           "#636efa",
           "#EF553B",
           "#00cc96",
           "#ab63fa",
           "#FFA15A",
           "#19d3f3",
           "#FF6692",
           "#B6E880",
           "#FF97FF",
           "#FECB52"
          ],
          "font": {
           "color": "#2a3f5f"
          },
          "geo": {
           "bgcolor": "white",
           "lakecolor": "white",
           "landcolor": "#E5ECF6",
           "showlakes": true,
           "showland": true,
           "subunitcolor": "white"
          },
          "hoverlabel": {
           "align": "left"
          },
          "hovermode": "closest",
          "mapbox": {
           "style": "light"
          },
          "paper_bgcolor": "white",
          "plot_bgcolor": "#E5ECF6",
          "polar": {
           "angularaxis": {
            "gridcolor": "white",
            "linecolor": "white",
            "ticks": ""
           },
           "bgcolor": "#E5ECF6",
           "radialaxis": {
            "gridcolor": "white",
            "linecolor": "white",
            "ticks": ""
           }
          },
          "scene": {
           "xaxis": {
            "backgroundcolor": "#E5ECF6",
            "gridcolor": "white",
            "gridwidth": 2,
            "linecolor": "white",
            "showbackground": true,
            "ticks": "",
            "zerolinecolor": "white"
           },
           "yaxis": {
            "backgroundcolor": "#E5ECF6",
            "gridcolor": "white",
            "gridwidth": 2,
            "linecolor": "white",
            "showbackground": true,
            "ticks": "",
            "zerolinecolor": "white"
           },
           "zaxis": {
            "backgroundcolor": "#E5ECF6",
            "gridcolor": "white",
            "gridwidth": 2,
            "linecolor": "white",
            "showbackground": true,
            "ticks": "",
            "zerolinecolor": "white"
           }
          },
          "shapedefaults": {
           "line": {
            "color": "#2a3f5f"
           }
          },
          "ternary": {
           "aaxis": {
            "gridcolor": "white",
            "linecolor": "white",
            "ticks": ""
           },
           "baxis": {
            "gridcolor": "white",
            "linecolor": "white",
            "ticks": ""
           },
           "bgcolor": "#E5ECF6",
           "caxis": {
            "gridcolor": "white",
            "linecolor": "white",
            "ticks": ""
           }
          },
          "title": {
           "x": 0.05
          },
          "xaxis": {
           "automargin": true,
           "gridcolor": "white",
           "linecolor": "white",
           "ticks": "",
           "title": {
            "standoff": 15
           },
           "zerolinecolor": "white",
           "zerolinewidth": 2
          },
          "yaxis": {
           "automargin": true,
           "gridcolor": "white",
           "linecolor": "white",
           "ticks": "",
           "title": {
            "standoff": 15
           },
           "zerolinecolor": "white",
           "zerolinewidth": 2
          }
         }
        },
        "title": {
         "text": "Total Ratings by Business Type"
        },
        "xaxis": {
         "anchor": "y",
         "domain": [
          0,
          1
         ],
         "title": {
          "text": "Business Type"
         }
        },
        "yaxis": {
         "anchor": "x",
         "domain": [
          0,
          1
         ],
         "title": {
          "text": "Total Ratings"
         }
        }
       }
      }
     },
     "metadata": {},
     "output_type": "display_data"
    }
   ],
   "source": [
    "\n",
    "# Assuming your dataframe df has columns 'BusinessType' and 'rating'\n",
    "# Group by BusinessType and calculate the total ratings for each type\n",
    "total_ratings_per_type = df.groupby('BusinessType')['rating'].sum().reset_index()\n",
    "\n",
    "# Create a vertical bar chart using Plotly\n",
    "fig = px.bar(\n",
    "    total_ratings_per_type.sort_values(by = 'rating', ascending=False),\n",
    "    x='BusinessType',\n",
    "    y='rating',\n",
    "    labels={'BusinessType': 'Business Type', 'rating': 'Total Ratings'},\n",
    "    title='Total Ratings by Business Type'\n",
    ")\n",
    "\n",
    "# Show the plot\n",
    "fig.show()\n"
   ]
  },
  {
   "cell_type": "markdown",
   "metadata": {},
   "source": [
    "### The number of ratings throughout the years\n",
    "its not accurate because its not actually all the comments "
   ]
  },
  {
   "cell_type": "code",
   "execution_count": 53,
   "metadata": {},
   "outputs": [
    {
     "data": {
      "application/vnd.plotly.v1+json": {
       "config": {
        "plotlyServerURL": "https://plot.ly"
       },
       "data": [
        {
         "fillpattern": {
          "shape": ""
         },
         "hovertemplate": "Date=%{x}<br>Number of Ratings=%{y}<extra></extra>",
         "legendgroup": "",
         "line": {
          "color": "#636efa"
         },
         "marker": {
          "symbol": "circle"
         },
         "mode": "lines",
         "name": "",
         "orientation": "v",
         "showlegend": false,
         "stackgroup": "1",
         "type": "scatter",
         "x": [
          "2016-03-01T00:00:00",
          "2016-04-01T00:00:00",
          "2016-05-01T00:00:00",
          "2016-06-01T00:00:00",
          "2016-07-01T00:00:00",
          "2016-08-01T00:00:00",
          "2016-09-01T00:00:00",
          "2016-10-01T00:00:00",
          "2016-11-01T00:00:00",
          "2016-12-01T00:00:00",
          "2017-01-01T00:00:00",
          "2017-02-01T00:00:00",
          "2017-03-01T00:00:00",
          "2017-04-01T00:00:00",
          "2017-05-01T00:00:00",
          "2017-06-01T00:00:00",
          "2017-07-01T00:00:00",
          "2017-08-01T00:00:00",
          "2017-09-01T00:00:00",
          "2017-10-01T00:00:00",
          "2017-11-01T00:00:00",
          "2017-12-01T00:00:00",
          "2018-01-01T00:00:00",
          "2018-02-01T00:00:00",
          "2018-03-01T00:00:00",
          "2018-04-01T00:00:00",
          "2018-05-01T00:00:00",
          "2018-06-01T00:00:00",
          "2018-07-01T00:00:00",
          "2018-08-01T00:00:00",
          "2018-09-01T00:00:00",
          "2018-10-01T00:00:00",
          "2018-11-01T00:00:00",
          "2018-12-01T00:00:00",
          "2019-01-01T00:00:00",
          "2019-02-01T00:00:00",
          "2019-03-01T00:00:00",
          "2019-04-01T00:00:00",
          "2019-05-01T00:00:00",
          "2019-06-01T00:00:00",
          "2019-07-01T00:00:00",
          "2019-08-01T00:00:00",
          "2019-09-01T00:00:00",
          "2019-10-01T00:00:00",
          "2019-11-01T00:00:00",
          "2019-12-01T00:00:00",
          "2020-01-01T00:00:00",
          "2020-02-01T00:00:00",
          "2020-03-01T00:00:00",
          "2020-04-01T00:00:00",
          "2020-05-01T00:00:00",
          "2020-06-01T00:00:00",
          "2020-07-01T00:00:00",
          "2020-08-01T00:00:00",
          "2020-09-01T00:00:00",
          "2020-10-01T00:00:00",
          "2020-11-01T00:00:00",
          "2020-12-01T00:00:00",
          "2021-01-01T00:00:00",
          "2021-02-01T00:00:00",
          "2021-03-01T00:00:00",
          "2021-04-01T00:00:00",
          "2021-05-01T00:00:00",
          "2021-06-01T00:00:00",
          "2021-07-01T00:00:00",
          "2021-08-01T00:00:00",
          "2021-09-01T00:00:00",
          "2021-10-01T00:00:00",
          "2021-11-01T00:00:00",
          "2021-12-01T00:00:00",
          "2022-01-01T00:00:00",
          "2022-02-01T00:00:00",
          "2022-03-01T00:00:00",
          "2022-04-01T00:00:00",
          "2022-05-01T00:00:00",
          "2022-06-01T00:00:00",
          "2022-07-01T00:00:00",
          "2022-08-01T00:00:00",
          "2022-09-01T00:00:00",
          "2022-10-01T00:00:00",
          "2022-11-01T00:00:00",
          "2022-12-01T00:00:00",
          "2023-01-01T00:00:00",
          "2023-02-01T00:00:00",
          "2023-03-01T00:00:00",
          "2023-04-01T00:00:00",
          "2023-05-01T00:00:00",
          "2023-06-01T00:00:00",
          "2023-07-01T00:00:00",
          "2023-08-01T00:00:00",
          "2023-09-01T00:00:00",
          "2023-10-01T00:00:00",
          "2023-11-01T00:00:00",
          "2023-12-01T00:00:00",
          "2024-01-01T00:00:00",
          "2024-02-01T00:00:00",
          "2024-03-01T00:00:00",
          "2024-04-01T00:00:00",
          "2024-05-01T00:00:00",
          "2024-06-01T00:00:00",
          "2024-07-01T00:00:00",
          "2024-08-01T00:00:00",
          "2024-09-01T00:00:00"
         ],
         "xaxis": "x",
         "y": [
          26,
          198,
          139,
          134,
          85,
          144,
          118,
          224,
          124,
          223,
          178,
          94,
          247,
          167,
          90,
          626,
          296,
          284,
          250,
          169,
          183,
          173,
          106,
          162,
          123,
          171,
          162,
          192,
          162,
          110,
          201,
          242,
          219,
          321,
          307,
          292,
          283,
          476,
          479,
          316,
          436,
          297,
          388,
          502,
          330,
          297,
          453,
          647,
          908,
          1281,
          1284,
          1121,
          1004,
          741,
          1170,
          1393,
          999,
          1871,
          1044,
          1261,
          1197,
          1097,
          1010,
          1052,
          1012,
          847,
          1456,
          1057,
          552,
          457,
          463,
          328,
          451,
          1117,
          1485,
          744,
          2675,
          1070,
          1984,
          1784,
          1143,
          2380,
          1266,
          730,
          1088,
          862,
          888,
          793,
          617,
          953,
          784,
          761,
          404,
          190,
          220,
          169,
          270,
          314,
          333,
          320,
          287,
          307,
          44
         ],
         "yaxis": "y"
        }
       ],
       "layout": {
        "legend": {
         "tracegroupgap": 0
        },
        "template": {
         "data": {
          "bar": [
           {
            "error_x": {
             "color": "#2a3f5f"
            },
            "error_y": {
             "color": "#2a3f5f"
            },
            "marker": {
             "line": {
              "color": "#E5ECF6",
              "width": 0.5
             },
             "pattern": {
              "fillmode": "overlay",
              "size": 10,
              "solidity": 0.2
             }
            },
            "type": "bar"
           }
          ],
          "barpolar": [
           {
            "marker": {
             "line": {
              "color": "#E5ECF6",
              "width": 0.5
             },
             "pattern": {
              "fillmode": "overlay",
              "size": 10,
              "solidity": 0.2
             }
            },
            "type": "barpolar"
           }
          ],
          "carpet": [
           {
            "aaxis": {
             "endlinecolor": "#2a3f5f",
             "gridcolor": "white",
             "linecolor": "white",
             "minorgridcolor": "white",
             "startlinecolor": "#2a3f5f"
            },
            "baxis": {
             "endlinecolor": "#2a3f5f",
             "gridcolor": "white",
             "linecolor": "white",
             "minorgridcolor": "white",
             "startlinecolor": "#2a3f5f"
            },
            "type": "carpet"
           }
          ],
          "choropleth": [
           {
            "colorbar": {
             "outlinewidth": 0,
             "ticks": ""
            },
            "type": "choropleth"
           }
          ],
          "contour": [
           {
            "colorbar": {
             "outlinewidth": 0,
             "ticks": ""
            },
            "colorscale": [
             [
              0,
              "#0d0887"
             ],
             [
              0.1111111111111111,
              "#46039f"
             ],
             [
              0.2222222222222222,
              "#7201a8"
             ],
             [
              0.3333333333333333,
              "#9c179e"
             ],
             [
              0.4444444444444444,
              "#bd3786"
             ],
             [
              0.5555555555555556,
              "#d8576b"
             ],
             [
              0.6666666666666666,
              "#ed7953"
             ],
             [
              0.7777777777777778,
              "#fb9f3a"
             ],
             [
              0.8888888888888888,
              "#fdca26"
             ],
             [
              1,
              "#f0f921"
             ]
            ],
            "type": "contour"
           }
          ],
          "contourcarpet": [
           {
            "colorbar": {
             "outlinewidth": 0,
             "ticks": ""
            },
            "type": "contourcarpet"
           }
          ],
          "heatmap": [
           {
            "colorbar": {
             "outlinewidth": 0,
             "ticks": ""
            },
            "colorscale": [
             [
              0,
              "#0d0887"
             ],
             [
              0.1111111111111111,
              "#46039f"
             ],
             [
              0.2222222222222222,
              "#7201a8"
             ],
             [
              0.3333333333333333,
              "#9c179e"
             ],
             [
              0.4444444444444444,
              "#bd3786"
             ],
             [
              0.5555555555555556,
              "#d8576b"
             ],
             [
              0.6666666666666666,
              "#ed7953"
             ],
             [
              0.7777777777777778,
              "#fb9f3a"
             ],
             [
              0.8888888888888888,
              "#fdca26"
             ],
             [
              1,
              "#f0f921"
             ]
            ],
            "type": "heatmap"
           }
          ],
          "heatmapgl": [
           {
            "colorbar": {
             "outlinewidth": 0,
             "ticks": ""
            },
            "colorscale": [
             [
              0,
              "#0d0887"
             ],
             [
              0.1111111111111111,
              "#46039f"
             ],
             [
              0.2222222222222222,
              "#7201a8"
             ],
             [
              0.3333333333333333,
              "#9c179e"
             ],
             [
              0.4444444444444444,
              "#bd3786"
             ],
             [
              0.5555555555555556,
              "#d8576b"
             ],
             [
              0.6666666666666666,
              "#ed7953"
             ],
             [
              0.7777777777777778,
              "#fb9f3a"
             ],
             [
              0.8888888888888888,
              "#fdca26"
             ],
             [
              1,
              "#f0f921"
             ]
            ],
            "type": "heatmapgl"
           }
          ],
          "histogram": [
           {
            "marker": {
             "pattern": {
              "fillmode": "overlay",
              "size": 10,
              "solidity": 0.2
             }
            },
            "type": "histogram"
           }
          ],
          "histogram2d": [
           {
            "colorbar": {
             "outlinewidth": 0,
             "ticks": ""
            },
            "colorscale": [
             [
              0,
              "#0d0887"
             ],
             [
              0.1111111111111111,
              "#46039f"
             ],
             [
              0.2222222222222222,
              "#7201a8"
             ],
             [
              0.3333333333333333,
              "#9c179e"
             ],
             [
              0.4444444444444444,
              "#bd3786"
             ],
             [
              0.5555555555555556,
              "#d8576b"
             ],
             [
              0.6666666666666666,
              "#ed7953"
             ],
             [
              0.7777777777777778,
              "#fb9f3a"
             ],
             [
              0.8888888888888888,
              "#fdca26"
             ],
             [
              1,
              "#f0f921"
             ]
            ],
            "type": "histogram2d"
           }
          ],
          "histogram2dcontour": [
           {
            "colorbar": {
             "outlinewidth": 0,
             "ticks": ""
            },
            "colorscale": [
             [
              0,
              "#0d0887"
             ],
             [
              0.1111111111111111,
              "#46039f"
             ],
             [
              0.2222222222222222,
              "#7201a8"
             ],
             [
              0.3333333333333333,
              "#9c179e"
             ],
             [
              0.4444444444444444,
              "#bd3786"
             ],
             [
              0.5555555555555556,
              "#d8576b"
             ],
             [
              0.6666666666666666,
              "#ed7953"
             ],
             [
              0.7777777777777778,
              "#fb9f3a"
             ],
             [
              0.8888888888888888,
              "#fdca26"
             ],
             [
              1,
              "#f0f921"
             ]
            ],
            "type": "histogram2dcontour"
           }
          ],
          "mesh3d": [
           {
            "colorbar": {
             "outlinewidth": 0,
             "ticks": ""
            },
            "type": "mesh3d"
           }
          ],
          "parcoords": [
           {
            "line": {
             "colorbar": {
              "outlinewidth": 0,
              "ticks": ""
             }
            },
            "type": "parcoords"
           }
          ],
          "pie": [
           {
            "automargin": true,
            "type": "pie"
           }
          ],
          "scatter": [
           {
            "fillpattern": {
             "fillmode": "overlay",
             "size": 10,
             "solidity": 0.2
            },
            "type": "scatter"
           }
          ],
          "scatter3d": [
           {
            "line": {
             "colorbar": {
              "outlinewidth": 0,
              "ticks": ""
             }
            },
            "marker": {
             "colorbar": {
              "outlinewidth": 0,
              "ticks": ""
             }
            },
            "type": "scatter3d"
           }
          ],
          "scattercarpet": [
           {
            "marker": {
             "colorbar": {
              "outlinewidth": 0,
              "ticks": ""
             }
            },
            "type": "scattercarpet"
           }
          ],
          "scattergeo": [
           {
            "marker": {
             "colorbar": {
              "outlinewidth": 0,
              "ticks": ""
             }
            },
            "type": "scattergeo"
           }
          ],
          "scattergl": [
           {
            "marker": {
             "colorbar": {
              "outlinewidth": 0,
              "ticks": ""
             }
            },
            "type": "scattergl"
           }
          ],
          "scattermapbox": [
           {
            "marker": {
             "colorbar": {
              "outlinewidth": 0,
              "ticks": ""
             }
            },
            "type": "scattermapbox"
           }
          ],
          "scatterpolar": [
           {
            "marker": {
             "colorbar": {
              "outlinewidth": 0,
              "ticks": ""
             }
            },
            "type": "scatterpolar"
           }
          ],
          "scatterpolargl": [
           {
            "marker": {
             "colorbar": {
              "outlinewidth": 0,
              "ticks": ""
             }
            },
            "type": "scatterpolargl"
           }
          ],
          "scatterternary": [
           {
            "marker": {
             "colorbar": {
              "outlinewidth": 0,
              "ticks": ""
             }
            },
            "type": "scatterternary"
           }
          ],
          "surface": [
           {
            "colorbar": {
             "outlinewidth": 0,
             "ticks": ""
            },
            "colorscale": [
             [
              0,
              "#0d0887"
             ],
             [
              0.1111111111111111,
              "#46039f"
             ],
             [
              0.2222222222222222,
              "#7201a8"
             ],
             [
              0.3333333333333333,
              "#9c179e"
             ],
             [
              0.4444444444444444,
              "#bd3786"
             ],
             [
              0.5555555555555556,
              "#d8576b"
             ],
             [
              0.6666666666666666,
              "#ed7953"
             ],
             [
              0.7777777777777778,
              "#fb9f3a"
             ],
             [
              0.8888888888888888,
              "#fdca26"
             ],
             [
              1,
              "#f0f921"
             ]
            ],
            "type": "surface"
           }
          ],
          "table": [
           {
            "cells": {
             "fill": {
              "color": "#EBF0F8"
             },
             "line": {
              "color": "white"
             }
            },
            "header": {
             "fill": {
              "color": "#C8D4E3"
             },
             "line": {
              "color": "white"
             }
            },
            "type": "table"
           }
          ]
         },
         "layout": {
          "annotationdefaults": {
           "arrowcolor": "#2a3f5f",
           "arrowhead": 0,
           "arrowwidth": 1
          },
          "autotypenumbers": "strict",
          "coloraxis": {
           "colorbar": {
            "outlinewidth": 0,
            "ticks": ""
           }
          },
          "colorscale": {
           "diverging": [
            [
             0,
             "#8e0152"
            ],
            [
             0.1,
             "#c51b7d"
            ],
            [
             0.2,
             "#de77ae"
            ],
            [
             0.3,
             "#f1b6da"
            ],
            [
             0.4,
             "#fde0ef"
            ],
            [
             0.5,
             "#f7f7f7"
            ],
            [
             0.6,
             "#e6f5d0"
            ],
            [
             0.7,
             "#b8e186"
            ],
            [
             0.8,
             "#7fbc41"
            ],
            [
             0.9,
             "#4d9221"
            ],
            [
             1,
             "#276419"
            ]
           ],
           "sequential": [
            [
             0,
             "#0d0887"
            ],
            [
             0.1111111111111111,
             "#46039f"
            ],
            [
             0.2222222222222222,
             "#7201a8"
            ],
            [
             0.3333333333333333,
             "#9c179e"
            ],
            [
             0.4444444444444444,
             "#bd3786"
            ],
            [
             0.5555555555555556,
             "#d8576b"
            ],
            [
             0.6666666666666666,
             "#ed7953"
            ],
            [
             0.7777777777777778,
             "#fb9f3a"
            ],
            [
             0.8888888888888888,
             "#fdca26"
            ],
            [
             1,
             "#f0f921"
            ]
           ],
           "sequentialminus": [
            [
             0,
             "#0d0887"
            ],
            [
             0.1111111111111111,
             "#46039f"
            ],
            [
             0.2222222222222222,
             "#7201a8"
            ],
            [
             0.3333333333333333,
             "#9c179e"
            ],
            [
             0.4444444444444444,
             "#bd3786"
            ],
            [
             0.5555555555555556,
             "#d8576b"
            ],
            [
             0.6666666666666666,
             "#ed7953"
            ],
            [
             0.7777777777777778,
             "#fb9f3a"
            ],
            [
             0.8888888888888888,
             "#fdca26"
            ],
            [
             1,
             "#f0f921"
            ]
           ]
          },
          "colorway": [
           "#636efa",
           "#EF553B",
           "#00cc96",
           "#ab63fa",
           "#FFA15A",
           "#19d3f3",
           "#FF6692",
           "#B6E880",
           "#FF97FF",
           "#FECB52"
          ],
          "font": {
           "color": "#2a3f5f"
          },
          "geo": {
           "bgcolor": "white",
           "lakecolor": "white",
           "landcolor": "#E5ECF6",
           "showlakes": true,
           "showland": true,
           "subunitcolor": "white"
          },
          "hoverlabel": {
           "align": "left"
          },
          "hovermode": "closest",
          "mapbox": {
           "style": "light"
          },
          "paper_bgcolor": "white",
          "plot_bgcolor": "#E5ECF6",
          "polar": {
           "angularaxis": {
            "gridcolor": "white",
            "linecolor": "white",
            "ticks": ""
           },
           "bgcolor": "#E5ECF6",
           "radialaxis": {
            "gridcolor": "white",
            "linecolor": "white",
            "ticks": ""
           }
          },
          "scene": {
           "xaxis": {
            "backgroundcolor": "#E5ECF6",
            "gridcolor": "white",
            "gridwidth": 2,
            "linecolor": "white",
            "showbackground": true,
            "ticks": "",
            "zerolinecolor": "white"
           },
           "yaxis": {
            "backgroundcolor": "#E5ECF6",
            "gridcolor": "white",
            "gridwidth": 2,
            "linecolor": "white",
            "showbackground": true,
            "ticks": "",
            "zerolinecolor": "white"
           },
           "zaxis": {
            "backgroundcolor": "#E5ECF6",
            "gridcolor": "white",
            "gridwidth": 2,
            "linecolor": "white",
            "showbackground": true,
            "ticks": "",
            "zerolinecolor": "white"
           }
          },
          "shapedefaults": {
           "line": {
            "color": "#2a3f5f"
           }
          },
          "ternary": {
           "aaxis": {
            "gridcolor": "white",
            "linecolor": "white",
            "ticks": ""
           },
           "baxis": {
            "gridcolor": "white",
            "linecolor": "white",
            "ticks": ""
           },
           "bgcolor": "#E5ECF6",
           "caxis": {
            "gridcolor": "white",
            "linecolor": "white",
            "ticks": ""
           }
          },
          "title": {
           "x": 0.05
          },
          "xaxis": {
           "automargin": true,
           "gridcolor": "white",
           "linecolor": "white",
           "ticks": "",
           "title": {
            "standoff": 15
           },
           "zerolinecolor": "white",
           "zerolinewidth": 2
          },
          "yaxis": {
           "automargin": true,
           "gridcolor": "white",
           "linecolor": "white",
           "ticks": "",
           "title": {
            "standoff": 15
           },
           "zerolinecolor": "white",
           "zerolinewidth": 2
          }
         }
        },
        "title": {
         "text": "Number of Ratings Over Time"
        },
        "xaxis": {
         "anchor": "y",
         "domain": [
          0,
          1
         ],
         "title": {
          "text": "Date"
         }
        },
        "yaxis": {
         "anchor": "x",
         "domain": [
          0,
          1
         ],
         "title": {
          "text": "Number of Ratings"
         }
        }
       }
      }
     },
     "metadata": {},
     "output_type": "display_data"
    }
   ],
   "source": [
    "# its not accurate because its not actually all the comments \n",
    "# Ensure the 'creation_date' column is in datetime format (if not already done)\n",
    "df['creation_date'] = pd.to_datetime(df['creation_date'])\n",
    "\n",
    "# Create a new column for year and month\n",
    "df['year_month'] = df['creation_date'].dt.to_period('M')\n",
    "\n",
    "# Group by year and month and count the number of ratings\n",
    "ratings_per_month = df.groupby('year_month')['rating'].count().reset_index()\n",
    "\n",
    "# Convert the year_month period back to datetime for plotting\n",
    "ratings_per_month['year_month'] = ratings_per_month['year_month'].dt.to_timestamp()\n",
    "\n",
    "# Create a line chart using Plotly\n",
    "fig = px.area(\n",
    "    ratings_per_month,\n",
    "    x='year_month',\n",
    "    y='rating',\n",
    "    labels={'year_month': 'Date', 'rating': 'Number of Ratings'},\n",
    "    title='Number of Ratings Over Time'\n",
    ")\n",
    "fig.show()\n"
   ]
  },
  {
   "cell_type": "code",
   "execution_count": 54,
   "metadata": {},
   "outputs": [
    {
     "data": {
      "text/html": [
       "<div>\n",
       "<style scoped>\n",
       "    .dataframe tbody tr th:only-of-type {\n",
       "        vertical-align: middle;\n",
       "    }\n",
       "\n",
       "    .dataframe tbody tr th {\n",
       "        vertical-align: top;\n",
       "    }\n",
       "\n",
       "    .dataframe thead th {\n",
       "        text-align: right;\n",
       "    }\n",
       "</style>\n",
       "<table border=\"1\" class=\"dataframe\">\n",
       "  <thead>\n",
       "    <tr style=\"text-align: right;\">\n",
       "      <th></th>\n",
       "      <th>BusinessType</th>\n",
       "      <th>rating</th>\n",
       "    </tr>\n",
       "  </thead>\n",
       "  <tbody>\n",
       "    <tr>\n",
       "      <th>0</th>\n",
       "      <td>أطعمة ومشروبات</td>\n",
       "      <td>3036</td>\n",
       "    </tr>\n",
       "    <tr>\n",
       "      <th>1</th>\n",
       "      <td>إلكترونيات</td>\n",
       "      <td>13347</td>\n",
       "    </tr>\n",
       "    <tr>\n",
       "      <th>2</th>\n",
       "      <td>ازياء</td>\n",
       "      <td>776</td>\n",
       "    </tr>\n",
       "    <tr>\n",
       "      <th>3</th>\n",
       "      <td>التعليم</td>\n",
       "      <td>529</td>\n",
       "    </tr>\n",
       "    <tr>\n",
       "      <th>4</th>\n",
       "      <td>الجمال والصحة</td>\n",
       "      <td>8336</td>\n",
       "    </tr>\n",
       "    <tr>\n",
       "      <th>5</th>\n",
       "      <td>السيارات</td>\n",
       "      <td>832</td>\n",
       "    </tr>\n",
       "    <tr>\n",
       "      <th>6</th>\n",
       "      <td>العقارات</td>\n",
       "      <td>218</td>\n",
       "    </tr>\n",
       "    <tr>\n",
       "      <th>7</th>\n",
       "      <td>المنزل</td>\n",
       "      <td>1705</td>\n",
       "    </tr>\n",
       "    <tr>\n",
       "      <th>8</th>\n",
       "      <td>حفلات</td>\n",
       "      <td>1479</td>\n",
       "    </tr>\n",
       "    <tr>\n",
       "      <th>9</th>\n",
       "      <td>خدمات الأعمال</td>\n",
       "      <td>31169</td>\n",
       "    </tr>\n",
       "    <tr>\n",
       "      <th>10</th>\n",
       "      <td>منتجات رقمية</td>\n",
       "      <td>310</td>\n",
       "    </tr>\n",
       "    <tr>\n",
       "      <th>11</th>\n",
       "      <td>هدايا</td>\n",
       "      <td>1092</td>\n",
       "    </tr>\n",
       "    <tr>\n",
       "      <th>12</th>\n",
       "      <td>ولاعات</td>\n",
       "      <td>55</td>\n",
       "    </tr>\n",
       "  </tbody>\n",
       "</table>\n",
       "</div>"
      ],
      "text/plain": [
       "      BusinessType  rating\n",
       "0   أطعمة ومشروبات    3036\n",
       "1       إلكترونيات   13347\n",
       "2            ازياء     776\n",
       "3          التعليم     529\n",
       "4    الجمال والصحة    8336\n",
       "5         السيارات     832\n",
       "6         العقارات     218\n",
       "7           المنزل    1705\n",
       "8            حفلات    1479\n",
       "9    خدمات الأعمال   31169\n",
       "10    منتجات رقمية     310\n",
       "11           هدايا    1092\n",
       "12          ولاعات      55"
      ]
     },
     "execution_count": 54,
     "metadata": {},
     "output_type": "execute_result"
    }
   ],
   "source": [
    "df.groupby('BusinessType')['rating'].count().reset_index()"
   ]
  },
  {
   "cell_type": "code",
   "execution_count": 55,
   "metadata": {},
   "outputs": [
    {
     "data": {
      "application/vnd.plotly.v1+json": {
       "config": {
        "plotlyServerURL": "https://plot.ly"
       },
       "data": [
        {
         "alignmentgroup": "True",
         "hovertemplate": "Metric=Count<br>Business Type=%{x}<br>Value=%{y}<extra></extra>",
         "legendgroup": "Count",
         "marker": {
          "color": "#636efa",
          "pattern": {
           "shape": ""
          }
         },
         "name": "Count",
         "offsetgroup": "Count",
         "orientation": "v",
         "showlegend": true,
         "textposition": "auto",
         "type": "bar",
         "x": [
          "خدمات الأعمال",
          "إلكترونيات",
          "الجمال والصحة",
          "أطعمة ومشروبات",
          "المنزل",
          "حفلات",
          "هدايا",
          "السيارات",
          "ازياء",
          "التعليم",
          "منتجات رقمية",
          "العقارات",
          "ولاعات"
         ],
         "xaxis": "x",
         "y": [
          31169,
          13347,
          8336,
          3036,
          1705,
          1479,
          1092,
          832,
          776,
          529,
          310,
          218,
          55
         ],
         "yaxis": "y"
        },
        {
         "alignmentgroup": "True",
         "hovertemplate": "Metric=rating<br>Business Type=%{x}<br>Value=%{y}<extra></extra>",
         "legendgroup": "rating",
         "marker": {
          "color": "#EF553B",
          "pattern": {
           "shape": ""
          }
         },
         "name": "rating",
         "offsetgroup": "rating",
         "orientation": "v",
         "showlegend": true,
         "textposition": "auto",
         "type": "bar",
         "x": [
          "خدمات الأعمال",
          "إلكترونيات",
          "الجمال والصحة",
          "أطعمة ومشروبات",
          "المنزل",
          "حفلات",
          "هدايا",
          "السيارات",
          "ازياء",
          "التعليم",
          "منتجات رقمية",
          "العقارات",
          "ولاعات"
         ],
         "xaxis": "x",
         "y": [
          150006,
          63845,
          39228,
          14521,
          7490,
          7094,
          5240,
          4021,
          3568,
          2598,
          1340,
          1063,
          273
         ],
         "yaxis": "y"
        }
       ],
       "layout": {
        "barmode": "group",
        "legend": {
         "title": {
          "text": "Metric"
         },
         "tracegroupgap": 0
        },
        "template": {
         "data": {
          "bar": [
           {
            "error_x": {
             "color": "#2a3f5f"
            },
            "error_y": {
             "color": "#2a3f5f"
            },
            "marker": {
             "line": {
              "color": "#E5ECF6",
              "width": 0.5
             },
             "pattern": {
              "fillmode": "overlay",
              "size": 10,
              "solidity": 0.2
             }
            },
            "type": "bar"
           }
          ],
          "barpolar": [
           {
            "marker": {
             "line": {
              "color": "#E5ECF6",
              "width": 0.5
             },
             "pattern": {
              "fillmode": "overlay",
              "size": 10,
              "solidity": 0.2
             }
            },
            "type": "barpolar"
           }
          ],
          "carpet": [
           {
            "aaxis": {
             "endlinecolor": "#2a3f5f",
             "gridcolor": "white",
             "linecolor": "white",
             "minorgridcolor": "white",
             "startlinecolor": "#2a3f5f"
            },
            "baxis": {
             "endlinecolor": "#2a3f5f",
             "gridcolor": "white",
             "linecolor": "white",
             "minorgridcolor": "white",
             "startlinecolor": "#2a3f5f"
            },
            "type": "carpet"
           }
          ],
          "choropleth": [
           {
            "colorbar": {
             "outlinewidth": 0,
             "ticks": ""
            },
            "type": "choropleth"
           }
          ],
          "contour": [
           {
            "colorbar": {
             "outlinewidth": 0,
             "ticks": ""
            },
            "colorscale": [
             [
              0,
              "#0d0887"
             ],
             [
              0.1111111111111111,
              "#46039f"
             ],
             [
              0.2222222222222222,
              "#7201a8"
             ],
             [
              0.3333333333333333,
              "#9c179e"
             ],
             [
              0.4444444444444444,
              "#bd3786"
             ],
             [
              0.5555555555555556,
              "#d8576b"
             ],
             [
              0.6666666666666666,
              "#ed7953"
             ],
             [
              0.7777777777777778,
              "#fb9f3a"
             ],
             [
              0.8888888888888888,
              "#fdca26"
             ],
             [
              1,
              "#f0f921"
             ]
            ],
            "type": "contour"
           }
          ],
          "contourcarpet": [
           {
            "colorbar": {
             "outlinewidth": 0,
             "ticks": ""
            },
            "type": "contourcarpet"
           }
          ],
          "heatmap": [
           {
            "colorbar": {
             "outlinewidth": 0,
             "ticks": ""
            },
            "colorscale": [
             [
              0,
              "#0d0887"
             ],
             [
              0.1111111111111111,
              "#46039f"
             ],
             [
              0.2222222222222222,
              "#7201a8"
             ],
             [
              0.3333333333333333,
              "#9c179e"
             ],
             [
              0.4444444444444444,
              "#bd3786"
             ],
             [
              0.5555555555555556,
              "#d8576b"
             ],
             [
              0.6666666666666666,
              "#ed7953"
             ],
             [
              0.7777777777777778,
              "#fb9f3a"
             ],
             [
              0.8888888888888888,
              "#fdca26"
             ],
             [
              1,
              "#f0f921"
             ]
            ],
            "type": "heatmap"
           }
          ],
          "heatmapgl": [
           {
            "colorbar": {
             "outlinewidth": 0,
             "ticks": ""
            },
            "colorscale": [
             [
              0,
              "#0d0887"
             ],
             [
              0.1111111111111111,
              "#46039f"
             ],
             [
              0.2222222222222222,
              "#7201a8"
             ],
             [
              0.3333333333333333,
              "#9c179e"
             ],
             [
              0.4444444444444444,
              "#bd3786"
             ],
             [
              0.5555555555555556,
              "#d8576b"
             ],
             [
              0.6666666666666666,
              "#ed7953"
             ],
             [
              0.7777777777777778,
              "#fb9f3a"
             ],
             [
              0.8888888888888888,
              "#fdca26"
             ],
             [
              1,
              "#f0f921"
             ]
            ],
            "type": "heatmapgl"
           }
          ],
          "histogram": [
           {
            "marker": {
             "pattern": {
              "fillmode": "overlay",
              "size": 10,
              "solidity": 0.2
             }
            },
            "type": "histogram"
           }
          ],
          "histogram2d": [
           {
            "colorbar": {
             "outlinewidth": 0,
             "ticks": ""
            },
            "colorscale": [
             [
              0,
              "#0d0887"
             ],
             [
              0.1111111111111111,
              "#46039f"
             ],
             [
              0.2222222222222222,
              "#7201a8"
             ],
             [
              0.3333333333333333,
              "#9c179e"
             ],
             [
              0.4444444444444444,
              "#bd3786"
             ],
             [
              0.5555555555555556,
              "#d8576b"
             ],
             [
              0.6666666666666666,
              "#ed7953"
             ],
             [
              0.7777777777777778,
              "#fb9f3a"
             ],
             [
              0.8888888888888888,
              "#fdca26"
             ],
             [
              1,
              "#f0f921"
             ]
            ],
            "type": "histogram2d"
           }
          ],
          "histogram2dcontour": [
           {
            "colorbar": {
             "outlinewidth": 0,
             "ticks": ""
            },
            "colorscale": [
             [
              0,
              "#0d0887"
             ],
             [
              0.1111111111111111,
              "#46039f"
             ],
             [
              0.2222222222222222,
              "#7201a8"
             ],
             [
              0.3333333333333333,
              "#9c179e"
             ],
             [
              0.4444444444444444,
              "#bd3786"
             ],
             [
              0.5555555555555556,
              "#d8576b"
             ],
             [
              0.6666666666666666,
              "#ed7953"
             ],
             [
              0.7777777777777778,
              "#fb9f3a"
             ],
             [
              0.8888888888888888,
              "#fdca26"
             ],
             [
              1,
              "#f0f921"
             ]
            ],
            "type": "histogram2dcontour"
           }
          ],
          "mesh3d": [
           {
            "colorbar": {
             "outlinewidth": 0,
             "ticks": ""
            },
            "type": "mesh3d"
           }
          ],
          "parcoords": [
           {
            "line": {
             "colorbar": {
              "outlinewidth": 0,
              "ticks": ""
             }
            },
            "type": "parcoords"
           }
          ],
          "pie": [
           {
            "automargin": true,
            "type": "pie"
           }
          ],
          "scatter": [
           {
            "fillpattern": {
             "fillmode": "overlay",
             "size": 10,
             "solidity": 0.2
            },
            "type": "scatter"
           }
          ],
          "scatter3d": [
           {
            "line": {
             "colorbar": {
              "outlinewidth": 0,
              "ticks": ""
             }
            },
            "marker": {
             "colorbar": {
              "outlinewidth": 0,
              "ticks": ""
             }
            },
            "type": "scatter3d"
           }
          ],
          "scattercarpet": [
           {
            "marker": {
             "colorbar": {
              "outlinewidth": 0,
              "ticks": ""
             }
            },
            "type": "scattercarpet"
           }
          ],
          "scattergeo": [
           {
            "marker": {
             "colorbar": {
              "outlinewidth": 0,
              "ticks": ""
             }
            },
            "type": "scattergeo"
           }
          ],
          "scattergl": [
           {
            "marker": {
             "colorbar": {
              "outlinewidth": 0,
              "ticks": ""
             }
            },
            "type": "scattergl"
           }
          ],
          "scattermapbox": [
           {
            "marker": {
             "colorbar": {
              "outlinewidth": 0,
              "ticks": ""
             }
            },
            "type": "scattermapbox"
           }
          ],
          "scatterpolar": [
           {
            "marker": {
             "colorbar": {
              "outlinewidth": 0,
              "ticks": ""
             }
            },
            "type": "scatterpolar"
           }
          ],
          "scatterpolargl": [
           {
            "marker": {
             "colorbar": {
              "outlinewidth": 0,
              "ticks": ""
             }
            },
            "type": "scatterpolargl"
           }
          ],
          "scatterternary": [
           {
            "marker": {
             "colorbar": {
              "outlinewidth": 0,
              "ticks": ""
             }
            },
            "type": "scatterternary"
           }
          ],
          "surface": [
           {
            "colorbar": {
             "outlinewidth": 0,
             "ticks": ""
            },
            "colorscale": [
             [
              0,
              "#0d0887"
             ],
             [
              0.1111111111111111,
              "#46039f"
             ],
             [
              0.2222222222222222,
              "#7201a8"
             ],
             [
              0.3333333333333333,
              "#9c179e"
             ],
             [
              0.4444444444444444,
              "#bd3786"
             ],
             [
              0.5555555555555556,
              "#d8576b"
             ],
             [
              0.6666666666666666,
              "#ed7953"
             ],
             [
              0.7777777777777778,
              "#fb9f3a"
             ],
             [
              0.8888888888888888,
              "#fdca26"
             ],
             [
              1,
              "#f0f921"
             ]
            ],
            "type": "surface"
           }
          ],
          "table": [
           {
            "cells": {
             "fill": {
              "color": "#EBF0F8"
             },
             "line": {
              "color": "white"
             }
            },
            "header": {
             "fill": {
              "color": "#C8D4E3"
             },
             "line": {
              "color": "white"
             }
            },
            "type": "table"
           }
          ]
         },
         "layout": {
          "annotationdefaults": {
           "arrowcolor": "#2a3f5f",
           "arrowhead": 0,
           "arrowwidth": 1
          },
          "autotypenumbers": "strict",
          "coloraxis": {
           "colorbar": {
            "outlinewidth": 0,
            "ticks": ""
           }
          },
          "colorscale": {
           "diverging": [
            [
             0,
             "#8e0152"
            ],
            [
             0.1,
             "#c51b7d"
            ],
            [
             0.2,
             "#de77ae"
            ],
            [
             0.3,
             "#f1b6da"
            ],
            [
             0.4,
             "#fde0ef"
            ],
            [
             0.5,
             "#f7f7f7"
            ],
            [
             0.6,
             "#e6f5d0"
            ],
            [
             0.7,
             "#b8e186"
            ],
            [
             0.8,
             "#7fbc41"
            ],
            [
             0.9,
             "#4d9221"
            ],
            [
             1,
             "#276419"
            ]
           ],
           "sequential": [
            [
             0,
             "#0d0887"
            ],
            [
             0.1111111111111111,
             "#46039f"
            ],
            [
             0.2222222222222222,
             "#7201a8"
            ],
            [
             0.3333333333333333,
             "#9c179e"
            ],
            [
             0.4444444444444444,
             "#bd3786"
            ],
            [
             0.5555555555555556,
             "#d8576b"
            ],
            [
             0.6666666666666666,
             "#ed7953"
            ],
            [
             0.7777777777777778,
             "#fb9f3a"
            ],
            [
             0.8888888888888888,
             "#fdca26"
            ],
            [
             1,
             "#f0f921"
            ]
           ],
           "sequentialminus": [
            [
             0,
             "#0d0887"
            ],
            [
             0.1111111111111111,
             "#46039f"
            ],
            [
             0.2222222222222222,
             "#7201a8"
            ],
            [
             0.3333333333333333,
             "#9c179e"
            ],
            [
             0.4444444444444444,
             "#bd3786"
            ],
            [
             0.5555555555555556,
             "#d8576b"
            ],
            [
             0.6666666666666666,
             "#ed7953"
            ],
            [
             0.7777777777777778,
             "#fb9f3a"
            ],
            [
             0.8888888888888888,
             "#fdca26"
            ],
            [
             1,
             "#f0f921"
            ]
           ]
          },
          "colorway": [
           "#636efa",
           "#EF553B",
           "#00cc96",
           "#ab63fa",
           "#FFA15A",
           "#19d3f3",
           "#FF6692",
           "#B6E880",
           "#FF97FF",
           "#FECB52"
          ],
          "font": {
           "color": "#2a3f5f"
          },
          "geo": {
           "bgcolor": "white",
           "lakecolor": "white",
           "landcolor": "#E5ECF6",
           "showlakes": true,
           "showland": true,
           "subunitcolor": "white"
          },
          "hoverlabel": {
           "align": "left"
          },
          "hovermode": "closest",
          "mapbox": {
           "style": "light"
          },
          "paper_bgcolor": "white",
          "plot_bgcolor": "#E5ECF6",
          "polar": {
           "angularaxis": {
            "gridcolor": "white",
            "linecolor": "white",
            "ticks": ""
           },
           "bgcolor": "#E5ECF6",
           "radialaxis": {
            "gridcolor": "white",
            "linecolor": "white",
            "ticks": ""
           }
          },
          "scene": {
           "xaxis": {
            "backgroundcolor": "#E5ECF6",
            "gridcolor": "white",
            "gridwidth": 2,
            "linecolor": "white",
            "showbackground": true,
            "ticks": "",
            "zerolinecolor": "white"
           },
           "yaxis": {
            "backgroundcolor": "#E5ECF6",
            "gridcolor": "white",
            "gridwidth": 2,
            "linecolor": "white",
            "showbackground": true,
            "ticks": "",
            "zerolinecolor": "white"
           },
           "zaxis": {
            "backgroundcolor": "#E5ECF6",
            "gridcolor": "white",
            "gridwidth": 2,
            "linecolor": "white",
            "showbackground": true,
            "ticks": "",
            "zerolinecolor": "white"
           }
          },
          "shapedefaults": {
           "line": {
            "color": "#2a3f5f"
           }
          },
          "ternary": {
           "aaxis": {
            "gridcolor": "white",
            "linecolor": "white",
            "ticks": ""
           },
           "baxis": {
            "gridcolor": "white",
            "linecolor": "white",
            "ticks": ""
           },
           "bgcolor": "#E5ECF6",
           "caxis": {
            "gridcolor": "white",
            "linecolor": "white",
            "ticks": ""
           }
          },
          "title": {
           "x": 0.05
          },
          "xaxis": {
           "automargin": true,
           "gridcolor": "white",
           "linecolor": "white",
           "ticks": "",
           "title": {
            "standoff": 15
           },
           "zerolinecolor": "white",
           "zerolinewidth": 2
          },
          "yaxis": {
           "automargin": true,
           "gridcolor": "white",
           "linecolor": "white",
           "ticks": "",
           "title": {
            "standoff": 15
           },
           "zerolinecolor": "white",
           "zerolinewidth": 2
          }
         }
        },
        "title": {
         "text": "Business Type Distribution and Total Ratings",
         "x": 0.5
        },
        "xaxis": {
         "anchor": "y",
         "domain": [
          0,
          1
         ],
         "title": {
          "text": "Business Type"
         }
        },
        "yaxis": {
         "anchor": "x",
         "domain": [
          0,
          1
         ],
         "title": {
          "text": "Value"
         }
        }
       }
      }
     },
     "metadata": {},
     "output_type": "display_data"
    }
   ],
   "source": [
    "import plotly.express as px\n",
    "import pandas as pd\n",
    "\n",
    "# Calculate the business type distribution and total ratings per business type\n",
    "business_type_counts = df['BusinessType'].value_counts().reset_index()\n",
    "business_type_counts.columns = ['BusinessType', 'Count']\n",
    "\n",
    "total_ratings_per_type = df.groupby('BusinessType')['rating'].sum().reset_index()\n",
    "\n",
    "# Merge the two dataframes so that both the count and total rating are in one dataframe\n",
    "combined_df = pd.merge(business_type_counts, total_ratings_per_type, on='BusinessType')\n",
    "\n",
    "# Melt the dataframe for easier plotting\n",
    "combined_df_melted = combined_df.melt(id_vars='BusinessType', value_vars=['Count', 'rating'], \n",
    "                                      var_name='Metric', value_name='Value')\n",
    "\n",
    "# Create a grouped bar chart using Plotly Express\n",
    "fig = px.bar(\n",
    "    combined_df_melted,\n",
    "    x='BusinessType',\n",
    "    y='Value',\n",
    "    color='Metric',\n",
    "    barmode='group',  # Groups the bars side by side\n",
    "    labels={'BusinessType': 'Business Type', 'Value': 'Value'},\n",
    "    title='Business Type Distribution and Total Ratings'\n",
    ")\n",
    "\n",
    "# Update the layout for better aesthetics\n",
    "fig.update_layout(\n",
    "    xaxis_title='Business Type',\n",
    "    yaxis_title='Value',\n",
    "    title_x=0.5  # Center the title\n",
    ")\n",
    "\n",
    "# Show the plot\n",
    "fig.show()\n"
   ]
  },
  {
   "cell_type": "code",
   "execution_count": 56,
   "metadata": {},
   "outputs": [
    {
     "data": {
      "text/html": [
       "<div>\n",
       "<style scoped>\n",
       "    .dataframe tbody tr th:only-of-type {\n",
       "        vertical-align: middle;\n",
       "    }\n",
       "\n",
       "    .dataframe tbody tr th {\n",
       "        vertical-align: top;\n",
       "    }\n",
       "\n",
       "    .dataframe thead th {\n",
       "        text-align: right;\n",
       "    }\n",
       "</style>\n",
       "<table border=\"1\" class=\"dataframe\">\n",
       "  <thead>\n",
       "    <tr style=\"text-align: right;\">\n",
       "      <th></th>\n",
       "      <th>BusinessId</th>\n",
       "      <th>review_id</th>\n",
       "      <th>rating</th>\n",
       "      <th>comment</th>\n",
       "      <th>creation_date</th>\n",
       "      <th>BusinessType</th>\n",
       "      <th>year_month</th>\n",
       "    </tr>\n",
       "  </thead>\n",
       "  <tbody>\n",
       "    <tr>\n",
       "      <th>0</th>\n",
       "      <td>60202</td>\n",
       "      <td>364189</td>\n",
       "      <td>1</td>\n",
       "      <td>كنت أتعامل معهم أسعارهم أرخص آخر مرة حصلت لي ع...</td>\n",
       "      <td>2024-05-11 05:56:29.327</td>\n",
       "      <td>إلكترونيات</td>\n",
       "      <td>2024-05</td>\n",
       "    </tr>\n",
       "    <tr>\n",
       "      <th>1</th>\n",
       "      <td>60202</td>\n",
       "      <td>356203</td>\n",
       "      <td>1</td>\n",
       "      <td>مصداقية اسعار المنتج</td>\n",
       "      <td>2024-03-06 08:08:24.190</td>\n",
       "      <td>إلكترونيات</td>\n",
       "      <td>2024-03</td>\n",
       "    </tr>\n",
       "    <tr>\n",
       "      <th>2</th>\n",
       "      <td>60202</td>\n",
       "      <td>317781</td>\n",
       "      <td>1</td>\n",
       "      <td>متجر سئ جدا مصداقيته بيانات البضاعة وايضا مواع...</td>\n",
       "      <td>2023-02-18 15:41:20.320</td>\n",
       "      <td>إلكترونيات</td>\n",
       "      <td>2023-02</td>\n",
       "    </tr>\n",
       "    <tr>\n",
       "      <th>3</th>\n",
       "      <td>60202</td>\n",
       "      <td>312616</td>\n",
       "      <td>1</td>\n",
       "      <td>وجد</td>\n",
       "      <td>2023-01-18 10:17:30.503</td>\n",
       "      <td>إلكترونيات</td>\n",
       "      <td>2023-01</td>\n",
       "    </tr>\n",
       "    <tr>\n",
       "      <th>4</th>\n",
       "      <td>60202</td>\n",
       "      <td>309154</td>\n",
       "      <td>1</td>\n",
       "      <td>وجد</td>\n",
       "      <td>2023-01-01 03:54:11.487</td>\n",
       "      <td>إلكترونيات</td>\n",
       "      <td>2023-01</td>\n",
       "    </tr>\n",
       "    <tr>\n",
       "      <th>...</th>\n",
       "      <td>...</td>\n",
       "      <td>...</td>\n",
       "      <td>...</td>\n",
       "      <td>...</td>\n",
       "      <td>...</td>\n",
       "      <td>...</td>\n",
       "      <td>...</td>\n",
       "    </tr>\n",
       "    <tr>\n",
       "      <th>62879</th>\n",
       "      <td>44461</td>\n",
       "      <td>61446</td>\n",
       "      <td>5</td>\n",
       "      <td>مايميز المتجر سرعة الرد والتوصيل السريع وجودة ...</td>\n",
       "      <td>2018-08-28 19:16:42.617</td>\n",
       "      <td>خدمات الأعمال</td>\n",
       "      <td>2018-08</td>\n",
       "    </tr>\n",
       "    <tr>\n",
       "      <th>62880</th>\n",
       "      <td>44461</td>\n",
       "      <td>60746</td>\n",
       "      <td>5</td>\n",
       "      <td>تعامل متجر توليب تجربه تستحق اعادتها مره النوا...</td>\n",
       "      <td>2018-07-31 02:51:11.543</td>\n",
       "      <td>خدمات الأعمال</td>\n",
       "      <td>2018-07</td>\n",
       "    </tr>\n",
       "    <tr>\n",
       "      <th>62881</th>\n",
       "      <td>44461</td>\n",
       "      <td>60443</td>\n",
       "      <td>5</td>\n",
       "      <td>تجربتي معها جمييله وانسانه ذوق واخلاق ومتعاونه...</td>\n",
       "      <td>2018-07-22 16:43:45.897</td>\n",
       "      <td>خدمات الأعمال</td>\n",
       "      <td>2018-07</td>\n",
       "    </tr>\n",
       "    <tr>\n",
       "      <th>62882</th>\n",
       "      <td>44461</td>\n",
       "      <td>60180</td>\n",
       "      <td>5</td>\n",
       "      <td>متجر توليب جميل جدا والتعامل اجمل</td>\n",
       "      <td>2018-07-16 08:09:20.407</td>\n",
       "      <td>خدمات الأعمال</td>\n",
       "      <td>2018-07</td>\n",
       "    </tr>\n",
       "    <tr>\n",
       "      <th>62883</th>\n",
       "      <td>44461</td>\n",
       "      <td>60179</td>\n",
       "      <td>5</td>\n",
       "      <td>وجد</td>\n",
       "      <td>2018-07-16 06:12:50.920</td>\n",
       "      <td>خدمات الأعمال</td>\n",
       "      <td>2018-07</td>\n",
       "    </tr>\n",
       "  </tbody>\n",
       "</table>\n",
       "<p>62884 rows × 7 columns</p>\n",
       "</div>"
      ],
      "text/plain": [
       "       BusinessId  review_id  rating  \\\n",
       "0           60202     364189       1   \n",
       "1           60202     356203       1   \n",
       "2           60202     317781       1   \n",
       "3           60202     312616       1   \n",
       "4           60202     309154       1   \n",
       "...           ...        ...     ...   \n",
       "62879       44461      61446       5   \n",
       "62880       44461      60746       5   \n",
       "62881       44461      60443       5   \n",
       "62882       44461      60180       5   \n",
       "62883       44461      60179       5   \n",
       "\n",
       "                                                 comment  \\\n",
       "0      كنت أتعامل معهم أسعارهم أرخص آخر مرة حصلت لي ع...   \n",
       "1                                   مصداقية اسعار المنتج   \n",
       "2      متجر سئ جدا مصداقيته بيانات البضاعة وايضا مواع...   \n",
       "3                                                    وجد   \n",
       "4                                                    وجد   \n",
       "...                                                  ...   \n",
       "62879  مايميز المتجر سرعة الرد والتوصيل السريع وجودة ...   \n",
       "62880  تعامل متجر توليب تجربه تستحق اعادتها مره النوا...   \n",
       "62881  تجربتي معها جمييله وانسانه ذوق واخلاق ومتعاونه...   \n",
       "62882                  متجر توليب جميل جدا والتعامل اجمل   \n",
       "62883                                                وجد   \n",
       "\n",
       "                creation_date   BusinessType year_month  \n",
       "0     2024-05-11 05:56:29.327     إلكترونيات    2024-05  \n",
       "1     2024-03-06 08:08:24.190     إلكترونيات    2024-03  \n",
       "2     2023-02-18 15:41:20.320     إلكترونيات    2023-02  \n",
       "3     2023-01-18 10:17:30.503     إلكترونيات    2023-01  \n",
       "4     2023-01-01 03:54:11.487     إلكترونيات    2023-01  \n",
       "...                       ...            ...        ...  \n",
       "62879 2018-08-28 19:16:42.617  خدمات الأعمال    2018-08  \n",
       "62880 2018-07-31 02:51:11.543  خدمات الأعمال    2018-07  \n",
       "62881 2018-07-22 16:43:45.897  خدمات الأعمال    2018-07  \n",
       "62882 2018-07-16 08:09:20.407  خدمات الأعمال    2018-07  \n",
       "62883 2018-07-16 06:12:50.920  خدمات الأعمال    2018-07  \n",
       "\n",
       "[62884 rows x 7 columns]"
      ]
     },
     "execution_count": 56,
     "metadata": {},
     "output_type": "execute_result"
    }
   ],
   "source": [
    "df"
   ]
  },
  {
   "cell_type": "code",
   "execution_count": 57,
   "metadata": {},
   "outputs": [],
   "source": [
    "df_allstores = pd.read_csv('all_stores.csv')\n"
   ]
  },
  {
   "cell_type": "code",
   "execution_count": 58,
   "metadata": {},
   "outputs": [
    {
     "data": {
      "text/html": [
       "<div>\n",
       "<style scoped>\n",
       "    .dataframe tbody tr th:only-of-type {\n",
       "        vertical-align: middle;\n",
       "    }\n",
       "\n",
       "    .dataframe tbody tr th {\n",
       "        vertical-align: top;\n",
       "    }\n",
       "\n",
       "    .dataframe thead th {\n",
       "        text-align: right;\n",
       "    }\n",
       "</style>\n",
       "<table border=\"1\" class=\"dataframe\">\n",
       "  <thead>\n",
       "    <tr style=\"text-align: right;\">\n",
       "      <th></th>\n",
       "      <th>Name</th>\n",
       "      <th>NameAr</th>\n",
       "      <th>LocalizedName</th>\n",
       "      <th>BusinessType</th>\n",
       "      <th>OtherTypeName</th>\n",
       "      <th>IsPopularBusiness</th>\n",
       "      <th>TotalReviews</th>\n",
       "      <th>Rating</th>\n",
       "      <th>Id</th>\n",
       "      <th>ActiveStatus</th>\n",
       "      <th>OwnerAllowStatus</th>\n",
       "      <th>CertificationStatus</th>\n",
       "    </tr>\n",
       "  </thead>\n",
       "  <tbody>\n",
       "    <tr>\n",
       "      <th>0</th>\n",
       "      <td>KidsOasis</td>\n",
       "      <td>واحة الأطفال</td>\n",
       "      <td>واحة الأطفال</td>\n",
       "      <td>إلكترونيات</td>\n",
       "      <td>NaN</td>\n",
       "      <td>False</td>\n",
       "      <td>1</td>\n",
       "      <td>5.0</td>\n",
       "      <td>318150</td>\n",
       "      <td>0</td>\n",
       "      <td>1</td>\n",
       "      <td>2</td>\n",
       "    </tr>\n",
       "    <tr>\n",
       "      <th>1</th>\n",
       "      <td>Hanat ajdadna</td>\n",
       "      <td>حنة اجدادنا</td>\n",
       "      <td>حنة اجدادنا</td>\n",
       "      <td>الجمال والصحة</td>\n",
       "      <td>NaN</td>\n",
       "      <td>False</td>\n",
       "      <td>1</td>\n",
       "      <td>5.0</td>\n",
       "      <td>318121</td>\n",
       "      <td>0</td>\n",
       "      <td>1</td>\n",
       "      <td>2</td>\n",
       "    </tr>\n",
       "    <tr>\n",
       "      <th>2</th>\n",
       "      <td>ARIS ALHALLOUL MOTAKAMLA Limited liability</td>\n",
       "      <td>شركة اريس الحلول المتكاملة المحدودة</td>\n",
       "      <td>شركة اريس الحلول المتكاملة المحدودة</td>\n",
       "      <td>أخرى</td>\n",
       "      <td>خدمات السفر السياحة</td>\n",
       "      <td>False</td>\n",
       "      <td>1</td>\n",
       "      <td>5.0</td>\n",
       "      <td>318099</td>\n",
       "      <td>0</td>\n",
       "      <td>1</td>\n",
       "      <td>1</td>\n",
       "    </tr>\n",
       "    <tr>\n",
       "      <th>3</th>\n",
       "      <td>ALTADAWOL ALEHTERAFY</td>\n",
       "      <td>التداول الإحترافي</td>\n",
       "      <td>التداول الإحترافي</td>\n",
       "      <td>التعليم</td>\n",
       "      <td>NaN</td>\n",
       "      <td>False</td>\n",
       "      <td>1</td>\n",
       "      <td>5.0</td>\n",
       "      <td>318090</td>\n",
       "      <td>0</td>\n",
       "      <td>1</td>\n",
       "      <td>2</td>\n",
       "    </tr>\n",
       "    <tr>\n",
       "      <th>4</th>\n",
       "      <td>Bankai Store</td>\n",
       "      <td>متجر بانكاي</td>\n",
       "      <td>متجر بانكاي</td>\n",
       "      <td>إلكترونيات</td>\n",
       "      <td>NaN</td>\n",
       "      <td>False</td>\n",
       "      <td>1</td>\n",
       "      <td>5.0</td>\n",
       "      <td>318087</td>\n",
       "      <td>0</td>\n",
       "      <td>1</td>\n",
       "      <td>2</td>\n",
       "    </tr>\n",
       "    <tr>\n",
       "      <th>...</th>\n",
       "      <td>...</td>\n",
       "      <td>...</td>\n",
       "      <td>...</td>\n",
       "      <td>...</td>\n",
       "      <td>...</td>\n",
       "      <td>...</td>\n",
       "      <td>...</td>\n",
       "      <td>...</td>\n",
       "      <td>...</td>\n",
       "      <td>...</td>\n",
       "      <td>...</td>\n",
       "      <td>...</td>\n",
       "    </tr>\n",
       "    <tr>\n",
       "      <th>66395</th>\n",
       "      <td>NaN</td>\n",
       "      <td>متجر انبوب الالكتروني</td>\n",
       "      <td>متجر انبوب الالكتروني</td>\n",
       "      <td>أخرى</td>\n",
       "      <td>NaN</td>\n",
       "      <td>False</td>\n",
       "      <td>0</td>\n",
       "      <td>0.0</td>\n",
       "      <td>121104</td>\n",
       "      <td>0</td>\n",
       "      <td>1</td>\n",
       "      <td>1</td>\n",
       "    </tr>\n",
       "    <tr>\n",
       "      <th>66396</th>\n",
       "      <td>raheebx</td>\n",
       "      <td>مؤسسة ابداعات رهيب للاتصالات</td>\n",
       "      <td>مؤسسة ابداعات رهيب للاتصالات</td>\n",
       "      <td>إلكترونيات</td>\n",
       "      <td>NaN</td>\n",
       "      <td>False</td>\n",
       "      <td>0</td>\n",
       "      <td>0.0</td>\n",
       "      <td>121097</td>\n",
       "      <td>0</td>\n",
       "      <td>1</td>\n",
       "      <td>1</td>\n",
       "    </tr>\n",
       "    <tr>\n",
       "      <th>66397</th>\n",
       "      <td>Datesgardenn</td>\n",
       "      <td>مؤسسة بساتين التمور</td>\n",
       "      <td>مؤسسة بساتين التمور</td>\n",
       "      <td>خدمات الأعمال</td>\n",
       "      <td>NaN</td>\n",
       "      <td>False</td>\n",
       "      <td>0</td>\n",
       "      <td>0.0</td>\n",
       "      <td>121085</td>\n",
       "      <td>0</td>\n",
       "      <td>1</td>\n",
       "      <td>1</td>\n",
       "    </tr>\n",
       "    <tr>\n",
       "      <th>66398</th>\n",
       "      <td>gifts Afnan</td>\n",
       "      <td>متجر هدايا أفنان</td>\n",
       "      <td>متجر هدايا أفنان</td>\n",
       "      <td>أخرى</td>\n",
       "      <td>NaN</td>\n",
       "      <td>False</td>\n",
       "      <td>0</td>\n",
       "      <td>0.0</td>\n",
       "      <td>121078</td>\n",
       "      <td>0</td>\n",
       "      <td>1</td>\n",
       "      <td>2</td>\n",
       "    </tr>\n",
       "    <tr>\n",
       "      <th>66399</th>\n",
       "      <td>The most powerful charger</td>\n",
       "      <td>الشاحن الأقوى</td>\n",
       "      <td>الشاحن الأقوى</td>\n",
       "      <td>إلكترونيات</td>\n",
       "      <td>NaN</td>\n",
       "      <td>False</td>\n",
       "      <td>0</td>\n",
       "      <td>0.0</td>\n",
       "      <td>121057</td>\n",
       "      <td>0</td>\n",
       "      <td>1</td>\n",
       "      <td>1</td>\n",
       "    </tr>\n",
       "  </tbody>\n",
       "</table>\n",
       "<p>66400 rows × 12 columns</p>\n",
       "</div>"
      ],
      "text/plain": [
       "                                              Name  \\\n",
       "0                                        KidsOasis   \n",
       "1                                    Hanat ajdadna   \n",
       "2       ARIS ALHALLOUL MOTAKAMLA Limited liability   \n",
       "3                             ALTADAWOL ALEHTERAFY   \n",
       "4                                     Bankai Store   \n",
       "...                                            ...   \n",
       "66395                                          NaN   \n",
       "66396                                      raheebx   \n",
       "66397                                Datesgardenn    \n",
       "66398                                 gifts Afnan    \n",
       "66399                    The most powerful charger   \n",
       "\n",
       "                                     NameAr  \\\n",
       "0                              واحة الأطفال   \n",
       "1                              حنة اجدادنا    \n",
       "2      شركة اريس الحلول المتكاملة المحدودة    \n",
       "3                         التداول الإحترافي   \n",
       "4                               متجر بانكاي   \n",
       "...                                     ...   \n",
       "66395                 متجر انبوب الالكتروني   \n",
       "66396          مؤسسة ابداعات رهيب للاتصالات   \n",
       "66397                   مؤسسة بساتين التمور   \n",
       "66398                     متجر هدايا أفنان    \n",
       "66399                        الشاحن الأقوى    \n",
       "\n",
       "                              LocalizedName   BusinessType  \\\n",
       "0                              واحة الأطفال     إلكترونيات   \n",
       "1                              حنة اجدادنا   الجمال والصحة   \n",
       "2      شركة اريس الحلول المتكاملة المحدودة            أخرى   \n",
       "3                         التداول الإحترافي        التعليم   \n",
       "4                               متجر بانكاي     إلكترونيات   \n",
       "...                                     ...            ...   \n",
       "66395                 متجر انبوب الالكتروني           أخرى   \n",
       "66396          مؤسسة ابداعات رهيب للاتصالات     إلكترونيات   \n",
       "66397                   مؤسسة بساتين التمور  خدمات الأعمال   \n",
       "66398                     متجر هدايا أفنان            أخرى   \n",
       "66399                        الشاحن الأقوى      إلكترونيات   \n",
       "\n",
       "             OtherTypeName  IsPopularBusiness  TotalReviews  Rating      Id  \\\n",
       "0                      NaN              False             1     5.0  318150   \n",
       "1                      NaN              False             1     5.0  318121   \n",
       "2      خدمات السفر السياحة              False             1     5.0  318099   \n",
       "3                      NaN              False             1     5.0  318090   \n",
       "4                      NaN              False             1     5.0  318087   \n",
       "...                    ...                ...           ...     ...     ...   \n",
       "66395                  NaN              False             0     0.0  121104   \n",
       "66396                  NaN              False             0     0.0  121097   \n",
       "66397                  NaN              False             0     0.0  121085   \n",
       "66398                  NaN              False             0     0.0  121078   \n",
       "66399                  NaN              False             0     0.0  121057   \n",
       "\n",
       "       ActiveStatus  OwnerAllowStatus  CertificationStatus  \n",
       "0                 0                 1                    2  \n",
       "1                 0                 1                    2  \n",
       "2                 0                 1                    1  \n",
       "3                 0                 1                    2  \n",
       "4                 0                 1                    2  \n",
       "...             ...               ...                  ...  \n",
       "66395             0                 1                    1  \n",
       "66396             0                 1                    1  \n",
       "66397             0                 1                    1  \n",
       "66398             0                 1                    2  \n",
       "66399             0                 1                    1  \n",
       "\n",
       "[66400 rows x 12 columns]"
      ]
     },
     "execution_count": 58,
     "metadata": {},
     "output_type": "execute_result"
    }
   ],
   "source": [
    "df_allstores"
   ]
  },
  {
   "cell_type": "code",
   "execution_count": null,
   "metadata": {},
   "outputs": [],
   "source": []
  }
 ],
 "metadata": {
  "kernelspec": {
   "display_name": "base",
   "language": "python",
   "name": "python3"
  },
  "language_info": {
   "codemirror_mode": {
    "name": "ipython",
    "version": 3
   },
   "file_extension": ".py",
   "mimetype": "text/x-python",
   "name": "python",
   "nbconvert_exporter": "python",
   "pygments_lexer": "ipython3",
   "version": "3.11.5"
  }
 },
 "nbformat": 4,
 "nbformat_minor": 2
}
